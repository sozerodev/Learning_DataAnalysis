{
 "cells": [
  {
   "cell_type": "markdown",
   "metadata": {},
   "source": [
    "# [Toxic Comment Classification Challenge - Kaggle](https://www.kaggle.com/c/jigsaw-toxic-comment-classification-challenge)\n",
    "### 악성 댓글을 식별하고 분류하기\n",
    "* 참고 : https://www.kaggle.com/jagangupta/stop-the-s-toxic-comments-eda"
   ]
  },
  {
   "cell_type": "code",
   "execution_count": 1,
   "metadata": {},
   "outputs": [],
   "source": [
    "# 출력데이터가 지저분하게 보이지 않도록 warnings을 불러왔다.\n",
    "import warnings\n",
    "warnings.filterwarnings('ignore')"
   ]
  },
  {
   "cell_type": "code",
   "execution_count": 2,
   "metadata": {},
   "outputs": [],
   "source": [
    "import pandas as pd \n",
    "import numpy as np\n",
    "\n",
    "# 시각화 \n",
    "import matplotlib.pyplot as plt\n",
    "import matplotlib.gridspec as gridspec \n",
    "import seaborn as sns\n",
    "import matplotlib_venn as venn\n",
    "\n",
    "import re\n",
    "import string\n",
    "import nltk\n",
    "from nltk.corpus import stopwords\n",
    "\n",
    "# FeatureEngineering\n",
    "from sklearn.feature_extraction.text import TfidfVectorizer, CountVectorizer, HashingVectorizer"
   ]
  },
  {
   "cell_type": "code",
   "execution_count": 3,
   "metadata": {},
   "outputs": [],
   "source": [
    "color = sns.color_palette()\n",
    "sns.set_style(\"dark\")\n",
    "\n",
    "%matplotlib inline"
   ]
  },
  {
   "cell_type": "code",
   "execution_count": 4,
   "metadata": {},
   "outputs": [
    {
     "data": {
      "text/plain": [
       "(159571, 8)"
      ]
     },
     "execution_count": 4,
     "metadata": {},
     "output_type": "execute_result"
    }
   ],
   "source": [
    "train = pd.read_csv(\"data/train.csv\")\n",
    "train.shape"
   ]
  },
  {
   "cell_type": "code",
   "execution_count": 5,
   "metadata": {},
   "outputs": [
    {
     "data": {
      "text/plain": [
       "(153164, 2)"
      ]
     },
     "execution_count": 5,
     "metadata": {},
     "output_type": "execute_result"
    }
   ],
   "source": [
    "test = pd.read_csv(\"data/test.csv\")\n",
    "test.shape"
   ]
  },
  {
   "cell_type": "code",
   "execution_count": 6,
   "metadata": {},
   "outputs": [
    {
     "data": {
      "text/html": [
       "<div>\n",
       "<style scoped>\n",
       "    .dataframe tbody tr th:only-of-type {\n",
       "        vertical-align: middle;\n",
       "    }\n",
       "\n",
       "    .dataframe tbody tr th {\n",
       "        vertical-align: top;\n",
       "    }\n",
       "\n",
       "    .dataframe thead th {\n",
       "        text-align: right;\n",
       "    }\n",
       "</style>\n",
       "<table border=\"1\" class=\"dataframe\">\n",
       "  <thead>\n",
       "    <tr style=\"text-align: right;\">\n",
       "      <th></th>\n",
       "      <th>id</th>\n",
       "      <th>comment_text</th>\n",
       "      <th>toxic</th>\n",
       "      <th>severe_toxic</th>\n",
       "      <th>obscene</th>\n",
       "      <th>threat</th>\n",
       "      <th>insult</th>\n",
       "      <th>identity_hate</th>\n",
       "    </tr>\n",
       "  </thead>\n",
       "  <tbody>\n",
       "    <tr>\n",
       "      <th>159566</th>\n",
       "      <td>ffe987279560d7ff</td>\n",
       "      <td>\":::::And for the second time of asking, when ...</td>\n",
       "      <td>0</td>\n",
       "      <td>0</td>\n",
       "      <td>0</td>\n",
       "      <td>0</td>\n",
       "      <td>0</td>\n",
       "      <td>0</td>\n",
       "    </tr>\n",
       "    <tr>\n",
       "      <th>159567</th>\n",
       "      <td>ffea4adeee384e90</td>\n",
       "      <td>You should be ashamed of yourself \\n\\nThat is ...</td>\n",
       "      <td>0</td>\n",
       "      <td>0</td>\n",
       "      <td>0</td>\n",
       "      <td>0</td>\n",
       "      <td>0</td>\n",
       "      <td>0</td>\n",
       "    </tr>\n",
       "    <tr>\n",
       "      <th>159568</th>\n",
       "      <td>ffee36eab5c267c9</td>\n",
       "      <td>Spitzer \\n\\nUmm, theres no actual article for ...</td>\n",
       "      <td>0</td>\n",
       "      <td>0</td>\n",
       "      <td>0</td>\n",
       "      <td>0</td>\n",
       "      <td>0</td>\n",
       "      <td>0</td>\n",
       "    </tr>\n",
       "    <tr>\n",
       "      <th>159569</th>\n",
       "      <td>fff125370e4aaaf3</td>\n",
       "      <td>And it looks like it was actually you who put ...</td>\n",
       "      <td>0</td>\n",
       "      <td>0</td>\n",
       "      <td>0</td>\n",
       "      <td>0</td>\n",
       "      <td>0</td>\n",
       "      <td>0</td>\n",
       "    </tr>\n",
       "    <tr>\n",
       "      <th>159570</th>\n",
       "      <td>fff46fc426af1f9a</td>\n",
       "      <td>\"\\nAnd ... I really don't think you understand...</td>\n",
       "      <td>0</td>\n",
       "      <td>0</td>\n",
       "      <td>0</td>\n",
       "      <td>0</td>\n",
       "      <td>0</td>\n",
       "      <td>0</td>\n",
       "    </tr>\n",
       "  </tbody>\n",
       "</table>\n",
       "</div>"
      ],
      "text/plain": [
       "                      id                                       comment_text  \\\n",
       "159566  ffe987279560d7ff  \":::::And for the second time of asking, when ...   \n",
       "159567  ffea4adeee384e90  You should be ashamed of yourself \\n\\nThat is ...   \n",
       "159568  ffee36eab5c267c9  Spitzer \\n\\nUmm, theres no actual article for ...   \n",
       "159569  fff125370e4aaaf3  And it looks like it was actually you who put ...   \n",
       "159570  fff46fc426af1f9a  \"\\nAnd ... I really don't think you understand...   \n",
       "\n",
       "        toxic  severe_toxic  obscene  threat  insult  identity_hate  \n",
       "159566      0             0        0       0       0              0  \n",
       "159567      0             0        0       0       0              0  \n",
       "159568      0             0        0       0       0              0  \n",
       "159569      0             0        0       0       0              0  \n",
       "159570      0             0        0       0       0              0  "
      ]
     },
     "execution_count": 6,
     "metadata": {},
     "output_type": "execute_result"
    }
   ],
   "source": [
    "train.tail()"
   ]
  },
  {
   "cell_type": "code",
   "execution_count": 7,
   "metadata": {},
   "outputs": [
    {
     "name": "stdout",
     "output_type": "stream",
     "text": [
      "* 전체 데이터에서 학습과 테스트셋의 비율로 학습셋이 약간 더 많다.\n",
      "       : train  : test\n",
      "행수    : 159571 : 153164\n",
      "전체비율 : 51     : 49\n"
     ]
    }
   ],
   "source": [
    "nrow_train = train.shape[0]\n",
    "nrow_test = test.shape[0]\n",
    "sum = nrow_train + nrow_test\n",
    "print(\"* 전체 데이터에서 학습과 테스트셋의 비율로 학습셋이 약간 더 많다.\")\n",
    "print(\"       : train  : test\")\n",
    "print(\"행수    :\", nrow_train, \":\", nrow_test)\n",
    "print(\"전체비율 :\", round(nrow_train*100/sum), \"    :\", round(nrow_test*100/sum))"
   ]
  },
  {
   "cell_type": "code",
   "execution_count": 8,
   "metadata": {},
   "outputs": [
    {
     "name": "stdout",
     "output_type": "stream",
     "text": [
      "학습셋의 결측치\n",
      "id               0\n",
      "comment_text     0\n",
      "toxic            0\n",
      "severe_toxic     0\n",
      "obscene          0\n",
      "threat           0\n",
      "insult           0\n",
      "identity_hate    0\n",
      "dtype: int64\n",
      "테스트셋의 결측치\n",
      "id              0\n",
      "comment_text    0\n",
      "dtype: int64\n",
      "\"unknown\"으로 되어 있는 NA데이터 채우기\n"
     ]
    }
   ],
   "source": [
    "print(\"학습셋의 결측치\")\n",
    "null_check=train.isnull().sum()\n",
    "print(null_check)\n",
    "print(\"테스트셋의 결측치\")\n",
    "null_check=test.isnull().sum()\n",
    "print(null_check)\n",
    "print(\"\\\"unknown\\\"으로 되어 있는 NA데이터 채우기\")\n",
    "train[\"comment_text\"].fillna(\"unknown\", inplace=True)\n",
    "test[\"comment_text\"].fillna(\"unknown\", inplace=True)"
   ]
  },
  {
   "cell_type": "code",
   "execution_count": 9,
   "metadata": {},
   "outputs": [
    {
     "data": {
      "text/html": [
       "<div>\n",
       "<style scoped>\n",
       "    .dataframe tbody tr th:only-of-type {\n",
       "        vertical-align: middle;\n",
       "    }\n",
       "\n",
       "    .dataframe tbody tr th {\n",
       "        vertical-align: top;\n",
       "    }\n",
       "\n",
       "    .dataframe thead th {\n",
       "        text-align: right;\n",
       "    }\n",
       "</style>\n",
       "<table border=\"1\" class=\"dataframe\">\n",
       "  <thead>\n",
       "    <tr style=\"text-align: right;\">\n",
       "      <th></th>\n",
       "      <th>toxic</th>\n",
       "      <th>severe_toxic</th>\n",
       "      <th>obscene</th>\n",
       "      <th>threat</th>\n",
       "      <th>insult</th>\n",
       "      <th>identity_hate</th>\n",
       "    </tr>\n",
       "  </thead>\n",
       "  <tbody>\n",
       "    <tr>\n",
       "      <th>0</th>\n",
       "      <td>0</td>\n",
       "      <td>0</td>\n",
       "      <td>0</td>\n",
       "      <td>0</td>\n",
       "      <td>0</td>\n",
       "      <td>0</td>\n",
       "    </tr>\n",
       "    <tr>\n",
       "      <th>1</th>\n",
       "      <td>0</td>\n",
       "      <td>0</td>\n",
       "      <td>0</td>\n",
       "      <td>0</td>\n",
       "      <td>0</td>\n",
       "      <td>0</td>\n",
       "    </tr>\n",
       "    <tr>\n",
       "      <th>2</th>\n",
       "      <td>0</td>\n",
       "      <td>0</td>\n",
       "      <td>0</td>\n",
       "      <td>0</td>\n",
       "      <td>0</td>\n",
       "      <td>0</td>\n",
       "    </tr>\n",
       "    <tr>\n",
       "      <th>3</th>\n",
       "      <td>0</td>\n",
       "      <td>0</td>\n",
       "      <td>0</td>\n",
       "      <td>0</td>\n",
       "      <td>0</td>\n",
       "      <td>0</td>\n",
       "    </tr>\n",
       "    <tr>\n",
       "      <th>4</th>\n",
       "      <td>0</td>\n",
       "      <td>0</td>\n",
       "      <td>0</td>\n",
       "      <td>0</td>\n",
       "      <td>0</td>\n",
       "      <td>0</td>\n",
       "    </tr>\n",
       "  </tbody>\n",
       "</table>\n",
       "</div>"
      ],
      "text/plain": [
       "   toxic  severe_toxic  obscene  threat  insult  identity_hate\n",
       "0      0             0        0       0       0              0\n",
       "1      0             0        0       0       0              0\n",
       "2      0             0        0       0       0              0\n",
       "3      0             0        0       0       0              0\n",
       "4      0             0        0       0       0              0"
      ]
     },
     "execution_count": 9,
     "metadata": {},
     "output_type": "execute_result"
    }
   ],
   "source": [
    "# 2번째 컬럼부터 데이터를 따로 담아본다.\n",
    "train.iloc[:,2:].head()"
   ]
  },
  {
   "cell_type": "code",
   "execution_count": 10,
   "metadata": {},
   "outputs": [
    {
     "data": {
      "text/plain": [
       "toxic            15294\n",
       "severe_toxic      1595\n",
       "obscene           8449\n",
       "threat             478\n",
       "insult            7877\n",
       "identity_hate     1405\n",
       "dtype: int64"
      ]
     },
     "execution_count": 10,
     "metadata": {},
     "output_type": "execute_result"
    }
   ],
   "source": [
    "x = train.iloc[:,2:].sum()\n",
    "x"
   ]
  },
  {
   "cell_type": "code",
   "execution_count": 11,
   "metadata": {},
   "outputs": [
    {
     "data": {
      "text/plain": [
       "0    0\n",
       "1    0\n",
       "2    0\n",
       "3    0\n",
       "4    0\n",
       "5    0\n",
       "6    4\n",
       "7    0\n",
       "8    0\n",
       "9    0\n",
       "dtype: int64"
      ]
     },
     "execution_count": 11,
     "metadata": {},
     "output_type": "execute_result"
    }
   ],
   "source": [
    "# row에 등장하는 숫자를 더한다.\n",
    "rowsums = train.iloc[:,2:].sum(axis=1)\n",
    "rowsums[:10]"
   ]
  },
  {
   "cell_type": "code",
   "execution_count": 12,
   "metadata": {},
   "outputs": [],
   "source": [
    "# row의 각 컬럼을 더한수가 0인 데이터는 clean 컬럼을 만들어 담아준다.\n",
    "train['clean'] = (rowsums==0)"
   ]
  },
  {
   "cell_type": "code",
   "execution_count": 13,
   "metadata": {},
   "outputs": [
    {
     "name": "stdout",
     "output_type": "stream",
     "text": [
      "전체 코멘트 수 =  159571\n",
      "전체 클린 코멘트 수 =  143346\n",
      "전체 태그 = 35098\n"
     ]
    }
   ],
   "source": [
    "# 악플이 아닌 데이터의 수\n",
    "train['clean'].sum()\n",
    "\n",
    "print(\"전체 코멘트 수 = \",len(train))\n",
    "print(\"전체 클린 코멘트 수 = \", train['clean'].sum())\n",
    "print(\"전체 태그 =\",x.sum())"
   ]
  },
  {
   "cell_type": "code",
   "execution_count": 14,
   "metadata": {},
   "outputs": [
    {
     "data": {
      "image/png": "[encoded data removed]",
      "text/plain": [
       "<matplotlib.figure.Figure at 0x11bc1c358>"
      ]
     },
     "metadata": {},
     "output_type": "display_data"
    }
   ],
   "source": [
    "plt.figure(figsize=(8,4))\n",
    "ax= sns.barplot(x.index, x.values, alpha=0.8)\n",
    "\n",
    "plt.title(\"# per class\")\n",
    "plt.ylabel('# of Occurrences', fontsize=12)\n",
    "plt.xlabel('Type ', fontsize=12)\n",
    "\n",
    "# 레이블 추가\n",
    "rects = ax.patches\n",
    "labels = x.values\n",
    "for rect, label in zip(rects, labels):\n",
    "    height = rect.get_height()\n",
    "    ax.text(rect.get_x() + rect.get_width()/2, height + 5, label, ha='center', va='bottom')\n",
    "\n",
    "plt.show()"
   ]
  },
  {
   "cell_type": "code",
   "execution_count": 15,
   "metadata": {},
   "outputs": [
    {
     "data": {
      "text/plain": [
       "0    143346\n",
       "1      6360\n",
       "3      4209\n",
       "2      3480\n",
       "4      1760\n",
       "5       385\n",
       "6        31\n",
       "dtype: int64"
      ]
     },
     "execution_count": 15,
     "metadata": {},
     "output_type": "execute_result"
    }
   ],
   "source": [
    "# 6개 항목 모두를 만족하는 데이터는 31건이다.\n",
    "x = rowsums.value_counts()\n",
    "x"
   ]
  },
  {
   "cell_type": "code",
   "execution_count": 16,
   "metadata": {},
   "outputs": [
    {
     "data": {
      "image/png": "[encoded data removed]",
      "text/plain": [
       "<matplotlib.figure.Figure at 0x105c95588>"
      ]
     },
     "metadata": {},
     "output_type": "display_data"
    }
   ],
   "source": [
    "plt.figure(figsize = (8,4))\n",
    "ax = sns.barplot(x.index, x.values, alpha = 0.8,color = color[2])\n",
    "plt.title(\"Multiple tags per comment\")\n",
    "plt.ylabel('# of Occurrences', fontsize=12)\n",
    "plt.xlabel('# of tags ', fontsize=12)\n",
    "\n",
    "#adding the text labels\n",
    "rects = ax.patches\n",
    "labels = x.values\n",
    "for rect, label in zip(rects, labels):\n",
    "    height = rect.get_height()\n",
    "    ax.text(rect.get_x() + rect.get_width()/2, height + 5, label, ha='center', va='bottom')\n",
    "\n",
    "plt.show()"
   ]
  },
  {
   "cell_type": "code",
   "execution_count": 17,
   "metadata": {},
   "outputs": [
    {
     "data": {
      "text/html": [
       "<div>\n",
       "<style scoped>\n",
       "    .dataframe tbody tr th:only-of-type {\n",
       "        vertical-align: middle;\n",
       "    }\n",
       "\n",
       "    .dataframe tbody tr th {\n",
       "        vertical-align: top;\n",
       "    }\n",
       "\n",
       "    .dataframe thead th {\n",
       "        text-align: right;\n",
       "    }\n",
       "</style>\n",
       "<table border=\"1\" class=\"dataframe\">\n",
       "  <thead>\n",
       "    <tr style=\"text-align: right;\">\n",
       "      <th></th>\n",
       "      <th>toxic</th>\n",
       "      <th>severe_toxic</th>\n",
       "      <th>obscene</th>\n",
       "      <th>threat</th>\n",
       "      <th>insult</th>\n",
       "      <th>identity_hate</th>\n",
       "    </tr>\n",
       "  </thead>\n",
       "  <tbody>\n",
       "    <tr>\n",
       "      <th>0</th>\n",
       "      <td>0</td>\n",
       "      <td>0</td>\n",
       "      <td>0</td>\n",
       "      <td>0</td>\n",
       "      <td>0</td>\n",
       "      <td>0</td>\n",
       "    </tr>\n",
       "    <tr>\n",
       "      <th>1</th>\n",
       "      <td>0</td>\n",
       "      <td>0</td>\n",
       "      <td>0</td>\n",
       "      <td>0</td>\n",
       "      <td>0</td>\n",
       "      <td>0</td>\n",
       "    </tr>\n",
       "    <tr>\n",
       "      <th>2</th>\n",
       "      <td>0</td>\n",
       "      <td>0</td>\n",
       "      <td>0</td>\n",
       "      <td>0</td>\n",
       "      <td>0</td>\n",
       "      <td>0</td>\n",
       "    </tr>\n",
       "    <tr>\n",
       "      <th>3</th>\n",
       "      <td>0</td>\n",
       "      <td>0</td>\n",
       "      <td>0</td>\n",
       "      <td>0</td>\n",
       "      <td>0</td>\n",
       "      <td>0</td>\n",
       "    </tr>\n",
       "    <tr>\n",
       "      <th>4</th>\n",
       "      <td>0</td>\n",
       "      <td>0</td>\n",
       "      <td>0</td>\n",
       "      <td>0</td>\n",
       "      <td>0</td>\n",
       "      <td>0</td>\n",
       "    </tr>\n",
       "  </tbody>\n",
       "</table>\n",
       "</div>"
      ],
      "text/plain": [
       "   toxic  severe_toxic  obscene  threat  insult  identity_hate\n",
       "0      0             0        0       0       0              0\n",
       "1      0             0        0       0       0              0\n",
       "2      0             0        0       0       0              0\n",
       "3      0             0        0       0       0              0\n",
       "4      0             0        0       0       0              0"
      ]
     },
     "execution_count": 17,
     "metadata": {},
     "output_type": "execute_result"
    }
   ],
   "source": [
    "temp_df = train.iloc[:,2:-1]\n",
    "temp_df.head()"
   ]
  },
  {
   "cell_type": "code",
   "execution_count": 18,
   "metadata": {},
   "outputs": [
    {
     "data": {
      "text/plain": [
       "<matplotlib.axes._subplots.AxesSubplot at 0x129f64f98>"
      ]
     },
     "execution_count": 18,
     "metadata": {},
     "output_type": "execute_result"
    },
    {
     "data": {
      "image/png": "[encoded data removed]",
      "text/plain": [
       "<matplotlib.figure.Figure at 0x105ca65f8>"
      ]
     },
     "metadata": {},
     "output_type": "display_data"
    }
   ],
   "source": [
    "# 악성댓글의 각 항목이 얼마나 연관관계가 있는지\n",
    "# obscene 와 threat 은 연관관계가 높다. 다음으로 obscene 와 toxic 도 연관관계가 높다\n",
    "corr = temp_df.corr()\n",
    "plt.figure(figsize = (10,8))\n",
    "sns.heatmap(corr,\n",
    "            xticklabels=corr.columns.values,\n",
    "            yticklabels=corr.columns.values, annot=True)"
   ]
  },
  {
   "cell_type": "markdown",
   "metadata": {},
   "source": [
    "https://pandas.pydata.org/pandas-docs/stable/style.html"
   ]
  },
  {
   "cell_type": "code",
   "execution_count": 19,
   "metadata": {},
   "outputs": [],
   "source": [
    "# https://pandas.pydata.org/pandas-docs/stable/style.html\n",
    "def highlight_min(data, color='yellow'):\n",
    "    '''\n",
    "    highlight the maximum in a Series or DataFrame\n",
    "    '''\n",
    "    attr = 'background-color: {}'.format(color)\n",
    "    if data.ndim == 1:  # Series from .apply(axis=0) or axis=1\n",
    "        is_min = data == data.min()\n",
    "        return [attr if v else '' for v in is_min]\n",
    "    else:  # from .apply(axis=None)\n",
    "        is_max = data == data.min().min()\n",
    "        return pd.DataFrame(np.where(is_min, attr, ''),\n",
    "                            index=data.index, columns=data.columns)"
   ]
  },
  {
   "cell_type": "code",
   "execution_count": 20,
   "metadata": {},
   "outputs": [
    {
     "data": {
      "text/html": [
       "<style  type=\"text/css\" >\n",
       "    #T_7271f918_86a5_11e8_b25e_4a00026d1390row0_col1 {\n",
       "            background-color:  yellow;\n",
       "        }    #T_7271f918_86a5_11e8_b25e_4a00026d1390row0_col3 {\n",
       "            background-color:  yellow;\n",
       "        }    #T_7271f918_86a5_11e8_b25e_4a00026d1390row0_col5 {\n",
       "            background-color:  yellow;\n",
       "        }    #T_7271f918_86a5_11e8_b25e_4a00026d1390row0_col7 {\n",
       "            background-color:  yellow;\n",
       "        }    #T_7271f918_86a5_11e8_b25e_4a00026d1390row0_col9 {\n",
       "            background-color:  yellow;\n",
       "        }    #T_7271f918_86a5_11e8_b25e_4a00026d1390row1_col0 {\n",
       "            background-color:  yellow;\n",
       "        }    #T_7271f918_86a5_11e8_b25e_4a00026d1390row1_col2 {\n",
       "            background-color:  yellow;\n",
       "        }    #T_7271f918_86a5_11e8_b25e_4a00026d1390row1_col4 {\n",
       "            background-color:  yellow;\n",
       "        }    #T_7271f918_86a5_11e8_b25e_4a00026d1390row1_col6 {\n",
       "            background-color:  yellow;\n",
       "        }    #T_7271f918_86a5_11e8_b25e_4a00026d1390row1_col8 {\n",
       "            background-color:  yellow;\n",
       "        }</style>  \n",
       "<table id=\"T_7271f918_86a5_11e8_b25e_4a00026d1390\" > \n",
       "<thead>    <tr> \n",
       "        <th class=\"blank level0\" ></th> \n",
       "        <th class=\"col_heading level0 col0\" colspan=2>severe_toxic</th> \n",
       "        <th class=\"col_heading level0 col2\" colspan=2>obscene</th> \n",
       "        <th class=\"col_heading level0 col4\" colspan=2>threat</th> \n",
       "        <th class=\"col_heading level0 col6\" colspan=2>insult</th> \n",
       "        <th class=\"col_heading level0 col8\" colspan=2>identity_hate</th> \n",
       "    </tr>    <tr> \n",
       "        <th class=\"index_name level1\" >severe_toxic</th> \n",
       "        <th class=\"col_heading level1 col0\" >0</th> \n",
       "        <th class=\"col_heading level1 col1\" >1</th> \n",
       "        <th class=\"col_heading level1 col2\" >0</th> \n",
       "        <th class=\"col_heading level1 col3\" >1</th> \n",
       "        <th class=\"col_heading level1 col4\" >0</th> \n",
       "        <th class=\"col_heading level1 col5\" >1</th> \n",
       "        <th class=\"col_heading level1 col6\" >0</th> \n",
       "        <th class=\"col_heading level1 col7\" >1</th> \n",
       "        <th class=\"col_heading level1 col8\" >0</th> \n",
       "        <th class=\"col_heading level1 col9\" >1</th> \n",
       "    </tr>    <tr> \n",
       "        <th class=\"index_name level0\" >toxic</th> \n",
       "        <th class=\"blank\" ></th> \n",
       "        <th class=\"blank\" ></th> \n",
       "        <th class=\"blank\" ></th> \n",
       "        <th class=\"blank\" ></th> \n",
       "        <th class=\"blank\" ></th> \n",
       "        <th class=\"blank\" ></th> \n",
       "        <th class=\"blank\" ></th> \n",
       "        <th class=\"blank\" ></th> \n",
       "        <th class=\"blank\" ></th> \n",
       "        <th class=\"blank\" ></th> \n",
       "    </tr></thead> \n",
       "<tbody>    <tr> \n",
       "        <th id=\"T_7271f918_86a5_11e8_b25e_4a00026d1390level0_row0\" class=\"row_heading level0 row0\" >0</th> \n",
       "        <td id=\"T_7271f918_86a5_11e8_b25e_4a00026d1390row0_col0\" class=\"data row0 col0\" >144277</td> \n",
       "        <td id=\"T_7271f918_86a5_11e8_b25e_4a00026d1390row0_col1\" class=\"data row0 col1\" >0</td> \n",
       "        <td id=\"T_7271f918_86a5_11e8_b25e_4a00026d1390row0_col2\" class=\"data row0 col2\" >143754</td> \n",
       "        <td id=\"T_7271f918_86a5_11e8_b25e_4a00026d1390row0_col3\" class=\"data row0 col3\" >523</td> \n",
       "        <td id=\"T_7271f918_86a5_11e8_b25e_4a00026d1390row0_col4\" class=\"data row0 col4\" >144248</td> \n",
       "        <td id=\"T_7271f918_86a5_11e8_b25e_4a00026d1390row0_col5\" class=\"data row0 col5\" >29</td> \n",
       "        <td id=\"T_7271f918_86a5_11e8_b25e_4a00026d1390row0_col6\" class=\"data row0 col6\" >143744</td> \n",
       "        <td id=\"T_7271f918_86a5_11e8_b25e_4a00026d1390row0_col7\" class=\"data row0 col7\" >533</td> \n",
       "        <td id=\"T_7271f918_86a5_11e8_b25e_4a00026d1390row0_col8\" class=\"data row0 col8\" >144174</td> \n",
       "        <td id=\"T_7271f918_86a5_11e8_b25e_4a00026d1390row0_col9\" class=\"data row0 col9\" >103</td> \n",
       "    </tr>    <tr> \n",
       "        <th id=\"T_7271f918_86a5_11e8_b25e_4a00026d1390level0_row1\" class=\"row_heading level0 row1\" >1</th> \n",
       "        <td id=\"T_7271f918_86a5_11e8_b25e_4a00026d1390row1_col0\" class=\"data row1 col0\" >13699</td> \n",
       "        <td id=\"T_7271f918_86a5_11e8_b25e_4a00026d1390row1_col1\" class=\"data row1 col1\" >1595</td> \n",
       "        <td id=\"T_7271f918_86a5_11e8_b25e_4a00026d1390row1_col2\" class=\"data row1 col2\" >7368</td> \n",
       "        <td id=\"T_7271f918_86a5_11e8_b25e_4a00026d1390row1_col3\" class=\"data row1 col3\" >7926</td> \n",
       "        <td id=\"T_7271f918_86a5_11e8_b25e_4a00026d1390row1_col4\" class=\"data row1 col4\" >14845</td> \n",
       "        <td id=\"T_7271f918_86a5_11e8_b25e_4a00026d1390row1_col5\" class=\"data row1 col5\" >449</td> \n",
       "        <td id=\"T_7271f918_86a5_11e8_b25e_4a00026d1390row1_col6\" class=\"data row1 col6\" >7950</td> \n",
       "        <td id=\"T_7271f918_86a5_11e8_b25e_4a00026d1390row1_col7\" class=\"data row1 col7\" >7344</td> \n",
       "        <td id=\"T_7271f918_86a5_11e8_b25e_4a00026d1390row1_col8\" class=\"data row1 col8\" >13992</td> \n",
       "        <td id=\"T_7271f918_86a5_11e8_b25e_4a00026d1390row1_col9\" class=\"data row1 col9\" >1302</td> \n",
       "    </tr></tbody> \n",
       "</table> "
      ],
      "text/plain": [
       "<pandas.io.formats.style.Styler at 0x11bf1c358>"
      ]
     },
     "execution_count": 20,
     "metadata": {},
     "output_type": "execute_result"
    }
   ],
   "source": [
    "# Crosstab\n",
    "# 6개 클래스를 크로스해서 보기는 어렵기 때문에 다른 태그와 함께 유해성을 본다.\n",
    "\n",
    "main_col=\"toxic\"\n",
    "corr_mats=[]\n",
    "for other_col in temp_df.columns[1:]:\n",
    "    confusion_matrix = pd.crosstab(temp_df[main_col], temp_df[other_col])\n",
    "    corr_mats.append(confusion_matrix)\n",
    "out = pd.concat(corr_mats,axis=1,keys=temp_df.columns[1:])\n",
    "\n",
    "# 체스판처럼 셀 배경색을 구분해 본다.\n",
    "out = out.style.apply(highlight_min,axis=0)\n",
    "out"
   ]
  },
  {
   "cell_type": "code",
   "execution_count": 21,
   "metadata": {},
   "outputs": [
    {
     "data": {
      "text/plain": [
       "(312735, 2)"
      ]
     },
     "execution_count": 21,
     "metadata": {},
     "output_type": "execute_result"
    }
   ],
   "source": [
    "merge = pd.concat([train.iloc[:,0:2],test.iloc[:,0:2]])\n",
    "df = merge.reset_index(drop=True)\n",
    "df.shape"
   ]
  },
  {
   "cell_type": "code",
   "execution_count": 22,
   "metadata": {},
   "outputs": [],
   "source": [
    "# 각 댓글의 문장 수\n",
    "df['count_sent'] = df['comment_text'].apply(lambda x: len(re.findall(\"\\n\",str(x)))+1)"
   ]
  },
  {
   "cell_type": "code",
   "execution_count": 23,
   "metadata": {},
   "outputs": [],
   "source": [
    "# 각 댓글의 단어 수\n",
    "df['count_word'] = df['comment_text'].apply(lambda x: len(str(x).split()))"
   ]
  },
  {
   "cell_type": "code",
   "execution_count": 24,
   "metadata": {},
   "outputs": [],
   "source": [
    "# 고유한 단어 수\n",
    "df['count_unique_word'] = df['comment_text'].apply(lambda x: len(set(str(x).split())))"
   ]
  },
  {
   "cell_type": "code",
   "execution_count": 25,
   "metadata": {},
   "outputs": [],
   "source": [
    "# 글자수\n",
    "df['count_letters'] = df['comment_text'].apply(lambda x: len(str(x)))"
   ]
  },
  {
   "cell_type": "code",
   "execution_count": 26,
   "metadata": {},
   "outputs": [],
   "source": [
    "# 구두점 수\n",
    "df['count_punctuations'] = df['comment_text'].apply(lambda x: len([c for c in str(x) if c in string.punctuation]))"
   ]
  },
  {
   "cell_type": "code",
   "execution_count": 27,
   "metadata": {},
   "outputs": [],
   "source": [
    "# 대문자 수\n",
    "df['count_words_upper'] = df['comment_text'].apply(lambda x: len([w for w in str(x).split() if w.isupper()]))"
   ]
  },
  {
   "cell_type": "code",
   "execution_count": 28,
   "metadata": {},
   "outputs": [],
   "source": [
    "# 타이틀 단어 수\n",
    "df['count_words_title'] = df['comment_text'].apply(lambda x: len([w for w in str(x).split() if w.istitle()]))"
   ]
  },
  {
   "cell_type": "code",
   "execution_count": 29,
   "metadata": {},
   "outputs": [],
   "source": [
    "# 불용어 수\n",
    "eng_stopwords = set(stopwords.words(\"english\"))\n",
    "df['count_stopwords'] = df['comment_text'].apply(lambda x: len([w for w in str(x).lower().split() if w in eng_stopwords]))"
   ]
  },
  {
   "cell_type": "code",
   "execution_count": 30,
   "metadata": {},
   "outputs": [],
   "source": [
    "# 단어 길이 중간값\n",
    "df[\"mean_word_len\"] = df[\"comment_text\"].apply(lambda x: np.mean([len(w) for w in str(x).split()]))"
   ]
  },
  {
   "cell_type": "code",
   "execution_count": 31,
   "metadata": {},
   "outputs": [
    {
     "data": {
      "text/plain": [
       "(312735, 11)"
      ]
     },
     "execution_count": 31,
     "metadata": {},
     "output_type": "execute_result"
    }
   ],
   "source": [
    "df.shape"
   ]
  },
  {
   "cell_type": "code",
   "execution_count": 32,
   "metadata": {},
   "outputs": [],
   "source": [
    "# 각 코멘트의 유니크한 단어 수\n",
    "df['word_unique_percent'] = df['count_unique_word'] * 100 / df['count_word']# 구두점 비율\n",
    "df['punct_percent'] = df['count_punctuations'] * 100 / df['count_word']"
   ]
  },
  {
   "cell_type": "code",
   "execution_count": 33,
   "metadata": {},
   "outputs": [],
   "source": [
    "# train, test feature로 나눔\n",
    "train_feats = df.iloc[0:len(train),]\n",
    "test_feats = df.iloc[len(train):,]\n",
    "# 태그 연결\n",
    "train_tags = train.iloc[:,2:]\n",
    "train_feats = pd.concat([train_feats, train_tags], axis=1)"
   ]
  },
  {
   "cell_type": "code",
   "execution_count": 34,
   "metadata": {},
   "outputs": [
    {
     "data": {
      "image/png": "[encoded data removed]",
      "text/plain": [
       "<matplotlib.figure.Figure at 0x11bc0f2b0>"
      ]
     },
     "metadata": {},
     "output_type": "display_data"
    }
   ],
   "source": [
    "train_feats['count_sent'].loc[train_feats['count_sent'] > 10] = 10 \n",
    "plt.figure(figsize=(12,6))\n",
    "\n",
    "# 문장의 길이가 유해함과 연관이 있는지\n",
    "# sentenses\n",
    "plt.subplot(121)\n",
    "plt.suptitle(\"Are longer comments more toxic?\", fontsize=20)\n",
    "sns.violinplot(y='count_sent', x='clean', data=train_feats,split=True)\n",
    "plt.xlabel('Clean?', fontsize=12)\n",
    "plt.ylabel('# of sentences', fontsize=12)\n",
    "plt.title(\"Number of sentences in each comment\", fontsize=15)\n",
    "# words\n",
    "train_feats['count_word'].loc[train_feats['count_word'] > 200] = 200\n",
    "plt.subplot(122)\n",
    "sns.violinplot(y='count_word', x='clean', data=train_feats, split=True, inner=\"quart\")\n",
    "plt.xlabel('Clean?', fontsize=12)\n",
    "plt.ylabel('# of words', fontsize=12)\n",
    "plt.title(\"Number of words in each comment\", fontsize=15)\n",
    "\n",
    "plt.show()"
   ]
  },
  {
   "cell_type": "code",
   "execution_count": 35,
   "metadata": {},
   "outputs": [
    {
     "data": {
      "text/html": [
       "<div>\n",
       "<style scoped>\n",
       "    .dataframe tbody tr th:only-of-type {\n",
       "        vertical-align: middle;\n",
       "    }\n",
       "\n",
       "    .dataframe tbody tr th {\n",
       "        vertical-align: top;\n",
       "    }\n",
       "\n",
       "    .dataframe thead th {\n",
       "        text-align: right;\n",
       "    }\n",
       "</style>\n",
       "<table border=\"1\" class=\"dataframe\">\n",
       "  <thead>\n",
       "    <tr style=\"text-align: right;\">\n",
       "      <th></th>\n",
       "      <th>clean</th>\n",
       "      <th>variable</th>\n",
       "      <th>value</th>\n",
       "    </tr>\n",
       "  </thead>\n",
       "  <tbody>\n",
       "    <tr>\n",
       "      <th>0</th>\n",
       "      <td>True</td>\n",
       "      <td>count_word</td>\n",
       "      <td>43</td>\n",
       "    </tr>\n",
       "    <tr>\n",
       "      <th>1</th>\n",
       "      <td>True</td>\n",
       "      <td>count_word</td>\n",
       "      <td>17</td>\n",
       "    </tr>\n",
       "    <tr>\n",
       "      <th>2</th>\n",
       "      <td>True</td>\n",
       "      <td>count_word</td>\n",
       "      <td>42</td>\n",
       "    </tr>\n",
       "    <tr>\n",
       "      <th>3</th>\n",
       "      <td>True</td>\n",
       "      <td>count_word</td>\n",
       "      <td>113</td>\n",
       "    </tr>\n",
       "    <tr>\n",
       "      <th>4</th>\n",
       "      <td>True</td>\n",
       "      <td>count_word</td>\n",
       "      <td>13</td>\n",
       "    </tr>\n",
       "  </tbody>\n",
       "</table>\n",
       "</div>"
      ],
      "text/plain": [
       "   clean    variable  value\n",
       "0   True  count_word     43\n",
       "1   True  count_word     17\n",
       "2   True  count_word     42\n",
       "3   True  count_word    113\n",
       "4   True  count_word     13"
      ]
     },
     "execution_count": 35,
     "metadata": {},
     "output_type": "execute_result"
    }
   ],
   "source": [
    "train_feats['count_unique_word'].loc[train_feats['count_unique_word'] > 200] = 200\n",
    "# 바이올린 플롯을 나눠 보기 위해 준비\n",
    "temp_df = pd.melt(train_feats, value_vars=['count_word', 'count_unique_word'], id_vars='clean')\n",
    "temp_df.head()"
   ]
  },
  {
   "cell_type": "code",
   "execution_count": 36,
   "metadata": {},
   "outputs": [],
   "source": [
    "# 스패머 - 30%미만의 유니크 워드로 comments를 작성하는 사람으로 정의\n",
    "spammers = train_feats[train_feats['word_unique_percent'] < 30]"
   ]
  },
  {
   "cell_type": "code",
   "execution_count": 37,
   "metadata": {},
   "outputs": [
    {
     "data": {
      "image/png": "[encoded data removed]",
      "text/plain": [
       "<matplotlib.figure.Figure at 0x124c3cc18>"
      ]
     },
     "metadata": {},
     "output_type": "display_data"
    }
   ],
   "source": [
    "# 유니크 단어 \n",
    "plt.figure(figsize=(16,12))\n",
    "gridspec.GridSpec(2,2)\n",
    "plt.subplot2grid((2,2),(0,0))\n",
    "sns.violinplot(x='variable', y='value', hue='clean', data=temp_df, split=True, inner='quartile')\n",
    "plt.title(\"Absolute wordcount and unique words count\")\n",
    "plt.xlabel('Feature', fontsize=12)\n",
    "plt.ylabel('Count', fontsize=12)\n",
    "\n",
    "plt.subplot2grid((2,2),(0,1))\n",
    "plt.title(\"Percentage of unique words of total words in comment\")\n",
    "ax= sns.kdeplot(train_feats[train_feats.clean == 0].word_unique_percent, label=\"Bad\",shade=True,color='r')\n",
    "ax= sns.kdeplot(train_feats[train_feats.clean == 1].word_unique_percent, label=\"Clean\")\n",
    "plt.legend()\n",
    "plt.ylabel('Number of occurances', fontsize=12)\n",
    "plt.xlabel('Percent unique words', fontsize=12)\n",
    "\n",
    "x = spammers.iloc[:,-7:].sum()\n",
    "plt.subplot2grid((2,2), (1,0), colspan = 2)\n",
    "plt.title(\"Count of comments with low(<30%) unique words\", fontsize=15)\n",
    "ax=sns.barplot(x=x.index, y=x.values, color=color[3])\n",
    "\n",
    "# label 추가\n",
    "rects = ax.patches\n",
    "labels = x.values\n",
    "for rect, label in zip(rects, labels):\n",
    "    height = rect.get_height()\n",
    "    ax.text(rect.get_x() + rect.get_width()/2, height + 5, label, ha='center', va='bottom')\n",
    "\n",
    "plt.xlabel('Threat class', fontsize=12)\n",
    "plt.ylabel('# of comments', fontsize=12)\n",
    "plt.show()"
   ]
  },
  {
   "cell_type": "markdown",
   "metadata": {},
   "source": [
    "## 단어 수 VS 고유 단어수\n",
    "봐줄만한 스팸과 불쾌한 스팸을 출력해 본다.\n",
    "불쾌한 스팸은 일부만 출력했다."
   ]
  },
  {
   "cell_type": "code",
   "execution_count": 38,
   "metadata": {},
   "outputs": [
    {
     "name": "stdout",
     "output_type": "stream",
     "text": [
      "Clean Spam example:\n",
      "Towns and Villages in Ark-La-Tex]]\n",
      " Cities, boroughs and towns in the Republic of Ireland\n",
      " Cities, boroughs, and townships along the Susquehanna River\n",
      " Cities, towns and villages in Alborz Province\n",
      " Cities, towns and villages in Ardabil Province\n",
      " Cities, towns and villages in Bhutan\n",
      " Cities, towns and villages in Bushehr Province\n",
      " Cities, towns and villages in Chaharmahal and Bakhtiari Province\n",
      " Cities, towns and villages in Cyprus\n",
      " Cities, towns and villages in Dutch Limburg\n",
      " Cities, towns and villages in East Azerbaijan Province\n",
      " Cities, towns and villages in East Timor\n",
      " Cities, towns and villages in Fars Province\n",
      " Cities, towns and villages in Flevoland\n",
      " Cities, towns and villages in Friesland\n",
      " Cities, towns and villages in Gelderland\n",
      " Cities, towns and villages in Gilan Province\n",
      " Cities, towns and villages in Golestan Province\n",
      " Cities, towns and villages in Groningen\n",
      " Cities, towns and villages in Hamadan Province\n",
      " Cities, towns and villages in Hormozgan Province\n",
      " Cities, towns and villages in Ilam Province\n",
      " Cities, towns and villages in Isfahan Province\n",
      " Cities, towns and villages in Kerman Province\n",
      " Cities, towns and villages in Kermanshah Province\n",
      " Cities, towns and villages in Khuzestan Province\n",
      " Cities, towns and villages in Kohgiluyeh and Boyer-Ahmad Province\n",
      " Cities, towns and villages in Kurdistan Province\n",
      " Cities, towns and villages in Lorestan Province\n",
      " Cities, towns and villages in Markazi Province\n",
      " Cities, towns and villages in Mazandaran Province\n",
      " Cities, towns and villages in North Brabant\n",
      " Cities, towns and villages in North Holland\n",
      " Cities, towns and villages in North Khorasan Province\n",
      " Cities, towns and villages in Overijssel\n",
      " Cities, towns and villages in Qazvin Province\n",
      " Cities, towns and villages in Qom Province\n",
      " Cities, towns and villages in Razavi Khorasan Province\n",
      " Cities, towns and villages in Saint Vincent and the Grenadines\n",
      " Cities, towns and villages in Samoa\n",
      " Cities, towns and villages in Semnan Province\n",
      " Cities, towns and villages in Sistan and Baluchestan Province\n",
      " Cities, towns and villages in South Holland\n",
      " Cities, towns and villages in South Khorasan Province\n",
      " Cities, towns and villages in Tehran Province\n",
      " Cities, towns and villages in Turkmenistan\n",
      " Cities, towns and villages in Utrecht\n",
      " Cities, towns and villages in Vojvodina\n",
      " Cities, towns and villages in West Azerbaijan Province\n",
      " Cities, towns and villages in Yazd Province\n",
      " Cities, towns and villages in Zanjan Province\n",
      " Cities, towns and villages in Zeeland\n",
      " Cities, towns and villages in the Maldives\n",
      " Cities, towns and villages in the Solomon Islands\n",
      " Cities, towns, and villages in Békés county\n",
      " Cities, towns, and villages in Louisiana\n",
      "Toxic Spam example:\n",
      "User:NHRHS2010 is a homo like mitt romney is. \n",
      "User:NHRHS2010 is a homo like mitt romney is.\n",
      " User:Enigmaman is a homo like mitt romney is. \n",
      "User:Enigmaman is a homo like mitt romney is.\n",
      " User:NHRHS20\n"
     ]
    }
   ],
   "source": [
    "print(\"Clean Spam example:\")\n",
    "print(spammers[spammers.clean == 1].comment_text.iloc[1])\n",
    "print(\"Toxic Spam example:\")\n",
    "print(spammers[spammers.toxic == 1].comment_text.iloc[2][:200])"
   ]
  },
  {
   "cell_type": "markdown",
   "metadata": {},
   "source": [
    "* comment_text 에서 정규표현식으로 ip, link, article_id, username을 추출해서 길이를 구해본다."
   ]
  },
  {
   "cell_type": "code",
   "execution_count": 39,
   "metadata": {},
   "outputs": [],
   "source": [
    "df['ip'] = df[\"comment_text\"].apply(lambda x: re.findall(\"\\d{1,3}\\.\\d{1,3}\\.\\d{1,3}\\.\\d{1,3}\",str(x)))\n",
    "df['count_ip'] = df[\"ip\"].apply(lambda x: len(x))\n",
    "\n",
    "df['link'] = df[\"comment_text\"].apply(lambda x: re.findall(\"http://.*com\",str(x)))\n",
    "df['count_links'] = df[\"link\"].apply(lambda x: len(x))\n",
    "\n",
    "df['article_id'] = df[\"comment_text\"].apply(lambda x: re.findall(\"\\d:\\d\\d\\s{0,5}$\",str(x)))\n",
    "df['article_id_flag'] = df.article_id.apply(lambda x: len(x))\n",
    "\n",
    "df['username'] = df[\"comment_text\"].apply(lambda x: re.findall(\"\\[\\[User(.*)\\|\",str(x)))\n",
    "df['count_usernames'] = df[\"username\"].apply(lambda x: len(x))"
   ]
  },
  {
   "cell_type": "markdown",
   "metadata": {},
   "source": [
    "* 코멘트에서 추출한 ip와 username을 벡터화 해준다. Bag Of Words 방식으로 CountVectorizer()를 사용하여 벡터화 한다."
   ]
  },
  {
   "cell_type": "code",
   "execution_count": 40,
   "metadata": {},
   "outputs": [],
   "source": [
    "cv = CountVectorizer()\n",
    "count_feats_ip = cv.fit_transform(df[\"ip\"].apply(lambda x : str(x)))\n",
    "\n",
    "cv = CountVectorizer()\n",
    "count_feats_user = cv.fit_transform(df[\"username\"].apply(lambda x : str(x)))"
   ]
  },
  {
   "cell_type": "code",
   "execution_count": 41,
   "metadata": {},
   "outputs": [
    {
     "data": {
      "text/plain": [
       "'2010]]\\n[[User talk:Wikireader41/Archive4|Archive 5-Mar 15'"
      ]
     },
     "execution_count": 41,
     "metadata": {},
     "output_type": "execute_result"
    }
   ],
   "source": [
    "df[df.count_usernames != 0].comment_text.iloc[0]"
   ]
  },
  {
   "cell_type": "code",
   "execution_count": 42,
   "metadata": {},
   "outputs": [
    {
     "data": {
      "text/plain": [
       "['color',\n",
       " 'colorprobe',\n",
       " 'condemn',\n",
       " 'contribs',\n",
       " 'contributions',\n",
       " 'cool',\n",
       " 'corvoe',\n",
       " 'crash',\n",
       " 'cyphoidbomb',\n",
       " 'dalbury',\n",
       " 'danielfolsom',\n",
       " 'dante',\n",
       " 'datbitch',\n",
       " 'dc',\n",
       " 'ddstretch',\n",
       " 'de',\n",
       " 'december',\n",
       " 'deiz',\n",
       " 'deltaquad',\n",
       " 'dennis']"
      ]
     },
     "execution_count": 42,
     "metadata": {},
     "output_type": "execute_result"
    }
   ],
   "source": [
    "# 어떤 피처가 있는지 확인해 본다.\n",
    "cv.get_feature_names()[100:120]"
   ]
  },
  {
   "cell_type": "markdown",
   "metadata": {},
   "source": [
    "## 피처 생성"
   ]
  },
  {
   "cell_type": "code",
   "execution_count": 43,
   "metadata": {},
   "outputs": [],
   "source": [
    "leaky_feats = df[[\"ip\",\"link\", \"article_id\", \"username\", \"count_ip\", \"count_links\", \"count_usernames\", \"article_id_flag\"]]\n",
    "leaky_feats_train = leaky_feats.iloc[:train.shape[0]]\n",
    "leaky_feats_test = leaky_feats.iloc[train.shape[0]:]"
   ]
  },
  {
   "cell_type": "code",
   "execution_count": 44,
   "metadata": {},
   "outputs": [],
   "source": [
    "# ip 만 따로 모으기\n",
    "train_ips = leaky_feats_train.ip[leaky_feats_train.count_ip!=0]\n",
    "test_ips = leaky_feats_test.ip[leaky_feats_test.count_ip!=0]\n",
    "\n",
    "# 고유한 ip들을 가져옴\n",
    "train_ip_list = list(set([a for b in train_ips.tolist() for a in b]))\n",
    "test_ip_list = list(set([a for b in test_ips.tolist() for a in b]))"
   ]
  },
  {
   "cell_type": "code",
   "execution_count": 45,
   "metadata": {},
   "outputs": [
    {
     "data": {
      "image/png": "[encoded data removed]",
      "text/plain": [
       "<matplotlib.figure.Figure at 0x124c3c5c0>"
      ]
     },
     "metadata": {},
     "output_type": "display_data"
    }
   ],
   "source": [
    "# 학습세트와 테스트세트의 고유한 IP 갯수와 공통 IP 갯수\n",
    "# 학습세트에 훨씬 많은 IP가 있다.\n",
    "common_ip_list = list(set(train_ip_list).intersection(test_ip_list))\n",
    "plt.title(\"Common IP addresses\")\n",
    "venn.venn2(subsets=(len(train_ip_list),len(test_ip_list),len(common_ip_list)),set_labels=(\"# of unique IP in train\",\"# of unique IP in test\"))\n",
    "plt.show()"
   ]
  },
  {
   "cell_type": "code",
   "execution_count": 46,
   "metadata": {},
   "outputs": [],
   "source": [
    "# 링크가 있는 코멘트를 모은다.\n",
    "train_links = leaky_feats_train.link[leaky_feats_train.count_links != 0]\n",
    "test_links = leaky_feats_test.link[leaky_feats_test.count_links != 0]\n",
    "\n",
    "# 고유한 링크 추출\n",
    "train_links_list = list(set([a for b in train_links.tolist() for a in b]))\n",
    "test_links_list = list(set([a for b in test_links.tolist() for a in b]))\n",
    "\n",
    "# 학습세트와 테스트세트의 공통 링크 목록\n",
    "common_links_list = list(set(train_links_list).intersection(test_links_list))"
   ]
  },
  {
   "cell_type": "code",
   "execution_count": 47,
   "metadata": {},
   "outputs": [
    {
     "data": {
      "image/png": "[encoded data removed]",
      "text/plain": [
       "<matplotlib.figure.Figure at 0x1238445c0>"
      ]
     },
     "metadata": {},
     "output_type": "display_data"
    }
   ],
   "source": [
    "plt.title(\"Common links\")\n",
    "venn.venn2(subsets = (len(train_links_list), len(test_links_list), len(common_links_list)),\n",
    "           set_labels=(\"# of unique links in train\",\"# of unique links in test\"))\n",
    "plt.show()"
   ]
  },
  {
   "cell_type": "code",
   "execution_count": 48,
   "metadata": {},
   "outputs": [],
   "source": [
    "# username 이 있는 데이터를 모아본다.\n",
    "train_users = leaky_feats_train.username[leaky_feats_train.count_usernames != 0]\n",
    "test_users = leaky_feats_test.username[leaky_feats_test.count_usernames != 0]\n",
    "\n",
    "train_users_list = list(set([a for b in train_users.tolist() for a in b]))\n",
    "test_users_list = list(set([a for b in test_users.tolist() for a in b]))\n",
    "\n",
    "# 학습세트와 테스트세트의 공통 항목\n",
    "common_users_list = list(set(train_users_list).intersection(test_users_list))"
   ]
  },
  {
   "cell_type": "code",
   "execution_count": 49,
   "metadata": {},
   "outputs": [
    {
     "data": {
      "image/png": "[encoded data removed]",
      "text/plain": [
       "<matplotlib.figure.Figure at 0x12f6a3710>"
      ]
     },
     "metadata": {},
     "output_type": "display_data"
    }
   ],
   "source": [
    "plt.title(\"Common usernames\")\n",
    "venn.venn2(subsets=(len(train_users_list),len(test_users_list),len(common_users_list)),\n",
    "           set_labels=(\"# of unique Usernames in train\",\"# of unique usernames in test\"))\n",
    "plt.show()"
   ]
  },
  {
   "cell_type": "code",
   "execution_count": null,
   "metadata": {},
   "outputs": [],
   "source": []
  }
 ],
 "metadata": {
  "kernelspec": {
   "display_name": "Python 3",
   "language": "python",
   "name": "python3"
  },
  "language_info": {
   "codemirror_mode": {
    "name": "ipython",
    "version": 3
   },
   "file_extension": ".py",
   "mimetype": "text/x-python",
   "name": "python",
   "nbconvert_exporter": "python",
   "pygments_lexer": "ipython3",
   "version": "3.6.1"
  }
 },
 "nbformat": 4,
 "nbformat_minor": 2
}

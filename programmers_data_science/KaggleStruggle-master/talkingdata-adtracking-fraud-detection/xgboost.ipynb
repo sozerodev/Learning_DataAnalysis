{
 "cells": [
  {
   "cell_type": "code",
   "execution_count": 2,
   "metadata": {},
   "outputs": [],
   "source": [
    "import pandas as pd\n",
    "import time\n",
    "import numpy as np\n",
    "from sklearn.model_selection import train_test_split\n",
    "import xgboost as xgb"
   ]
  },
  {
   "cell_type": "code",
   "execution_count": 3,
   "metadata": {},
   "outputs": [],
   "source": [
    "def dataPreProcessTime(df):\n",
    "    df['click_time'] = pd.to_datetime(df['click_time']).dt.date\n",
    "    df['click_time'] = df['click_time'].apply(lambda x: x.strftime('%Y%m%d')).astype(int)\n",
    "    \n",
    "    return df"
   ]
  },
  {
   "cell_type": "code",
   "execution_count": 6,
   "metadata": {},
   "outputs": [
    {
     "name": "stderr",
     "output_type": "stream",
     "text": [
      "/Users/corazzon/codes/jupyter/lib/python3.6/site-packages/IPython/core/interactiveshell.py:2728: DtypeWarning: Columns (6) have mixed types. Specify dtype option on import or set low_memory=False.\n",
      "  interactivity=interactivity, compiler=compiler, result=result)\n"
     ]
    },
    {
     "name": "stdout",
     "output_type": "stream",
     "text": [
      "[87.0892641544342] Finished loading data\n"
     ]
    }
   ],
   "source": [
    "start_time = time.time()\n",
    "\n",
    "train = pd.read_csv('data/train.csv', skiprows=160000000, nrows=40000000)\n",
    "test = pd.read_csv('data/test.csv')\n",
    "train.columns = ['ip', 'app', 'device', 'os', 'channel', 'click_time', 'attributed_time', 'is_attributed']\n",
    "\n",
    "print('[{}] Finished loading data'.format(time.time() - start_time))"
   ]
  },
  {
   "cell_type": "code",
   "execution_count": 7,
   "metadata": {},
   "outputs": [
    {
     "name": "stdout",
     "output_type": "stream",
     "text": [
      "[436.4393379688263] Start XGBoost Training\n"
     ]
    }
   ],
   "source": [
    "train = dataPreProcessTime(train)\n",
    "test = dataPreProcessTime(test)\n",
    "\n",
    "y = train['is_attributed']\n",
    "train.drop(['is_attributed', 'attributed_time'], axis=1, inplace=True)\n",
    "\n",
    "sub = pd.DataFrame()\n",
    "sub['click_id'] = test['click_id']\n",
    "test.drop('click_id', axis=1, inplace=True)\n",
    "\n",
    "print('[{}] Start XGBoost Training'.format(time.time() - start_time))"
   ]
  },
  {
   "cell_type": "code",
   "execution_count": null,
   "metadata": {},
   "outputs": [],
   "source": [
    "params = {'eta': 0.1, \n",
    "          'max_depth': 4, \n",
    "          'subsample': 0.9, \n",
    "          'colsample_bytree': 0.7, \n",
    "          'colsample_bylevel':0.7,\n",
    "          'min_child_weight':100,\n",
    "          'alpha':4,\n",
    "          'objective': 'binary:logistic', \n",
    "          'eval_metric': 'auc', \n",
    "          'random_state': 99, \n",
    "          'scale_pos_weight': 100,\n",
    "          'n_jobs': 3,\n",
    "          'nthread' : 4,\n",
    "          'silent': True}\n",
    "          \n",
    "x1, x2, y1, y2 = train_test_split(train, y, test_size=0.1, random_state=99)\n",
    "\n",
    "watchlist = [(xgb.DMatrix(x1, y1), 'train'), (xgb.DMatrix(x2, y2), 'valid')]\n",
    "model = xgb.train(params, xgb.DMatrix(x1, y1), 260, watchlist, maximize=True, verbose_eval=10)\n",
    "\n",
    "print('[{}] Finish XGBoost Training'.format(time.time() - start_time))\n",
    "\n",
    "sub['is_attributed'] = model.predict(xgb.DMatrix(test), ntree_limit=model.best_ntree_limit)\n",
    "sub.to_csv('xgb_submission.csv',index=False)"
   ]
  },
  {
   "cell_type": "code",
   "execution_count": null,
   "metadata": {},
   "outputs": [],
   "source": []
  }
 ],
 "metadata": {
  "kernelspec": {
   "display_name": "Python 3",
   "language": "python",
   "name": "python3"
  },
  "language_info": {
   "codemirror_mode": {
    "name": "ipython",
    "version": 3
   },
   "file_extension": ".py",
   "mimetype": "text/x-python",
   "name": "python",
   "nbconvert_exporter": "python",
   "pygments_lexer": "ipython3",
   "version": "3.6.1"
  }
 },
 "nbformat": 4,
 "nbformat_minor": 2
}

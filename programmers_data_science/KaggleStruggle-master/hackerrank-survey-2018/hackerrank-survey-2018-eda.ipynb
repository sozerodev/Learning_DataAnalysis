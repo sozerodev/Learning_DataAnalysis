{
 "cells": [
  {
   "cell_type": "markdown",
   "metadata": {},
   "source": [
    "<img src='https://camo.githubusercontent.com/bcb153b5a4eaa2bf3f97776188c6d0d9f2ff6ce5/68747470733a2f2f64336b65757a6562326372686b6e2e636c6f756466726f6e742e6e65742f6861636b657272616e6b2f6173736574732f7374796c6567756964652f6c6f676f5f776f72646d61726b2d66356335656236316162306131353463336564396564613234643062396533312e737667'>\n",
    "\n",
    "\n",
    "# HackerRank Developer Survey 2018 \n",
    "\n",
    "* Q1 - Which languages are the most popular ?\n",
    "* Q2 - Age distribution ?\n",
    "* Q3 - At which age do they begin coding, differences between genders ?\n",
    "* Q4 - Countries of Respondents ?\n",
    "* Q5 - Top countries characteristics - age began coding ?\n",
    "\n",
    "\n",
    "참고 : \n",
    " * https://www.kaggle.com/ymaricar/hackerrank-survey-focus-on-girl-code-power"
   ]
  },
  {
   "cell_type": "code",
   "execution_count": 1,
   "metadata": {},
   "outputs": [],
   "source": [
    "import numpy as np\n",
    "import pandas as pd"
   ]
  },
  {
   "cell_type": "code",
   "execution_count": 2,
   "metadata": {},
   "outputs": [
    {
     "name": "stdout",
     "output_type": "stream",
     "text": [
      "Country-Code-Mapping.csv\r\n",
      "HackerRank-Developer-Survey-2018-Codebook.csv\r\n",
      "HackerRank-Developer-Survey-2018-Numeric-Mapping.csv\r\n",
      "\u001b[1m\u001b[31mHackerRank-Developer-Survey-2018-Numeric.csv\u001b[m\u001b[m*\r\n",
      "HackerRank-Developer-Survey-2018-Numeric.csv.zip\r\n",
      "\u001b[1m\u001b[31mHackerRank-Developer-Survey-2018-Values.csv\u001b[m\u001b[m*\r\n",
      "HackerRank-Developer-Survey-2018-Values.csv.zip\r\n"
     ]
    }
   ],
   "source": [
    "%ls data/"
   ]
  },
  {
   "cell_type": "code",
   "execution_count": 3,
   "metadata": {},
   "outputs": [
    {
     "data": {
      "text/html": [
       "<script>requirejs.config({paths: { 'plotly': ['https://cdn.plot.ly/plotly-latest.min']},});if(!window.Plotly) {{require(['plotly'],function(plotly) {window.Plotly=plotly;});}}</script>"
      ],
      "text/vnd.plotly.v1+html": [
       "<script>requirejs.config({paths: { 'plotly': ['https://cdn.plot.ly/plotly-latest.min']},});if(!window.Plotly) {{require(['plotly'],function(plotly) {window.Plotly=plotly;});}}</script>"
      ]
     },
     "metadata": {},
     "output_type": "display_data"
    }
   ],
   "source": [
    "import matplotlib.pyplot as plt\n",
    "import seaborn as sns\n",
    "plt.style.use('ggplot')\n",
    "\n",
    "import plotly\n",
    "# import plotly.plotly as py\n",
    "import plotly.offline as py\n",
    "py.init_notebook_mode(connected=True)\n",
    "import plotly.graph_objs as go\n",
    "\n",
    "%matplotlib inline\n",
    "\n",
    "import warnings\n",
    "warnings.filterwarnings('ignore')"
   ]
  },
  {
   "cell_type": "code",
   "execution_count": 4,
   "metadata": {},
   "outputs": [],
   "source": [
    "df = pd.read_csv('data/HackerRank-Developer-Survey-2018-Values.csv', \n",
    "                 parse_dates=['StartDate','EndDate'])\n",
    "df_n = pd.read_csv('data/HackerRank-Developer-Survey-2018-Numeric.csv', \n",
    "                   parse_dates=['StartDate','EndDate'])\n",
    "df_women = df[df.q3Gender == 'Female']\n",
    "df_men = df[df.q3Gender != 'Female']"
   ]
  },
  {
   "cell_type": "code",
   "execution_count": 5,
   "metadata": {},
   "outputs": [
    {
     "data": {
      "text/plain": [
       "(25093, 251)"
      ]
     },
     "execution_count": 5,
     "metadata": {},
     "output_type": "execute_result"
    }
   ],
   "source": [
    "df.shape"
   ]
  },
  {
   "cell_type": "code",
   "execution_count": 6,
   "metadata": {},
   "outputs": [
    {
     "data": {
      "text/plain": [
       "(25092, 251)"
      ]
     },
     "execution_count": 6,
     "metadata": {},
     "output_type": "execute_result"
    }
   ],
   "source": [
    "df = df.dropna(axis=0, how='all')\n",
    "df.shape"
   ]
  },
  {
   "cell_type": "code",
   "execution_count": 7,
   "metadata": {},
   "outputs": [
    {
     "name": "stdout",
     "output_type": "stream",
     "text": [
      "<class 'pandas.core.frame.DataFrame'>\n",
      "Int64Index: 25092 entries, 0 to 25092\n",
      "Columns: 251 entries, RespondentID to q36Level4\n",
      "dtypes: datetime64[ns](2), float64(5), object(244)\n",
      "memory usage: 48.2+ MB\n"
     ]
    }
   ],
   "source": [
    "df.info()"
   ]
  },
  {
   "cell_type": "code",
   "execution_count": 8,
   "metadata": {},
   "outputs": [
    {
     "data": {
      "text/html": [
       "<div>\n",
       "<style scoped>\n",
       "    .dataframe tbody tr th:only-of-type {\n",
       "        vertical-align: middle;\n",
       "    }\n",
       "\n",
       "    .dataframe tbody tr th {\n",
       "        vertical-align: top;\n",
       "    }\n",
       "\n",
       "    .dataframe thead th {\n",
       "        text-align: right;\n",
       "    }\n",
       "</style>\n",
       "<table border=\"1\" class=\"dataframe\">\n",
       "  <thead>\n",
       "    <tr style=\"text-align: right;\">\n",
       "      <th></th>\n",
       "      <th>RespondentID</th>\n",
       "      <th>q26FrameLearnPadrino2</th>\n",
       "      <th>q26FrameLearnDjango2</th>\n",
       "      <th>q26FrameLearnPyramid2</th>\n",
       "      <th>q34PositiveExp</th>\n",
       "    </tr>\n",
       "  </thead>\n",
       "  <tbody>\n",
       "    <tr>\n",
       "      <th>count</th>\n",
       "      <td>2.509000e+04</td>\n",
       "      <td>0.0</td>\n",
       "      <td>0.0</td>\n",
       "      <td>0.0</td>\n",
       "      <td>9017.000000</td>\n",
       "    </tr>\n",
       "    <tr>\n",
       "      <th>mean</th>\n",
       "      <td>6.474331e+09</td>\n",
       "      <td>NaN</td>\n",
       "      <td>NaN</td>\n",
       "      <td>NaN</td>\n",
       "      <td>4.040590</td>\n",
       "    </tr>\n",
       "    <tr>\n",
       "      <th>std</th>\n",
       "      <td>8.666438e+06</td>\n",
       "      <td>NaN</td>\n",
       "      <td>NaN</td>\n",
       "      <td>NaN</td>\n",
       "      <td>1.024497</td>\n",
       "    </tr>\n",
       "    <tr>\n",
       "      <th>min</th>\n",
       "      <td>6.454811e+09</td>\n",
       "      <td>NaN</td>\n",
       "      <td>NaN</td>\n",
       "      <td>NaN</td>\n",
       "      <td>0.000000</td>\n",
       "    </tr>\n",
       "    <tr>\n",
       "      <th>25%</th>\n",
       "      <td>6.464812e+09</td>\n",
       "      <td>NaN</td>\n",
       "      <td>NaN</td>\n",
       "      <td>NaN</td>\n",
       "      <td>4.000000</td>\n",
       "    </tr>\n",
       "    <tr>\n",
       "      <th>50%</th>\n",
       "      <td>6.477487e+09</td>\n",
       "      <td>NaN</td>\n",
       "      <td>NaN</td>\n",
       "      <td>NaN</td>\n",
       "      <td>4.000000</td>\n",
       "    </tr>\n",
       "    <tr>\n",
       "      <th>75%</th>\n",
       "      <td>6.479849e+09</td>\n",
       "      <td>NaN</td>\n",
       "      <td>NaN</td>\n",
       "      <td>NaN</td>\n",
       "      <td>5.000000</td>\n",
       "    </tr>\n",
       "    <tr>\n",
       "      <th>max</th>\n",
       "      <td>6.490930e+09</td>\n",
       "      <td>NaN</td>\n",
       "      <td>NaN</td>\n",
       "      <td>NaN</td>\n",
       "      <td>5.000000</td>\n",
       "    </tr>\n",
       "  </tbody>\n",
       "</table>\n",
       "</div>"
      ],
      "text/plain": [
       "       RespondentID  q26FrameLearnPadrino2  q26FrameLearnDjango2  \\\n",
       "count  2.509000e+04                    0.0                   0.0   \n",
       "mean   6.474331e+09                    NaN                   NaN   \n",
       "std    8.666438e+06                    NaN                   NaN   \n",
       "min    6.454811e+09                    NaN                   NaN   \n",
       "25%    6.464812e+09                    NaN                   NaN   \n",
       "50%    6.477487e+09                    NaN                   NaN   \n",
       "75%    6.479849e+09                    NaN                   NaN   \n",
       "max    6.490930e+09                    NaN                   NaN   \n",
       "\n",
       "       q26FrameLearnPyramid2  q34PositiveExp  \n",
       "count                    0.0     9017.000000  \n",
       "mean                     NaN        4.040590  \n",
       "std                      NaN        1.024497  \n",
       "min                      NaN        0.000000  \n",
       "25%                      NaN        4.000000  \n",
       "50%                      NaN        4.000000  \n",
       "75%                      NaN        5.000000  \n",
       "max                      NaN        5.000000  "
      ]
     },
     "execution_count": 8,
     "metadata": {},
     "output_type": "execute_result"
    }
   ],
   "source": [
    "df.describe()"
   ]
  },
  {
   "cell_type": "code",
   "execution_count": 9,
   "metadata": {},
   "outputs": [
    {
     "data": {
      "text/plain": [
       "Index(['RespondentID', 'StartDate', 'EndDate', 'CountryNumeric',\n",
       "       'q1AgeBeginCoding', 'q2Age', 'q3Gender', 'q4Education', 'q0004_other',\n",
       "       'q5DegreeFocus',\n",
       "       ...\n",
       "       'q30LearnCodeOther', 'q0030_other', 'q31Level3',\n",
       "       'q32RecommendHackerRank', 'q0032_other', 'q33HackerRankChallforJob',\n",
       "       'q34PositiveExp', 'q34IdealLengHackerRankTest', 'q0035_other',\n",
       "       'q36Level4'],\n",
       "      dtype='object', length=251)"
      ]
     },
     "execution_count": 9,
     "metadata": {},
     "output_type": "execute_result"
    }
   ],
   "source": [
    "df.columns"
   ]
  },
  {
   "cell_type": "code",
   "execution_count": 10,
   "metadata": {},
   "outputs": [
    {
     "data": {
      "text/plain": [
       "Index(['q25LangC', 'q25LangCPlusPlus', 'q25LangJava', 'q25LangPython',\n",
       "       'q25LangRuby', 'q25LangJavascript', 'q25LangCSharp', 'q25LangGo',\n",
       "       'q25Scala', 'q25LangPerl', 'q25LangSwift', 'q25LangPascal',\n",
       "       'q25LangClojure', 'q25LangPHP', 'q25LangHaskell', 'q25LangLua',\n",
       "       'q25LangR', 'q25LangRust', 'q25LangTypescript', 'q25LangKotlin',\n",
       "       'q25LangJulia', 'q25LangErlang', 'q25LangOcaml', 'q25LangOther',\n",
       "       'Gender'],\n",
       "      dtype='object')"
      ]
     },
     "execution_count": 10,
     "metadata": {},
     "output_type": "execute_result"
    }
   ],
   "source": [
    "prog = df[df.columns[139:163]]\n",
    "prog['Gender'] = df['q3Gender']\n",
    "prog = prog.dropna(axis=0, how='all')\n",
    "prog.columns"
   ]
  },
  {
   "cell_type": "code",
   "execution_count": 11,
   "metadata": {},
   "outputs": [
    {
     "data": {
      "text/html": [
       "<div>\n",
       "<style scoped>\n",
       "    .dataframe tbody tr th:only-of-type {\n",
       "        vertical-align: middle;\n",
       "    }\n",
       "\n",
       "    .dataframe tbody tr th {\n",
       "        vertical-align: top;\n",
       "    }\n",
       "\n",
       "    .dataframe thead th {\n",
       "        text-align: right;\n",
       "    }\n",
       "</style>\n",
       "<table border=\"1\" class=\"dataframe\">\n",
       "  <thead>\n",
       "    <tr style=\"text-align: right;\">\n",
       "      <th></th>\n",
       "      <th>q25LangC</th>\n",
       "      <th>q25LangCPlusPlus</th>\n",
       "      <th>q25LangJava</th>\n",
       "      <th>q25LangPython</th>\n",
       "      <th>q25LangRuby</th>\n",
       "      <th>q25LangJavascript</th>\n",
       "      <th>q25LangCSharp</th>\n",
       "      <th>q25LangGo</th>\n",
       "      <th>q25Scala</th>\n",
       "      <th>q25LangPerl</th>\n",
       "      <th>...</th>\n",
       "      <th>q25LangLua</th>\n",
       "      <th>q25LangR</th>\n",
       "      <th>q25LangRust</th>\n",
       "      <th>q25LangTypescript</th>\n",
       "      <th>q25LangKotlin</th>\n",
       "      <th>q25LangJulia</th>\n",
       "      <th>q25LangErlang</th>\n",
       "      <th>q25LangOcaml</th>\n",
       "      <th>q25LangOther</th>\n",
       "      <th>Gender</th>\n",
       "    </tr>\n",
       "  </thead>\n",
       "  <tbody>\n",
       "    <tr>\n",
       "      <th>0</th>\n",
       "      <td>Will Learn</td>\n",
       "      <td>Will Learn</td>\n",
       "      <td>Know</td>\n",
       "      <td>Will Learn</td>\n",
       "      <td>Will Learn</td>\n",
       "      <td>Will Learn</td>\n",
       "      <td>Will Learn</td>\n",
       "      <td>Will Learn</td>\n",
       "      <td>Will Learn</td>\n",
       "      <td>Will Learn</td>\n",
       "      <td>...</td>\n",
       "      <td>Will Learn</td>\n",
       "      <td>Know</td>\n",
       "      <td>Will Learn</td>\n",
       "      <td>Will Learn</td>\n",
       "      <td>Will Learn</td>\n",
       "      <td>Will Learn</td>\n",
       "      <td>Will Learn</td>\n",
       "      <td>Will Learn</td>\n",
       "      <td>NaN</td>\n",
       "      <td>Female</td>\n",
       "    </tr>\n",
       "    <tr>\n",
       "      <th>1</th>\n",
       "      <td>NaN</td>\n",
       "      <td>NaN</td>\n",
       "      <td>Know</td>\n",
       "      <td>NaN</td>\n",
       "      <td>NaN</td>\n",
       "      <td>NaN</td>\n",
       "      <td>NaN</td>\n",
       "      <td>NaN</td>\n",
       "      <td>NaN</td>\n",
       "      <td>NaN</td>\n",
       "      <td>...</td>\n",
       "      <td>NaN</td>\n",
       "      <td>NaN</td>\n",
       "      <td>NaN</td>\n",
       "      <td>NaN</td>\n",
       "      <td>Will Learn</td>\n",
       "      <td>NaN</td>\n",
       "      <td>NaN</td>\n",
       "      <td>NaN</td>\n",
       "      <td>NaN</td>\n",
       "      <td>Male</td>\n",
       "    </tr>\n",
       "    <tr>\n",
       "      <th>2</th>\n",
       "      <td>Will Learn</td>\n",
       "      <td>Will Learn</td>\n",
       "      <td>Will Learn</td>\n",
       "      <td>Know</td>\n",
       "      <td>Will Learn</td>\n",
       "      <td>Know</td>\n",
       "      <td>Will Learn</td>\n",
       "      <td>Will Learn</td>\n",
       "      <td>Will Learn</td>\n",
       "      <td>Will Learn</td>\n",
       "      <td>...</td>\n",
       "      <td>Will Learn</td>\n",
       "      <td>Will Learn</td>\n",
       "      <td>Will Learn</td>\n",
       "      <td>Will Learn</td>\n",
       "      <td>Will Learn</td>\n",
       "      <td>Will Learn</td>\n",
       "      <td>Will Learn</td>\n",
       "      <td>Will Learn</td>\n",
       "      <td>NaN</td>\n",
       "      <td>Female</td>\n",
       "    </tr>\n",
       "    <tr>\n",
       "      <th>3</th>\n",
       "      <td>NaN</td>\n",
       "      <td>Know</td>\n",
       "      <td>Will Learn</td>\n",
       "      <td>Will Learn</td>\n",
       "      <td>Know</td>\n",
       "      <td>Will Learn</td>\n",
       "      <td>Know</td>\n",
       "      <td>NaN</td>\n",
       "      <td>NaN</td>\n",
       "      <td>NaN</td>\n",
       "      <td>...</td>\n",
       "      <td>NaN</td>\n",
       "      <td>NaN</td>\n",
       "      <td>NaN</td>\n",
       "      <td>NaN</td>\n",
       "      <td>NaN</td>\n",
       "      <td>NaN</td>\n",
       "      <td>NaN</td>\n",
       "      <td>NaN</td>\n",
       "      <td>NaN</td>\n",
       "      <td>Male</td>\n",
       "    </tr>\n",
       "    <tr>\n",
       "      <th>4</th>\n",
       "      <td>NaN</td>\n",
       "      <td>NaN</td>\n",
       "      <td>NaN</td>\n",
       "      <td>NaN</td>\n",
       "      <td>NaN</td>\n",
       "      <td>Know</td>\n",
       "      <td>NaN</td>\n",
       "      <td>NaN</td>\n",
       "      <td>NaN</td>\n",
       "      <td>NaN</td>\n",
       "      <td>...</td>\n",
       "      <td>NaN</td>\n",
       "      <td>NaN</td>\n",
       "      <td>NaN</td>\n",
       "      <td>NaN</td>\n",
       "      <td>NaN</td>\n",
       "      <td>NaN</td>\n",
       "      <td>NaN</td>\n",
       "      <td>NaN</td>\n",
       "      <td>NaN</td>\n",
       "      <td>Female</td>\n",
       "    </tr>\n",
       "  </tbody>\n",
       "</table>\n",
       "<p>5 rows × 25 columns</p>\n",
       "</div>"
      ],
      "text/plain": [
       "     q25LangC q25LangCPlusPlus q25LangJava q25LangPython q25LangRuby  \\\n",
       "0  Will Learn       Will Learn        Know    Will Learn  Will Learn   \n",
       "1         NaN              NaN        Know           NaN         NaN   \n",
       "2  Will Learn       Will Learn  Will Learn          Know  Will Learn   \n",
       "3         NaN             Know  Will Learn    Will Learn        Know   \n",
       "4         NaN              NaN         NaN           NaN         NaN   \n",
       "\n",
       "  q25LangJavascript q25LangCSharp   q25LangGo    q25Scala q25LangPerl   ...    \\\n",
       "0        Will Learn    Will Learn  Will Learn  Will Learn  Will Learn   ...     \n",
       "1               NaN           NaN         NaN         NaN         NaN   ...     \n",
       "2              Know    Will Learn  Will Learn  Will Learn  Will Learn   ...     \n",
       "3        Will Learn          Know         NaN         NaN         NaN   ...     \n",
       "4              Know           NaN         NaN         NaN         NaN   ...     \n",
       "\n",
       "   q25LangLua    q25LangR q25LangRust q25LangTypescript q25LangKotlin  \\\n",
       "0  Will Learn        Know  Will Learn        Will Learn    Will Learn   \n",
       "1         NaN         NaN         NaN               NaN    Will Learn   \n",
       "2  Will Learn  Will Learn  Will Learn        Will Learn    Will Learn   \n",
       "3         NaN         NaN         NaN               NaN           NaN   \n",
       "4         NaN         NaN         NaN               NaN           NaN   \n",
       "\n",
       "  q25LangJulia q25LangErlang q25LangOcaml q25LangOther  Gender  \n",
       "0   Will Learn    Will Learn   Will Learn          NaN  Female  \n",
       "1          NaN           NaN          NaN          NaN    Male  \n",
       "2   Will Learn    Will Learn   Will Learn          NaN  Female  \n",
       "3          NaN           NaN          NaN          NaN    Male  \n",
       "4          NaN           NaN          NaN          NaN  Female  \n",
       "\n",
       "[5 rows x 25 columns]"
      ]
     },
     "execution_count": 11,
     "metadata": {},
     "output_type": "execute_result"
    }
   ],
   "source": [
    "prog[0:5]"
   ]
  },
  {
   "cell_type": "code",
   "execution_count": 12,
   "metadata": {},
   "outputs": [
    {
     "name": "stdout",
     "output_type": "stream",
     "text": [
      "q25LangC: 5904\n",
      "q25LangCPlusPlus: 6218\n",
      "q25LangJava: 3847\n",
      "q25LangPython: 3440\n",
      "q25LangRuby: 14793\n",
      "q25LangJavascript: 4695\n",
      "q25LangCSharp: 12500\n",
      "q25LangGo: 14665\n",
      "q25Scala: 16921\n",
      "q25LangPerl: 18456\n",
      "q25LangSwift: 16734\n",
      "q25LangPascal: 19084\n",
      "q25LangClojure: 19958\n",
      "q25LangPHP: 12663\n",
      "q25LangHaskell: 18584\n",
      "q25LangLua: 19888\n",
      "q25LangR: 15862\n",
      "q25LangRust: 19340\n",
      "q25LangTypescript: 16449\n",
      "q25LangKotlin: 17186\n",
      "q25LangJulia: 20517\n",
      "q25LangErlang: 19933\n",
      "q25LangOcaml: 20503\n",
      "q25LangOther: 24011\n"
     ]
    }
   ],
   "source": [
    "for i in prog.columns[:-1] :\n",
    "    print(i + \": \"+str(prog[i].isnull().sum()))"
   ]
  },
  {
   "cell_type": "code",
   "execution_count": 13,
   "metadata": {},
   "outputs": [
    {
     "data": {
      "image/png": "[encoded data removed]",
      "text/plain": [
       "<matplotlib.figure.Figure at 0x110a0e8d0>"
      ]
     },
     "metadata": {},
     "output_type": "display_data"
    }
   ],
   "source": [
    "# 언어별 성비\n",
    "colors = [\"blue\", \"orange\", \"greyish\", \"faded green\", \"dusty purple\"]\n",
    "fig, ax = plt.subplots(figsize=(20,20), ncols=5, nrows=5)\n",
    "count = 0\n",
    "times = 0\n",
    "for i in prog.columns[:-1]:\n",
    "    sns.countplot(x=str(i), \n",
    "                  hue=\"Gender\", \n",
    "                  data=prog, \n",
    "                  palette = sns.xkcd_palette(colors), \n",
    "                  ax=ax[times][count])\n",
    "    count += 1\n",
    "    if count == 5 :\n",
    "        times += 1\n",
    "        count = 0"
   ]
  },
  {
   "cell_type": "code",
   "execution_count": 14,
   "metadata": {},
   "outputs": [
    {
     "data": {
      "application/vnd.plotly.v1+json": {
       "data": [
        {
         "name": "Men Respondents",
         "type": "bar",
         "x": [
          "18 - 24 years old",
          "25 - 34 years old",
          "35 - 44 years old",
          "12 - 18 years old",
          "45 - 54 years old",
          "55 - 64 years old",
          "#NULL!",
          "Under 12 years old",
          "65 - 74 years old",
          "75 years or older"
         ],
         "y": [
          48.33078977489508,
          34.85310950019077,
          10.091568103777185,
          3.9536436474628003,
          2.0078214421976344,
          0.43399465852727964,
          0.18599771079740557,
          0.05723006486074017,
          0.05246089278901182,
          0.03338420450209844
         ]
        },
        {
         "name": "Female Respondents",
         "type": "bar",
         "x": [
          "18 - 24 years old",
          "25 - 34 years old",
          "35 - 44 years old",
          "12 - 18 years old",
          "45 - 54 years old",
          "55 - 64 years old",
          "#NULL!",
          "75 years or older",
          "Under 12 years old"
         ],
         "y": [
          59.55846676370694,
          29.257641921397383,
          5.264434740417273,
          4.4153323629306165,
          1.1402231926249393,
          0.26686074721009223,
          0.048520135856380396,
          0.024260067928190198,
          0.024260067928190198
         ]
        }
       ],
       "layout": {
        "barmode": "group"
       }
      },
      "text/html": [
       "<div id=\"60d1fa21-d15a-4e9b-a4dc-117e84416ae1\" style=\"height: 525px; width: 100%;\" class=\"plotly-graph-div\"></div><script type=\"text/javascript\">require([\"plotly\"], function(Plotly) { window.PLOTLYENV=window.PLOTLYENV || {};window.PLOTLYENV.BASE_URL=\"https://plot.ly\";Plotly.newPlot(\"60d1fa21-d15a-4e9b-a4dc-117e84416ae1\", [{\"type\": \"bar\", \"x\": [\"18 - 24 years old\", \"25 - 34 years old\", \"35 - 44 years old\", \"12 - 18 years old\", \"45 - 54 years old\", \"55 - 64 years old\", \"#NULL!\", \"Under 12 years old\", \"65 - 74 years old\", \"75 years or older\"], \"y\": [48.33078977489508, 34.85310950019077, 10.091568103777185, 3.9536436474628003, 2.0078214421976344, 0.43399465852727964, 0.18599771079740557, 0.05723006486074017, 0.05246089278901182, 0.03338420450209844], \"name\": \"Men Respondents\"}, {\"type\": \"bar\", \"x\": [\"18 - 24 years old\", \"25 - 34 years old\", \"35 - 44 years old\", \"12 - 18 years old\", \"45 - 54 years old\", \"55 - 64 years old\", \"#NULL!\", \"75 years or older\", \"Under 12 years old\"], \"y\": [59.55846676370694, 29.257641921397383, 5.264434740417273, 4.4153323629306165, 1.1402231926249393, 0.26686074721009223, 0.048520135856380396, 0.024260067928190198, 0.024260067928190198], \"name\": \"Female Respondents\"}], {\"barmode\": \"group\"}, {\"showLink\": true, \"linkText\": \"Export to plot.ly\"})});</script>"
      ],
      "text/vnd.plotly.v1+html": [
       "<div id=\"60d1fa21-d15a-4e9b-a4dc-117e84416ae1\" style=\"height: 525px; width: 100%;\" class=\"plotly-graph-div\"></div><script type=\"text/javascript\">require([\"plotly\"], function(Plotly) { window.PLOTLYENV=window.PLOTLYENV || {};window.PLOTLYENV.BASE_URL=\"https://plot.ly\";Plotly.newPlot(\"60d1fa21-d15a-4e9b-a4dc-117e84416ae1\", [{\"type\": \"bar\", \"x\": [\"18 - 24 years old\", \"25 - 34 years old\", \"35 - 44 years old\", \"12 - 18 years old\", \"45 - 54 years old\", \"55 - 64 years old\", \"#NULL!\", \"Under 12 years old\", \"65 - 74 years old\", \"75 years or older\"], \"y\": [48.33078977489508, 34.85310950019077, 10.091568103777185, 3.9536436474628003, 2.0078214421976344, 0.43399465852727964, 0.18599771079740557, 0.05723006486074017, 0.05246089278901182, 0.03338420450209844], \"name\": \"Men Respondents\"}, {\"type\": \"bar\", \"x\": [\"18 - 24 years old\", \"25 - 34 years old\", \"35 - 44 years old\", \"12 - 18 years old\", \"45 - 54 years old\", \"55 - 64 years old\", \"#NULL!\", \"75 years or older\", \"Under 12 years old\"], \"y\": [59.55846676370694, 29.257641921397383, 5.264434740417273, 4.4153323629306165, 1.1402231926249393, 0.26686074721009223, 0.048520135856380396, 0.024260067928190198, 0.024260067928190198], \"name\": \"Female Respondents\"}], {\"barmode\": \"group\"}, {\"showLink\": true, \"linkText\": \"Export to plot.ly\"})});</script>"
      ]
     },
     "metadata": {},
     "output_type": "display_data"
    }
   ],
   "source": [
    "trace1 = go.Bar(\n",
    "    x = df_men['q2Age'].value_counts().index.tolist(),\n",
    "    y = np.multiply(np.divide(\n",
    "        df_men['q2Age'].value_counts().tolist(),\n",
    "        np.sum(df_men['q2Age'].value_counts().tolist())\n",
    "    ).tolist(),100).tolist(),\n",
    "    name='Men Respondents'\n",
    ")\n",
    "trace2 = go.Bar(\n",
    "    x = df_women['q2Age'].value_counts().index.tolist(),\n",
    "    y = np.multiply(np.divide(\n",
    "        df_women['q2Age'].value_counts().tolist(),\n",
    "        np.sum(df_women['q2Age'].value_counts().tolist())\n",
    "    ).tolist(),100).tolist(),\n",
    "    name='Female Respondents'\n",
    ")\n",
    "\n",
    "data = [trace1, trace2]\n",
    "layout = go.Layout(\n",
    "    barmode='group'\n",
    ")\n",
    "\n",
    "fig = go.Figure(data=data, layout=layout)\n",
    "py.iplot(fig, filename='grouped-bar')"
   ]
  },
  {
   "cell_type": "code",
   "execution_count": 15,
   "metadata": {},
   "outputs": [
    {
     "data": {
      "application/vnd.plotly.v1+json": {
       "data": [
        {
         "name": "Men Respondents",
         "type": "bar",
         "x": [
          "16 - 20 years old",
          "11 - 15 years old",
          "21 - 25 years old",
          "5 - 10 years old",
          "26 - 30 years old",
          "31 - 35 years old",
          "36 - 40 years old",
          "#NULL!",
          "41 - 50 years old",
          "50+ years or older"
         ],
         "y": [
          55.494086226631055,
          22.391262876764596,
          14.388592140404427,
          4.111026325829836,
          2.4418161007249144,
          0.6915299504006105,
          0.22892025944296068,
          0.12399847386493704,
          0.10492178557802365,
          0.02384586035864174
         ]
        },
        {
         "name": "Female Respondents",
         "type": "bar",
         "x": [
          "16 - 20 years old",
          "21 - 25 years old",
          "11 - 15 years old",
          "26 - 30 years old",
          "5 - 10 years old",
          "31 - 35 years old",
          "36 - 40 years old",
          "41 - 50 years old",
          "#NULL!",
          "50+ years or older"
         ],
         "y": [
          64.45900048520136,
          14.77438136826783,
          13.803978651140222,
          3.153808830664726,
          1.7224648229015043,
          1.1644832605531297,
          0.4609412906356138,
          0.2911208151382824,
          0.09704027171276079,
          0.0727802037845706
         ]
        }
       ],
       "layout": {
        "barmode": "group"
       }
      },
      "text/html": [
       "<div id=\"48502d44-c255-4743-937e-65ed20d97f29\" style=\"height: 525px; width: 100%;\" class=\"plotly-graph-div\"></div><script type=\"text/javascript\">require([\"plotly\"], function(Plotly) { window.PLOTLYENV=window.PLOTLYENV || {};window.PLOTLYENV.BASE_URL=\"https://plot.ly\";Plotly.newPlot(\"48502d44-c255-4743-937e-65ed20d97f29\", [{\"type\": \"bar\", \"x\": [\"16 - 20 years old\", \"11 - 15 years old\", \"21 - 25 years old\", \"5 - 10 years old\", \"26 - 30 years old\", \"31 - 35 years old\", \"36 - 40 years old\", \"#NULL!\", \"41 - 50 years old\", \"50+ years or older\"], \"y\": [55.494086226631055, 22.391262876764596, 14.388592140404427, 4.111026325829836, 2.4418161007249144, 0.6915299504006105, 0.22892025944296068, 0.12399847386493704, 0.10492178557802365, 0.02384586035864174], \"name\": \"Men Respondents\"}, {\"type\": \"bar\", \"x\": [\"16 - 20 years old\", \"21 - 25 years old\", \"11 - 15 years old\", \"26 - 30 years old\", \"5 - 10 years old\", \"31 - 35 years old\", \"36 - 40 years old\", \"41 - 50 years old\", \"#NULL!\", \"50+ years or older\"], \"y\": [64.45900048520136, 14.77438136826783, 13.803978651140222, 3.153808830664726, 1.7224648229015043, 1.1644832605531297, 0.4609412906356138, 0.2911208151382824, 0.09704027171276079, 0.0727802037845706], \"name\": \"Female Respondents\"}], {\"barmode\": \"group\"}, {\"showLink\": true, \"linkText\": \"Export to plot.ly\"})});</script>"
      ],
      "text/vnd.plotly.v1+html": [
       "<div id=\"48502d44-c255-4743-937e-65ed20d97f29\" style=\"height: 525px; width: 100%;\" class=\"plotly-graph-div\"></div><script type=\"text/javascript\">require([\"plotly\"], function(Plotly) { window.PLOTLYENV=window.PLOTLYENV || {};window.PLOTLYENV.BASE_URL=\"https://plot.ly\";Plotly.newPlot(\"48502d44-c255-4743-937e-65ed20d97f29\", [{\"type\": \"bar\", \"x\": [\"16 - 20 years old\", \"11 - 15 years old\", \"21 - 25 years old\", \"5 - 10 years old\", \"26 - 30 years old\", \"31 - 35 years old\", \"36 - 40 years old\", \"#NULL!\", \"41 - 50 years old\", \"50+ years or older\"], \"y\": [55.494086226631055, 22.391262876764596, 14.388592140404427, 4.111026325829836, 2.4418161007249144, 0.6915299504006105, 0.22892025944296068, 0.12399847386493704, 0.10492178557802365, 0.02384586035864174], \"name\": \"Men Respondents\"}, {\"type\": \"bar\", \"x\": [\"16 - 20 years old\", \"21 - 25 years old\", \"11 - 15 years old\", \"26 - 30 years old\", \"5 - 10 years old\", \"31 - 35 years old\", \"36 - 40 years old\", \"41 - 50 years old\", \"#NULL!\", \"50+ years or older\"], \"y\": [64.45900048520136, 14.77438136826783, 13.803978651140222, 3.153808830664726, 1.7224648229015043, 1.1644832605531297, 0.4609412906356138, 0.2911208151382824, 0.09704027171276079, 0.0727802037845706], \"name\": \"Female Respondents\"}], {\"barmode\": \"group\"}, {\"showLink\": true, \"linkText\": \"Export to plot.ly\"})});</script>"
      ]
     },
     "metadata": {},
     "output_type": "display_data"
    }
   ],
   "source": [
    "trace1 = go.Bar(\n",
    "    x=df_men['q1AgeBeginCoding'].value_counts().index.tolist(),\n",
    "    y=np.multiply(np.divide(df_men['q1AgeBeginCoding'].value_counts().tolist(),np.sum(df_men['q1AgeBeginCoding'].value_counts().tolist())).tolist(),100).tolist(),\n",
    "    name='Men Respondents'\n",
    ")\n",
    "trace2 = go.Bar(\n",
    "    x=df_women['q1AgeBeginCoding'].value_counts().index.tolist(),\n",
    "    y=np.multiply(np.divide(df_women['q1AgeBeginCoding'].value_counts().tolist(),np.sum(df_women['q1AgeBeginCoding'].value_counts().tolist())).tolist(),100).tolist(),\n",
    "    name='Female Respondents'\n",
    ")\n",
    "\n",
    "data = [trace1, trace2]\n",
    "layout = go.Layout(\n",
    "    barmode='group'\n",
    ")\n",
    "\n",
    "fig = go.Figure(data=data, layout=layout)\n",
    "py.iplot(fig, filename='grouped-bar')"
   ]
  },
  {
   "cell_type": "code",
   "execution_count": 16,
   "metadata": {},
   "outputs": [],
   "source": [
    "df = pd.read_csv('data/HackerRank-Developer-Survey-2018-Values.csv', \n",
    "                 parse_dates=['StartDate','EndDate'])\n",
    "df_n= pd.read_csv('data/HackerRank-Developer-Survey-2018-Numeric.csv', \n",
    "                  parse_dates=['StartDate','EndDate'])\n",
    "df_women = df[df.q3Gender == 'Female']\n",
    "df_men = df[df.q3Gender != 'Female']"
   ]
  },
  {
   "cell_type": "code",
   "execution_count": 17,
   "metadata": {},
   "outputs": [
    {
     "data": {
      "text/plain": [
       "(25093, 251)"
      ]
     },
     "execution_count": 17,
     "metadata": {},
     "output_type": "execute_result"
    }
   ],
   "source": [
    "df.shape"
   ]
  },
  {
   "cell_type": "code",
   "execution_count": 18,
   "metadata": {},
   "outputs": [
    {
     "data": {
      "text/plain": [
       "(25092, 251)"
      ]
     },
     "execution_count": 18,
     "metadata": {},
     "output_type": "execute_result"
    }
   ],
   "source": [
    "df = df.dropna(axis=0, how='all')\n",
    "df.shape"
   ]
  },
  {
   "cell_type": "code",
   "execution_count": 19,
   "metadata": {},
   "outputs": [
    {
     "data": {
      "text/html": [
       "<div>\n",
       "<style scoped>\n",
       "    .dataframe tbody tr th:only-of-type {\n",
       "        vertical-align: middle;\n",
       "    }\n",
       "\n",
       "    .dataframe tbody tr th {\n",
       "        vertical-align: top;\n",
       "    }\n",
       "\n",
       "    .dataframe thead th {\n",
       "        text-align: right;\n",
       "    }\n",
       "</style>\n",
       "<table border=\"1\" class=\"dataframe\">\n",
       "  <thead>\n",
       "    <tr style=\"text-align: right;\">\n",
       "      <th></th>\n",
       "      <th>RespondentID</th>\n",
       "      <th>StartDate</th>\n",
       "      <th>EndDate</th>\n",
       "      <th>CountryNumeric</th>\n",
       "      <th>q1AgeBeginCoding</th>\n",
       "      <th>q2Age</th>\n",
       "      <th>q3Gender</th>\n",
       "      <th>q4Education</th>\n",
       "      <th>q0004_other</th>\n",
       "      <th>q5DegreeFocus</th>\n",
       "      <th>...</th>\n",
       "      <th>q30LearnCodeOther</th>\n",
       "      <th>q0030_other</th>\n",
       "      <th>q31Level3</th>\n",
       "      <th>q32RecommendHackerRank</th>\n",
       "      <th>q0032_other</th>\n",
       "      <th>q33HackerRankChallforJob</th>\n",
       "      <th>q34PositiveExp</th>\n",
       "      <th>q34IdealLengHackerRankTest</th>\n",
       "      <th>q0035_other</th>\n",
       "      <th>q36Level4</th>\n",
       "    </tr>\n",
       "  </thead>\n",
       "  <tbody>\n",
       "    <tr>\n",
       "      <th>0</th>\n",
       "      <td>6.464454e+09</td>\n",
       "      <td>2017-10-19 11:51:00</td>\n",
       "      <td>2017-10-20 12:05:00</td>\n",
       "      <td>South Korea</td>\n",
       "      <td>16 - 20 years old</td>\n",
       "      <td>18 - 24 years old</td>\n",
       "      <td>Female</td>\n",
       "      <td>Some college</td>\n",
       "      <td>NaN</td>\n",
       "      <td>Computer Science</td>\n",
       "      <td>...</td>\n",
       "      <td>Other (please specify)</td>\n",
       "      <td>datacamp</td>\n",
       "      <td>num%2 == 0</td>\n",
       "      <td>Yes</td>\n",
       "      <td>NaN</td>\n",
       "      <td>No</td>\n",
       "      <td>NaN</td>\n",
       "      <td>#NULL!</td>\n",
       "      <td>NaN</td>\n",
       "      <td>Queue</td>\n",
       "    </tr>\n",
       "  </tbody>\n",
       "</table>\n",
       "<p>1 rows × 251 columns</p>\n",
       "</div>"
      ],
      "text/plain": [
       "   RespondentID           StartDate             EndDate CountryNumeric  \\\n",
       "0  6.464454e+09 2017-10-19 11:51:00 2017-10-20 12:05:00    South Korea   \n",
       "\n",
       "    q1AgeBeginCoding              q2Age q3Gender   q4Education q0004_other  \\\n",
       "0  16 - 20 years old  18 - 24 years old   Female  Some college         NaN   \n",
       "\n",
       "      q5DegreeFocus    ...          q30LearnCodeOther q0030_other   q31Level3  \\\n",
       "0  Computer Science    ...     Other (please specify)    datacamp  num%2 == 0   \n",
       "\n",
       "  q32RecommendHackerRank q0032_other q33HackerRankChallforJob q34PositiveExp  \\\n",
       "0                    Yes         NaN                       No            NaN   \n",
       "\n",
       "  q34IdealLengHackerRankTest q0035_other q36Level4  \n",
       "0                     #NULL!         NaN     Queue  \n",
       "\n",
       "[1 rows x 251 columns]"
      ]
     },
     "execution_count": 19,
     "metadata": {},
     "output_type": "execute_result"
    }
   ],
   "source": [
    "df.head(1)"
   ]
  },
  {
   "cell_type": "markdown",
   "metadata": {},
   "source": [
    "### 성별로 인기있는 언어"
   ]
  },
  {
   "cell_type": "code",
   "execution_count": 20,
   "metadata": {},
   "outputs": [
    {
     "data": {
      "text/plain": [
       "Index(['q25LangC', 'q25LangCPlusPlus', 'q25LangJava', 'q25LangPython',\n",
       "       'q25LangRuby', 'q25LangJavascript', 'q25LangCSharp', 'q25LangGo',\n",
       "       'q25Scala', 'q25LangPerl', 'q25LangSwift', 'q25LangPascal',\n",
       "       'q25LangClojure', 'q25LangPHP', 'q25LangHaskell', 'q25LangLua',\n",
       "       'q25LangR', 'q25LangRust', 'q25LangTypescript', 'q25LangKotlin',\n",
       "       'q25LangJulia', 'q25LangErlang', 'q25LangOcaml', 'q25LangOther',\n",
       "       'Gender'],\n",
       "      dtype='object')"
      ]
     },
     "execution_count": 20,
     "metadata": {},
     "output_type": "execute_result"
    }
   ],
   "source": [
    "prog = df[df.columns[139:163]]\n",
    "prog['Gender'] = df['q3Gender']\n",
    "prog = prog.dropna(axis=0, how='all')\n",
    "prog.columns"
   ]
  },
  {
   "cell_type": "code",
   "execution_count": 21,
   "metadata": {},
   "outputs": [
    {
     "data": {
      "text/html": [
       "<div>\n",
       "<style scoped>\n",
       "    .dataframe tbody tr th:only-of-type {\n",
       "        vertical-align: middle;\n",
       "    }\n",
       "\n",
       "    .dataframe tbody tr th {\n",
       "        vertical-align: top;\n",
       "    }\n",
       "\n",
       "    .dataframe thead th {\n",
       "        text-align: right;\n",
       "    }\n",
       "</style>\n",
       "<table border=\"1\" class=\"dataframe\">\n",
       "  <thead>\n",
       "    <tr style=\"text-align: right;\">\n",
       "      <th></th>\n",
       "      <th>q25LangC</th>\n",
       "      <th>q25LangCPlusPlus</th>\n",
       "      <th>q25LangJava</th>\n",
       "      <th>q25LangPython</th>\n",
       "      <th>q25LangRuby</th>\n",
       "      <th>q25LangJavascript</th>\n",
       "      <th>q25LangCSharp</th>\n",
       "      <th>q25LangGo</th>\n",
       "      <th>q25Scala</th>\n",
       "      <th>q25LangPerl</th>\n",
       "      <th>...</th>\n",
       "      <th>q25LangLua</th>\n",
       "      <th>q25LangR</th>\n",
       "      <th>q25LangRust</th>\n",
       "      <th>q25LangTypescript</th>\n",
       "      <th>q25LangKotlin</th>\n",
       "      <th>q25LangJulia</th>\n",
       "      <th>q25LangErlang</th>\n",
       "      <th>q25LangOcaml</th>\n",
       "      <th>q25LangOther</th>\n",
       "      <th>Gender</th>\n",
       "    </tr>\n",
       "  </thead>\n",
       "  <tbody>\n",
       "    <tr>\n",
       "      <th>0</th>\n",
       "      <td>Will Learn</td>\n",
       "      <td>Will Learn</td>\n",
       "      <td>Know</td>\n",
       "      <td>Will Learn</td>\n",
       "      <td>Will Learn</td>\n",
       "      <td>Will Learn</td>\n",
       "      <td>Will Learn</td>\n",
       "      <td>Will Learn</td>\n",
       "      <td>Will Learn</td>\n",
       "      <td>Will Learn</td>\n",
       "      <td>...</td>\n",
       "      <td>Will Learn</td>\n",
       "      <td>Know</td>\n",
       "      <td>Will Learn</td>\n",
       "      <td>Will Learn</td>\n",
       "      <td>Will Learn</td>\n",
       "      <td>Will Learn</td>\n",
       "      <td>Will Learn</td>\n",
       "      <td>Will Learn</td>\n",
       "      <td>NaN</td>\n",
       "      <td>Female</td>\n",
       "    </tr>\n",
       "    <tr>\n",
       "      <th>1</th>\n",
       "      <td>NaN</td>\n",
       "      <td>NaN</td>\n",
       "      <td>Know</td>\n",
       "      <td>NaN</td>\n",
       "      <td>NaN</td>\n",
       "      <td>NaN</td>\n",
       "      <td>NaN</td>\n",
       "      <td>NaN</td>\n",
       "      <td>NaN</td>\n",
       "      <td>NaN</td>\n",
       "      <td>...</td>\n",
       "      <td>NaN</td>\n",
       "      <td>NaN</td>\n",
       "      <td>NaN</td>\n",
       "      <td>NaN</td>\n",
       "      <td>Will Learn</td>\n",
       "      <td>NaN</td>\n",
       "      <td>NaN</td>\n",
       "      <td>NaN</td>\n",
       "      <td>NaN</td>\n",
       "      <td>Male</td>\n",
       "    </tr>\n",
       "    <tr>\n",
       "      <th>2</th>\n",
       "      <td>Will Learn</td>\n",
       "      <td>Will Learn</td>\n",
       "      <td>Will Learn</td>\n",
       "      <td>Know</td>\n",
       "      <td>Will Learn</td>\n",
       "      <td>Know</td>\n",
       "      <td>Will Learn</td>\n",
       "      <td>Will Learn</td>\n",
       "      <td>Will Learn</td>\n",
       "      <td>Will Learn</td>\n",
       "      <td>...</td>\n",
       "      <td>Will Learn</td>\n",
       "      <td>Will Learn</td>\n",
       "      <td>Will Learn</td>\n",
       "      <td>Will Learn</td>\n",
       "      <td>Will Learn</td>\n",
       "      <td>Will Learn</td>\n",
       "      <td>Will Learn</td>\n",
       "      <td>Will Learn</td>\n",
       "      <td>NaN</td>\n",
       "      <td>Female</td>\n",
       "    </tr>\n",
       "    <tr>\n",
       "      <th>3</th>\n",
       "      <td>NaN</td>\n",
       "      <td>Know</td>\n",
       "      <td>Will Learn</td>\n",
       "      <td>Will Learn</td>\n",
       "      <td>Know</td>\n",
       "      <td>Will Learn</td>\n",
       "      <td>Know</td>\n",
       "      <td>NaN</td>\n",
       "      <td>NaN</td>\n",
       "      <td>NaN</td>\n",
       "      <td>...</td>\n",
       "      <td>NaN</td>\n",
       "      <td>NaN</td>\n",
       "      <td>NaN</td>\n",
       "      <td>NaN</td>\n",
       "      <td>NaN</td>\n",
       "      <td>NaN</td>\n",
       "      <td>NaN</td>\n",
       "      <td>NaN</td>\n",
       "      <td>NaN</td>\n",
       "      <td>Male</td>\n",
       "    </tr>\n",
       "    <tr>\n",
       "      <th>4</th>\n",
       "      <td>NaN</td>\n",
       "      <td>NaN</td>\n",
       "      <td>NaN</td>\n",
       "      <td>NaN</td>\n",
       "      <td>NaN</td>\n",
       "      <td>Know</td>\n",
       "      <td>NaN</td>\n",
       "      <td>NaN</td>\n",
       "      <td>NaN</td>\n",
       "      <td>NaN</td>\n",
       "      <td>...</td>\n",
       "      <td>NaN</td>\n",
       "      <td>NaN</td>\n",
       "      <td>NaN</td>\n",
       "      <td>NaN</td>\n",
       "      <td>NaN</td>\n",
       "      <td>NaN</td>\n",
       "      <td>NaN</td>\n",
       "      <td>NaN</td>\n",
       "      <td>NaN</td>\n",
       "      <td>Female</td>\n",
       "    </tr>\n",
       "  </tbody>\n",
       "</table>\n",
       "<p>5 rows × 25 columns</p>\n",
       "</div>"
      ],
      "text/plain": [
       "     q25LangC q25LangCPlusPlus q25LangJava q25LangPython q25LangRuby  \\\n",
       "0  Will Learn       Will Learn        Know    Will Learn  Will Learn   \n",
       "1         NaN              NaN        Know           NaN         NaN   \n",
       "2  Will Learn       Will Learn  Will Learn          Know  Will Learn   \n",
       "3         NaN             Know  Will Learn    Will Learn        Know   \n",
       "4         NaN              NaN         NaN           NaN         NaN   \n",
       "\n",
       "  q25LangJavascript q25LangCSharp   q25LangGo    q25Scala q25LangPerl   ...    \\\n",
       "0        Will Learn    Will Learn  Will Learn  Will Learn  Will Learn   ...     \n",
       "1               NaN           NaN         NaN         NaN         NaN   ...     \n",
       "2              Know    Will Learn  Will Learn  Will Learn  Will Learn   ...     \n",
       "3        Will Learn          Know         NaN         NaN         NaN   ...     \n",
       "4              Know           NaN         NaN         NaN         NaN   ...     \n",
       "\n",
       "   q25LangLua    q25LangR q25LangRust q25LangTypescript q25LangKotlin  \\\n",
       "0  Will Learn        Know  Will Learn        Will Learn    Will Learn   \n",
       "1         NaN         NaN         NaN               NaN    Will Learn   \n",
       "2  Will Learn  Will Learn  Will Learn        Will Learn    Will Learn   \n",
       "3         NaN         NaN         NaN               NaN           NaN   \n",
       "4         NaN         NaN         NaN               NaN           NaN   \n",
       "\n",
       "  q25LangJulia q25LangErlang q25LangOcaml q25LangOther  Gender  \n",
       "0   Will Learn    Will Learn   Will Learn          NaN  Female  \n",
       "1          NaN           NaN          NaN          NaN    Male  \n",
       "2   Will Learn    Will Learn   Will Learn          NaN  Female  \n",
       "3          NaN           NaN          NaN          NaN    Male  \n",
       "4          NaN           NaN          NaN          NaN  Female  \n",
       "\n",
       "[5 rows x 25 columns]"
      ]
     },
     "execution_count": 21,
     "metadata": {},
     "output_type": "execute_result"
    }
   ],
   "source": [
    "prog[0:5]"
   ]
  },
  {
   "cell_type": "code",
   "execution_count": 22,
   "metadata": {},
   "outputs": [
    {
     "name": "stdout",
     "output_type": "stream",
     "text": [
      "q25LangC: 5904\n",
      "q25LangCPlusPlus: 6218\n",
      "q25LangJava: 3847\n",
      "q25LangPython: 3440\n",
      "q25LangRuby: 14793\n",
      "q25LangJavascript: 4695\n",
      "q25LangCSharp: 12500\n",
      "q25LangGo: 14665\n",
      "q25Scala: 16921\n",
      "q25LangPerl: 18456\n",
      "q25LangSwift: 16734\n",
      "q25LangPascal: 19084\n",
      "q25LangClojure: 19958\n",
      "q25LangPHP: 12663\n",
      "q25LangHaskell: 18584\n",
      "q25LangLua: 19888\n",
      "q25LangR: 15862\n",
      "q25LangRust: 19340\n",
      "q25LangTypescript: 16449\n",
      "q25LangKotlin: 17186\n",
      "q25LangJulia: 20517\n",
      "q25LangErlang: 19933\n",
      "q25LangOcaml: 20503\n",
      "q25LangOther: 24011\n"
     ]
    }
   ],
   "source": [
    "for i in prog.columns[:-1] :\n",
    "    print(i + \": \"+str(prog[i].isnull().sum()))"
   ]
  },
  {
   "cell_type": "code",
   "execution_count": 23,
   "metadata": {},
   "outputs": [
    {
     "data": {
      "image/png": "[encoded data removed]",
      "text/plain": [
       "<matplotlib.figure.Figure at 0x110a2d978>"
      ]
     },
     "metadata": {},
     "output_type": "display_data"
    }
   ],
   "source": [
    "colors = [\"blue\", \"orange\", \"greyish\", \"faded green\", \"dusty purple\"]\n",
    "fig, ax = plt.subplots(figsize=(20,20), ncols=5, nrows=5)\n",
    "count = 0\n",
    "times = 0\n",
    "for i in prog.columns[:-1]:\n",
    "    #sns.regplot(x='value', y='wage', data=df_melt, ax=axs[count])\n",
    "    sns.countplot(x=str(i), hue=\"Gender\", data=prog, \n",
    "                  palette = sns.xkcd_palette(colors), ax=ax[times][count])\n",
    "    count += 1\n",
    "    if count == 5 :\n",
    "        times += 1\n",
    "        count = 0"
   ]
  },
  {
   "cell_type": "markdown",
   "metadata": {},
   "source": [
    "### AgeBeginCoding"
   ]
  },
  {
   "cell_type": "code",
   "execution_count": 24,
   "metadata": {},
   "outputs": [
    {
     "data": {
      "application/vnd.plotly.v1+json": {
       "data": [
        {
         "name": "Men Respondents",
         "type": "bar",
         "x": [
          "18 - 24 years old",
          "25 - 34 years old",
          "35 - 44 years old",
          "12 - 18 years old",
          "45 - 54 years old",
          "55 - 64 years old",
          "#NULL!",
          "Under 12 years old",
          "65 - 74 years old",
          "75 years or older"
         ],
         "y": [
          48.33078977489508,
          34.85310950019077,
          10.091568103777185,
          3.9536436474628003,
          2.0078214421976344,
          0.43399465852727964,
          0.18599771079740557,
          0.05723006486074017,
          0.05246089278901182,
          0.03338420450209844
         ]
        },
        {
         "name": "Female Respondents",
         "type": "bar",
         "x": [
          "18 - 24 years old",
          "25 - 34 years old",
          "35 - 44 years old",
          "12 - 18 years old",
          "45 - 54 years old",
          "55 - 64 years old",
          "#NULL!",
          "75 years or older",
          "Under 12 years old"
         ],
         "y": [
          59.55846676370694,
          29.257641921397383,
          5.264434740417273,
          4.4153323629306165,
          1.1402231926249393,
          0.26686074721009223,
          0.048520135856380396,
          0.024260067928190198,
          0.024260067928190198
         ]
        }
       ],
       "layout": {
        "barmode": "group"
       }
      },
      "text/html": [
       "<div id=\"f750a502-0e62-4572-a0e5-cde43e196e0b\" style=\"height: 525px; width: 100%;\" class=\"plotly-graph-div\"></div><script type=\"text/javascript\">require([\"plotly\"], function(Plotly) { window.PLOTLYENV=window.PLOTLYENV || {};window.PLOTLYENV.BASE_URL=\"https://plot.ly\";Plotly.newPlot(\"f750a502-0e62-4572-a0e5-cde43e196e0b\", [{\"type\": \"bar\", \"x\": [\"18 - 24 years old\", \"25 - 34 years old\", \"35 - 44 years old\", \"12 - 18 years old\", \"45 - 54 years old\", \"55 - 64 years old\", \"#NULL!\", \"Under 12 years old\", \"65 - 74 years old\", \"75 years or older\"], \"y\": [48.33078977489508, 34.85310950019077, 10.091568103777185, 3.9536436474628003, 2.0078214421976344, 0.43399465852727964, 0.18599771079740557, 0.05723006486074017, 0.05246089278901182, 0.03338420450209844], \"name\": \"Men Respondents\"}, {\"type\": \"bar\", \"x\": [\"18 - 24 years old\", \"25 - 34 years old\", \"35 - 44 years old\", \"12 - 18 years old\", \"45 - 54 years old\", \"55 - 64 years old\", \"#NULL!\", \"75 years or older\", \"Under 12 years old\"], \"y\": [59.55846676370694, 29.257641921397383, 5.264434740417273, 4.4153323629306165, 1.1402231926249393, 0.26686074721009223, 0.048520135856380396, 0.024260067928190198, 0.024260067928190198], \"name\": \"Female Respondents\"}], {\"barmode\": \"group\"}, {\"showLink\": true, \"linkText\": \"Export to plot.ly\"})});</script>"
      ],
      "text/vnd.plotly.v1+html": [
       "<div id=\"f750a502-0e62-4572-a0e5-cde43e196e0b\" style=\"height: 525px; width: 100%;\" class=\"plotly-graph-div\"></div><script type=\"text/javascript\">require([\"plotly\"], function(Plotly) { window.PLOTLYENV=window.PLOTLYENV || {};window.PLOTLYENV.BASE_URL=\"https://plot.ly\";Plotly.newPlot(\"f750a502-0e62-4572-a0e5-cde43e196e0b\", [{\"type\": \"bar\", \"x\": [\"18 - 24 years old\", \"25 - 34 years old\", \"35 - 44 years old\", \"12 - 18 years old\", \"45 - 54 years old\", \"55 - 64 years old\", \"#NULL!\", \"Under 12 years old\", \"65 - 74 years old\", \"75 years or older\"], \"y\": [48.33078977489508, 34.85310950019077, 10.091568103777185, 3.9536436474628003, 2.0078214421976344, 0.43399465852727964, 0.18599771079740557, 0.05723006486074017, 0.05246089278901182, 0.03338420450209844], \"name\": \"Men Respondents\"}, {\"type\": \"bar\", \"x\": [\"18 - 24 years old\", \"25 - 34 years old\", \"35 - 44 years old\", \"12 - 18 years old\", \"45 - 54 years old\", \"55 - 64 years old\", \"#NULL!\", \"75 years or older\", \"Under 12 years old\"], \"y\": [59.55846676370694, 29.257641921397383, 5.264434740417273, 4.4153323629306165, 1.1402231926249393, 0.26686074721009223, 0.048520135856380396, 0.024260067928190198, 0.024260067928190198], \"name\": \"Female Respondents\"}], {\"barmode\": \"group\"}, {\"showLink\": true, \"linkText\": \"Export to plot.ly\"})});</script>"
      ]
     },
     "metadata": {},
     "output_type": "display_data"
    }
   ],
   "source": [
    "trace1 = go.Bar(\n",
    "    x=df_men['q2Age'].value_counts().index.tolist(),\n",
    "    y=np.multiply(np.divide(\n",
    "        df_men['q2Age'].value_counts().tolist(),\n",
    "        np.sum(df_men['q2Age'].value_counts().tolist())\n",
    "    ).tolist(),100).tolist(),\n",
    "    name='Men Respondents'\n",
    ")\n",
    "trace2 = go.Bar(\n",
    "    x = df_women['q2Age'].value_counts().index.tolist(),\n",
    "    y = np.multiply(np.divide(\n",
    "        df_women['q2Age'].value_counts().tolist(),\n",
    "        np.sum(df_women['q2Age'].value_counts().tolist())\n",
    "    ).tolist(),100).tolist(),\n",
    "    name = 'Female Respondents'\n",
    ")\n",
    "\n",
    "data = [trace1, trace2]\n",
    "layout = go.Layout(\n",
    "    barmode='group'\n",
    ")\n",
    "\n",
    "fig = go.Figure(data=data, layout=layout)\n",
    "py.iplot(fig, filename='grouped-bar')"
   ]
  },
  {
   "cell_type": "code",
   "execution_count": 25,
   "metadata": {},
   "outputs": [
    {
     "data": {
      "application/vnd.plotly.v1+json": {
       "data": [
        {
         "name": "Men Respondents",
         "type": "bar",
         "x": [
          "16 - 20 years old",
          "11 - 15 years old",
          "21 - 25 years old",
          "5 - 10 years old",
          "26 - 30 years old",
          "31 - 35 years old",
          "36 - 40 years old",
          "#NULL!",
          "41 - 50 years old",
          "50+ years or older"
         ],
         "y": [
          55.494086226631055,
          22.391262876764596,
          14.388592140404427,
          4.111026325829836,
          2.4418161007249144,
          0.6915299504006105,
          0.22892025944296068,
          0.12399847386493704,
          0.10492178557802365,
          0.02384586035864174
         ]
        },
        {
         "name": "Female Respondents",
         "type": "bar",
         "x": [
          "16 - 20 years old",
          "21 - 25 years old",
          "11 - 15 years old",
          "26 - 30 years old",
          "5 - 10 years old",
          "31 - 35 years old",
          "36 - 40 years old",
          "41 - 50 years old",
          "#NULL!",
          "50+ years or older"
         ],
         "y": [
          64.45900048520136,
          14.77438136826783,
          13.803978651140222,
          3.153808830664726,
          1.7224648229015043,
          1.1644832605531297,
          0.4609412906356138,
          0.2911208151382824,
          0.09704027171276079,
          0.0727802037845706
         ]
        }
       ],
       "layout": {
        "barmode": "group"
       }
      },
      "text/html": [
       "<div id=\"424448cc-b7bc-424f-a224-323768340885\" style=\"height: 525px; width: 100%;\" class=\"plotly-graph-div\"></div><script type=\"text/javascript\">require([\"plotly\"], function(Plotly) { window.PLOTLYENV=window.PLOTLYENV || {};window.PLOTLYENV.BASE_URL=\"https://plot.ly\";Plotly.newPlot(\"424448cc-b7bc-424f-a224-323768340885\", [{\"type\": \"bar\", \"x\": [\"16 - 20 years old\", \"11 - 15 years old\", \"21 - 25 years old\", \"5 - 10 years old\", \"26 - 30 years old\", \"31 - 35 years old\", \"36 - 40 years old\", \"#NULL!\", \"41 - 50 years old\", \"50+ years or older\"], \"y\": [55.494086226631055, 22.391262876764596, 14.388592140404427, 4.111026325829836, 2.4418161007249144, 0.6915299504006105, 0.22892025944296068, 0.12399847386493704, 0.10492178557802365, 0.02384586035864174], \"name\": \"Men Respondents\"}, {\"type\": \"bar\", \"x\": [\"16 - 20 years old\", \"21 - 25 years old\", \"11 - 15 years old\", \"26 - 30 years old\", \"5 - 10 years old\", \"31 - 35 years old\", \"36 - 40 years old\", \"41 - 50 years old\", \"#NULL!\", \"50+ years or older\"], \"y\": [64.45900048520136, 14.77438136826783, 13.803978651140222, 3.153808830664726, 1.7224648229015043, 1.1644832605531297, 0.4609412906356138, 0.2911208151382824, 0.09704027171276079, 0.0727802037845706], \"name\": \"Female Respondents\"}], {\"barmode\": \"group\"}, {\"showLink\": true, \"linkText\": \"Export to plot.ly\"})});</script>"
      ],
      "text/vnd.plotly.v1+html": [
       "<div id=\"424448cc-b7bc-424f-a224-323768340885\" style=\"height: 525px; width: 100%;\" class=\"plotly-graph-div\"></div><script type=\"text/javascript\">require([\"plotly\"], function(Plotly) { window.PLOTLYENV=window.PLOTLYENV || {};window.PLOTLYENV.BASE_URL=\"https://plot.ly\";Plotly.newPlot(\"424448cc-b7bc-424f-a224-323768340885\", [{\"type\": \"bar\", \"x\": [\"16 - 20 years old\", \"11 - 15 years old\", \"21 - 25 years old\", \"5 - 10 years old\", \"26 - 30 years old\", \"31 - 35 years old\", \"36 - 40 years old\", \"#NULL!\", \"41 - 50 years old\", \"50+ years or older\"], \"y\": [55.494086226631055, 22.391262876764596, 14.388592140404427, 4.111026325829836, 2.4418161007249144, 0.6915299504006105, 0.22892025944296068, 0.12399847386493704, 0.10492178557802365, 0.02384586035864174], \"name\": \"Men Respondents\"}, {\"type\": \"bar\", \"x\": [\"16 - 20 years old\", \"21 - 25 years old\", \"11 - 15 years old\", \"26 - 30 years old\", \"5 - 10 years old\", \"31 - 35 years old\", \"36 - 40 years old\", \"41 - 50 years old\", \"#NULL!\", \"50+ years or older\"], \"y\": [64.45900048520136, 14.77438136826783, 13.803978651140222, 3.153808830664726, 1.7224648229015043, 1.1644832605531297, 0.4609412906356138, 0.2911208151382824, 0.09704027171276079, 0.0727802037845706], \"name\": \"Female Respondents\"}], {\"barmode\": \"group\"}, {\"showLink\": true, \"linkText\": \"Export to plot.ly\"})});</script>"
      ]
     },
     "metadata": {},
     "output_type": "display_data"
    }
   ],
   "source": [
    "trace1 = go.Bar(\n",
    "    x = df_men['q1AgeBeginCoding'].value_counts().index.tolist(),\n",
    "    y = np.multiply(np.divide(\n",
    "        df_men['q1AgeBeginCoding'].value_counts().tolist(),\n",
    "        np.sum(df_men['q1AgeBeginCoding'].value_counts().tolist())\n",
    "    ).tolist(),100).tolist(),\n",
    "    name='Men Respondents'\n",
    ")\n",
    "trace2 = go.Bar(\n",
    "    x = df_women['q1AgeBeginCoding'].value_counts().index.tolist(),\n",
    "    y = np.multiply(np.divide(\n",
    "        df_women['q1AgeBeginCoding'].value_counts().tolist(),\n",
    "        np.sum(df_women['q1AgeBeginCoding'].value_counts().tolist())\n",
    "    ).tolist(),100).tolist(),\n",
    "    name='Female Respondents'\n",
    ")\n",
    "\n",
    "data = [trace1, trace2]\n",
    "layout = go.Layout(\n",
    "    barmode='group'\n",
    ")\n",
    "\n",
    "fig = go.Figure(data=data, layout=layout)\n",
    "py.iplot(fig, filename='grouped-bar')"
   ]
  },
  {
   "cell_type": "code",
   "execution_count": 26,
   "metadata": {},
   "outputs": [
    {
     "name": "stdout",
     "output_type": "stream",
     "text": [
      "our TOP 10 country respondents is :\n",
      "Index(['Ghana', 'India', 'United States', 'Sudan', 'Malaysia', 'Brazil',\n",
      "       'Russian Federation', 'United Kingdom', 'Canada', 'Indonesia'],\n",
      "      dtype='object')\n"
     ]
    }
   ],
   "source": [
    "focus_country = df['CountryNumeric'].value_counts().to_frame()\n",
    "print(\"our TOP 10 country respondents is :\") \n",
    "print(focus_country.head(10).index)"
   ]
  },
  {
   "cell_type": "markdown",
   "metadata": {},
   "source": [
    "### TOP 10 country respondents"
   ]
  },
  {
   "cell_type": "code",
   "execution_count": 27,
   "metadata": {},
   "outputs": [
    {
     "name": "stdout",
     "output_type": "stream",
     "text": [
      "our TOP 10 country respondents is :\n",
      "Index(['Ghana', 'India', 'United States', 'Sudan', 'Malaysia', 'Brazil',\n",
      "       'Russian Federation', 'United Kingdom', 'Canada', 'Indonesia'],\n",
      "      dtype='object')\n"
     ]
    }
   ],
   "source": [
    "focus_country = df['CountryNumeric'].value_counts().to_frame()\n",
    "print(\"our TOP 10 country respondents is :\") \n",
    "print(focus_country.head(10).index)"
   ]
  },
  {
   "cell_type": "code",
   "execution_count": 29,
   "metadata": {},
   "outputs": [
    {
     "data": {
      "application/vnd.plotly.v1+json": {
       "data": [
        {
         "autocolorscale": false,
         "colorbar": {
          "autotick": false,
          "tickprefix": "",
          "title": "Respondents"
         },
         "colorscale": [
          [
           0,
           "rgb(5, 10, 172)"
          ],
          [
           0.35,
           "rgb(40, 60, 190)"
          ],
          [
           0.5,
           "rgb(70, 100, 245)"
          ],
          [
           0.6,
           "rgb(90, 120, 245)"
          ],
          [
           0.7,
           "rgb(106, 137, 247)"
          ],
          [
           1,
           "rgb(220, 220, 220)"
          ]
         ],
         "locationmode": "country names",
         "locations": [
          "Ghana",
          "India",
          "United States",
          "Sudan",
          "Malaysia",
          "Brazil",
          "Russian Federation",
          "United Kingdom",
          "Canada",
          "Indonesia",
          "Poland",
          "Netherlands",
          "Mexico",
          "Spain",
          "Germany",
          "Sri Lanka",
          "Turkey",
          "Guatemala",
          "Philippines",
          "Egypt",
          "Ukraine",
          "France",
          "Romania",
          "Australia",
          "South Korea",
          "Italy",
          "Azerbaijan",
          "Hungary",
          "Argentina",
          "Republic of Moldova",
          "Portugal",
          "Singapore",
          "Colombia",
          "Somalia",
          "Taiwan",
          "Bulgaria",
          "Nigeria",
          "Bangladesh",
          "Pakistan",
          "Belize",
          "Israel",
          "South Africa",
          "Vietnam",
          "Cyprus",
          "Montenegro",
          "Sweden",
          "Palestine",
          "Chile",
          "Belarus",
          "Greece",
          "Asia/Pacific Region",
          "Dominican Republic",
          "New Zealand",
          "Czech Republic",
          "Ireland",
          "Hong Kong",
          "Latvia",
          "Panama",
          "Switzerland",
          "Peru",
          "Finland",
          "Lithuania",
          "Denmark",
          "Iran",
          "Serbia",
          "Slovakia",
          "Kenya",
          "Japan",
          "Cambodia",
          "Croatia",
          "Austria",
          "Malta",
          "Qatar",
          "Kazakhstan",
          "Cote D'Ivoire",
          "Republic of Lithuania",
          "Belgium",
          "Venezuela",
          "Macedonia",
          "China",
          "Bolivia",
          "Maldives",
          "Nepal",
          "Norway",
          "Algeria",
          "Palestinian Territory",
          "Cameroon",
          "Estonia",
          "Senegal",
          "Costa Rica",
          "Mauritius",
          "Thailand",
          "Chennai",
          "United Arab Emirates",
          "Armenia",
          "Morocco",
          "Slovenia",
          "Mongolia",
          "Ecuador",
          "El Salvador",
          "Cuba",
          "Jordan",
          "Puerto Rico",
          "Barbados",
          "Tunisia",
          "Uruguay",
          "Papua New Guinea",
          "Haiti",
          "Albania",
          "Kuwait",
          "Luxembourg",
          "CN",
          "Jamaica",
          "Paraguay",
          "Uzbekistan",
          "Uganda",
          "Bosnia and Herzegovina",
          "Europe",
          "Georgia",
          "Moldova",
          "Lebanon",
          "Ethiopia",
          "Oman",
          "Swaziland",
          "Syrian Arab Republic",
          "Honduras",
          "Saudi Arabia",
          "Libya",
          "Namibia",
          "Madagascar",
          "Nigerian",
          "Zimbabwe",
          "Afghanistan",
          "Guinea",
          "Macedonia, The Former Yugoslav Republic of",
          "Andorra",
          "Tanzania",
          "Kosovo",
          "British Indian Ocean Territory"
         ],
         "marker": {
          "line": {
           "color": "rgb(180,180,180)",
           "width": 1
          }
         },
         "reversescale": true,
         "text": [
          4402,
          3734,
          3186,
          1753,
          1120,
          766,
          371,
          326,
          311,
          233,
          202,
          186,
          184,
          173,
          170,
          168,
          167,
          163,
          153,
          149,
          143,
          130,
          124,
          122,
          112,
          110,
          109,
          109,
          106,
          96,
          95,
          92,
          89,
          84,
          83,
          80,
          80,
          79,
          78,
          74,
          73,
          70,
          67,
          64,
          63,
          60,
          59,
          57,
          55,
          55,
          53,
          53,
          52,
          51,
          50,
          49,
          48,
          40,
          39,
          38,
          37,
          36,
          35,
          34,
          33,
          32,
          32,
          32,
          31,
          30,
          30,
          29,
          28,
          27,
          26,
          26,
          26,
          26,
          25,
          25,
          24,
          23,
          22,
          22,
          22,
          20,
          19,
          19,
          18,
          17,
          17,
          17,
          14,
          14,
          14,
          14,
          13,
          13,
          12,
          12,
          11,
          10,
          10,
          9,
          9,
          9,
          8,
          8,
          8,
          8,
          7,
          7,
          7,
          6,
          6,
          6,
          6,
          6,
          6,
          5,
          5,
          5,
          5,
          4,
          4,
          3,
          3,
          3,
          3,
          3,
          3,
          3,
          2,
          2,
          2,
          2,
          2,
          2,
          2
         ],
         "type": "choropleth",
         "z": [
          4402,
          3734,
          3186,
          1753,
          1120,
          766,
          371,
          326,
          311,
          233,
          202,
          186,
          184,
          173,
          170,
          168,
          167,
          163,
          153,
          149,
          143,
          130,
          124,
          122,
          112,
          110,
          109,
          109,
          106,
          96,
          95,
          92,
          89,
          84,
          83,
          80,
          80,
          79,
          78,
          74,
          73,
          70,
          67,
          64,
          63,
          60,
          59,
          57,
          55,
          55,
          53,
          53,
          52,
          51,
          50,
          49,
          48,
          40,
          39,
          38,
          37,
          36,
          35,
          34,
          33,
          32,
          32,
          32,
          31,
          30,
          30,
          29,
          28,
          27,
          26,
          26,
          26,
          26,
          25,
          25,
          24,
          23,
          22,
          22,
          22,
          20,
          19,
          19,
          18,
          17,
          17,
          17,
          14,
          14,
          14,
          14,
          13,
          13,
          12,
          12,
          11,
          10,
          10,
          9,
          9,
          9,
          8,
          8,
          8,
          8,
          7,
          7,
          7,
          6,
          6,
          6,
          6,
          6,
          6,
          5,
          5,
          5,
          5,
          4,
          4,
          3,
          3,
          3,
          3,
          3,
          3,
          3,
          2,
          2,
          2,
          2,
          2,
          2,
          2
         ]
        }
       ],
       "layout": {
        "geo": {
         "projection": {
          "type": "Mercator"
         },
         "showcoastlines": true,
         "showframe": true
        },
        "title": "Number of respondents by country"
       }
      },
      "text/html": [
       "<div id=\"ac1074f3-708c-4f7a-aae0-ab018889550a\" style=\"height: 525px; width: 100%;\" class=\"plotly-graph-div\"></div><script type=\"text/javascript\">require([\"plotly\"], function(Plotly) { window.PLOTLYENV=window.PLOTLYENV || {};window.PLOTLYENV.BASE_URL=\"https://plot.ly\";Plotly.newPlot(\"ac1074f3-708c-4f7a-aae0-ab018889550a\", [{\"type\": \"choropleth\", \"locations\": [\"Ghana\", \"India\", \"United States\", \"Sudan\", \"Malaysia\", \"Brazil\", \"Russian Federation\", \"United Kingdom\", \"Canada\", \"Indonesia\", \"Poland\", \"Netherlands\", \"Mexico\", \"Spain\", \"Germany\", \"Sri Lanka\", \"Turkey\", \"Guatemala\", \"Philippines\", \"Egypt\", \"Ukraine\", \"France\", \"Romania\", \"Australia\", \"South Korea\", \"Italy\", \"Azerbaijan\", \"Hungary\", \"Argentina\", \"Republic of Moldova\", \"Portugal\", \"Singapore\", \"Colombia\", \"Somalia\", \"Taiwan\", \"Bulgaria\", \"Nigeria\", \"Bangladesh\", \"Pakistan\", \"Belize\", \"Israel\", \"South Africa\", \"Vietnam\", \"Cyprus\", \"Montenegro\", \"Sweden\", \"Palestine\", \"Chile\", \"Belarus\", \"Greece\", \"Asia/Pacific Region\", \"Dominican Republic\", \"New Zealand\", \"Czech Republic\", \"Ireland\", \"Hong Kong\", \"Latvia\", \"Panama\", \"Switzerland\", \"Peru\", \"Finland\", \"Lithuania\", \"Denmark\", \"Iran\", \"Serbia\", \"Slovakia\", \"Kenya\", \"Japan\", \"Cambodia\", \"Croatia\", \"Austria\", \"Malta\", \"Qatar\", \"Kazakhstan\", \"Cote D'Ivoire\", \"Republic of Lithuania\", \"Belgium\", \"Venezuela\", \"Macedonia\", \"China\", \"Bolivia\", \"Maldives\", \"Nepal\", \"Norway\", \"Algeria\", \"Palestinian Territory\", \"Cameroon\", \"Estonia\", \"Senegal\", \"Costa Rica\", \"Mauritius\", \"Thailand\", \"Chennai\", \"United Arab Emirates\", \"Armenia\", \"Morocco\", \"Slovenia\", \"Mongolia\", \"Ecuador\", \"El Salvador\", \"Cuba\", \"Jordan\", \"Puerto Rico\", \"Barbados\", \"Tunisia\", \"Uruguay\", \"Papua New Guinea\", \"Haiti\", \"Albania\", \"Kuwait\", \"Luxembourg\", \"CN\", \"Jamaica\", \"Paraguay\", \"Uzbekistan\", \"Uganda\", \"Bosnia and Herzegovina\", \"Europe\", \"Georgia\", \"Moldova\", \"Lebanon\", \"Ethiopia\", \"Oman\", \"Swaziland\", \"Syrian Arab Republic\", \"Honduras\", \"Saudi Arabia\", \"Libya\", \"Namibia\", \"Madagascar\", \"Nigerian\", \"Zimbabwe\", \"Afghanistan\", \"Guinea\", \"Macedonia, The Former Yugoslav Republic of\", \"Andorra\", \"Tanzania\", \"Kosovo\", \"British Indian Ocean Territory\"], \"locationmode\": \"country names\", \"z\": [4402, 3734, 3186, 1753, 1120, 766, 371, 326, 311, 233, 202, 186, 184, 173, 170, 168, 167, 163, 153, 149, 143, 130, 124, 122, 112, 110, 109, 109, 106, 96, 95, 92, 89, 84, 83, 80, 80, 79, 78, 74, 73, 70, 67, 64, 63, 60, 59, 57, 55, 55, 53, 53, 52, 51, 50, 49, 48, 40, 39, 38, 37, 36, 35, 34, 33, 32, 32, 32, 31, 30, 30, 29, 28, 27, 26, 26, 26, 26, 25, 25, 24, 23, 22, 22, 22, 20, 19, 19, 18, 17, 17, 17, 14, 14, 14, 14, 13, 13, 12, 12, 11, 10, 10, 9, 9, 9, 8, 8, 8, 8, 7, 7, 7, 6, 6, 6, 6, 6, 6, 5, 5, 5, 5, 4, 4, 3, 3, 3, 3, 3, 3, 3, 2, 2, 2, 2, 2, 2, 2], \"text\": [4402, 3734, 3186, 1753, 1120, 766, 371, 326, 311, 233, 202, 186, 184, 173, 170, 168, 167, 163, 153, 149, 143, 130, 124, 122, 112, 110, 109, 109, 106, 96, 95, 92, 89, 84, 83, 80, 80, 79, 78, 74, 73, 70, 67, 64, 63, 60, 59, 57, 55, 55, 53, 53, 52, 51, 50, 49, 48, 40, 39, 38, 37, 36, 35, 34, 33, 32, 32, 32, 31, 30, 30, 29, 28, 27, 26, 26, 26, 26, 25, 25, 24, 23, 22, 22, 22, 20, 19, 19, 18, 17, 17, 17, 14, 14, 14, 14, 13, 13, 12, 12, 11, 10, 10, 9, 9, 9, 8, 8, 8, 8, 7, 7, 7, 6, 6, 6, 6, 6, 6, 5, 5, 5, 5, 4, 4, 3, 3, 3, 3, 3, 3, 3, 2, 2, 2, 2, 2, 2, 2], \"colorscale\": [[0, \"rgb(5, 10, 172)\"], [0.35, \"rgb(40, 60, 190)\"], [0.5, \"rgb(70, 100, 245)\"], [0.6, \"rgb(90, 120, 245)\"], [0.7, \"rgb(106, 137, 247)\"], [1, \"rgb(220, 220, 220)\"]], \"autocolorscale\": false, \"reversescale\": true, \"marker\": {\"line\": {\"color\": \"rgb(180,180,180)\", \"width\": 1}}, \"colorbar\": {\"autotick\": false, \"tickprefix\": \"\", \"title\": \"Respondents\"}}], {\"title\": \"Number of respondents by country\", \"geo\": {\"showframe\": true, \"showcoastlines\": true, \"projection\": {\"type\": \"Mercator\"}}}, {\"showLink\": true, \"linkText\": \"Export to plot.ly\"})});</script>"
      ],
      "text/vnd.plotly.v1+html": [
       "<div id=\"ac1074f3-708c-4f7a-aae0-ab018889550a\" style=\"height: 525px; width: 100%;\" class=\"plotly-graph-div\"></div><script type=\"text/javascript\">require([\"plotly\"], function(Plotly) { window.PLOTLYENV=window.PLOTLYENV || {};window.PLOTLYENV.BASE_URL=\"https://plot.ly\";Plotly.newPlot(\"ac1074f3-708c-4f7a-aae0-ab018889550a\", [{\"type\": \"choropleth\", \"locations\": [\"Ghana\", \"India\", \"United States\", \"Sudan\", \"Malaysia\", \"Brazil\", \"Russian Federation\", \"United Kingdom\", \"Canada\", \"Indonesia\", \"Poland\", \"Netherlands\", \"Mexico\", \"Spain\", \"Germany\", \"Sri Lanka\", \"Turkey\", \"Guatemala\", \"Philippines\", \"Egypt\", \"Ukraine\", \"France\", \"Romania\", \"Australia\", \"South Korea\", \"Italy\", \"Azerbaijan\", \"Hungary\", \"Argentina\", \"Republic of Moldova\", \"Portugal\", \"Singapore\", \"Colombia\", \"Somalia\", \"Taiwan\", \"Bulgaria\", \"Nigeria\", \"Bangladesh\", \"Pakistan\", \"Belize\", \"Israel\", \"South Africa\", \"Vietnam\", \"Cyprus\", \"Montenegro\", \"Sweden\", \"Palestine\", \"Chile\", \"Belarus\", \"Greece\", \"Asia/Pacific Region\", \"Dominican Republic\", \"New Zealand\", \"Czech Republic\", \"Ireland\", \"Hong Kong\", \"Latvia\", \"Panama\", \"Switzerland\", \"Peru\", \"Finland\", \"Lithuania\", \"Denmark\", \"Iran\", \"Serbia\", \"Slovakia\", \"Kenya\", \"Japan\", \"Cambodia\", \"Croatia\", \"Austria\", \"Malta\", \"Qatar\", \"Kazakhstan\", \"Cote D'Ivoire\", \"Republic of Lithuania\", \"Belgium\", \"Venezuela\", \"Macedonia\", \"China\", \"Bolivia\", \"Maldives\", \"Nepal\", \"Norway\", \"Algeria\", \"Palestinian Territory\", \"Cameroon\", \"Estonia\", \"Senegal\", \"Costa Rica\", \"Mauritius\", \"Thailand\", \"Chennai\", \"United Arab Emirates\", \"Armenia\", \"Morocco\", \"Slovenia\", \"Mongolia\", \"Ecuador\", \"El Salvador\", \"Cuba\", \"Jordan\", \"Puerto Rico\", \"Barbados\", \"Tunisia\", \"Uruguay\", \"Papua New Guinea\", \"Haiti\", \"Albania\", \"Kuwait\", \"Luxembourg\", \"CN\", \"Jamaica\", \"Paraguay\", \"Uzbekistan\", \"Uganda\", \"Bosnia and Herzegovina\", \"Europe\", \"Georgia\", \"Moldova\", \"Lebanon\", \"Ethiopia\", \"Oman\", \"Swaziland\", \"Syrian Arab Republic\", \"Honduras\", \"Saudi Arabia\", \"Libya\", \"Namibia\", \"Madagascar\", \"Nigerian\", \"Zimbabwe\", \"Afghanistan\", \"Guinea\", \"Macedonia, The Former Yugoslav Republic of\", \"Andorra\", \"Tanzania\", \"Kosovo\", \"British Indian Ocean Territory\"], \"locationmode\": \"country names\", \"z\": [4402, 3734, 3186, 1753, 1120, 766, 371, 326, 311, 233, 202, 186, 184, 173, 170, 168, 167, 163, 153, 149, 143, 130, 124, 122, 112, 110, 109, 109, 106, 96, 95, 92, 89, 84, 83, 80, 80, 79, 78, 74, 73, 70, 67, 64, 63, 60, 59, 57, 55, 55, 53, 53, 52, 51, 50, 49, 48, 40, 39, 38, 37, 36, 35, 34, 33, 32, 32, 32, 31, 30, 30, 29, 28, 27, 26, 26, 26, 26, 25, 25, 24, 23, 22, 22, 22, 20, 19, 19, 18, 17, 17, 17, 14, 14, 14, 14, 13, 13, 12, 12, 11, 10, 10, 9, 9, 9, 8, 8, 8, 8, 7, 7, 7, 6, 6, 6, 6, 6, 6, 5, 5, 5, 5, 4, 4, 3, 3, 3, 3, 3, 3, 3, 2, 2, 2, 2, 2, 2, 2], \"text\": [4402, 3734, 3186, 1753, 1120, 766, 371, 326, 311, 233, 202, 186, 184, 173, 170, 168, 167, 163, 153, 149, 143, 130, 124, 122, 112, 110, 109, 109, 106, 96, 95, 92, 89, 84, 83, 80, 80, 79, 78, 74, 73, 70, 67, 64, 63, 60, 59, 57, 55, 55, 53, 53, 52, 51, 50, 49, 48, 40, 39, 38, 37, 36, 35, 34, 33, 32, 32, 32, 31, 30, 30, 29, 28, 27, 26, 26, 26, 26, 25, 25, 24, 23, 22, 22, 22, 20, 19, 19, 18, 17, 17, 17, 14, 14, 14, 14, 13, 13, 12, 12, 11, 10, 10, 9, 9, 9, 8, 8, 8, 8, 7, 7, 7, 6, 6, 6, 6, 6, 6, 5, 5, 5, 5, 4, 4, 3, 3, 3, 3, 3, 3, 3, 2, 2, 2, 2, 2, 2, 2], \"colorscale\": [[0, \"rgb(5, 10, 172)\"], [0.35, \"rgb(40, 60, 190)\"], [0.5, \"rgb(70, 100, 245)\"], [0.6, \"rgb(90, 120, 245)\"], [0.7, \"rgb(106, 137, 247)\"], [1, \"rgb(220, 220, 220)\"]], \"autocolorscale\": false, \"reversescale\": true, \"marker\": {\"line\": {\"color\": \"rgb(180,180,180)\", \"width\": 1}}, \"colorbar\": {\"autotick\": false, \"tickprefix\": \"\", \"title\": \"Respondents\"}}], {\"title\": \"Number of respondents by country\", \"geo\": {\"showframe\": true, \"showcoastlines\": true, \"projection\": {\"type\": \"Mercator\"}}}, {\"showLink\": true, \"linkText\": \"Export to plot.ly\"})});</script>"
      ]
     },
     "metadata": {},
     "output_type": "display_data"
    }
   ],
   "source": [
    "data = [ dict(\n",
    "        type = 'choropleth',\n",
    "        locations = focus_country.index,\n",
    "        locationmode = 'country names',\n",
    "        z = focus_country['CountryNumeric'],\n",
    "        text = focus_country['CountryNumeric'],\n",
    "        colorscale = [[0,\"rgb(5, 10, 172)\"],[0.35,\"rgb(40, 60, 190)\"],[0.5,\"rgb(70, 100, 245)\"],\\\n",
    "            [0.6,\"rgb(90, 120, 245)\"],[0.7,\"rgb(106, 137, 247)\"],[1,\"rgb(220, 220, 220)\"]],\n",
    "        autocolorscale = False,\n",
    "        reversescale = True,\n",
    "        marker = dict(\n",
    "            line = dict (\n",
    "                color = 'rgb(180,180,180)',\n",
    "                width = 1\n",
    "            ) ),\n",
    "        colorbar = dict(\n",
    "            autotick = False,\n",
    "            tickprefix = '',\n",
    "            title = 'Respondents'),\n",
    "      ) ]\n",
    "\n",
    "layout = dict(\n",
    "    title = 'Number of respondents by country',\n",
    "    geo = dict(\n",
    "        showframe = True,\n",
    "        showcoastlines = True,\n",
    "        projection = dict(\n",
    "            type = 'Mercator'\n",
    "        )\n",
    "    )\n",
    ")\n",
    "\n",
    "fig = dict( data=data, layout=layout )\n",
    "py.iplot( fig, validate=False, filename='d3-world-map' )"
   ]
  },
  {
   "cell_type": "code",
   "execution_count": 32,
   "metadata": {},
   "outputs": [
    {
     "data": {
      "text/html": [
       "<div>\n",
       "<style scoped>\n",
       "    .dataframe tbody tr th:only-of-type {\n",
       "        vertical-align: middle;\n",
       "    }\n",
       "\n",
       "    .dataframe tbody tr th {\n",
       "        vertical-align: top;\n",
       "    }\n",
       "\n",
       "    .dataframe thead th {\n",
       "        text-align: right;\n",
       "    }\n",
       "</style>\n",
       "<table border=\"1\" class=\"dataframe\">\n",
       "  <thead>\n",
       "    <tr style=\"text-align: right;\">\n",
       "      <th></th>\n",
       "      <th>CountryNumeric</th>\n",
       "    </tr>\n",
       "  </thead>\n",
       "  <tbody>\n",
       "    <tr>\n",
       "      <th>Ghana</th>\n",
       "      <td>4402</td>\n",
       "    </tr>\n",
       "    <tr>\n",
       "      <th>India</th>\n",
       "      <td>3734</td>\n",
       "    </tr>\n",
       "    <tr>\n",
       "      <th>United States</th>\n",
       "      <td>3186</td>\n",
       "    </tr>\n",
       "    <tr>\n",
       "      <th>Sudan</th>\n",
       "      <td>1753</td>\n",
       "    </tr>\n",
       "    <tr>\n",
       "      <th>Malaysia</th>\n",
       "      <td>1120</td>\n",
       "    </tr>\n",
       "    <tr>\n",
       "      <th>Brazil</th>\n",
       "      <td>766</td>\n",
       "    </tr>\n",
       "    <tr>\n",
       "      <th>Russian Federation</th>\n",
       "      <td>371</td>\n",
       "    </tr>\n",
       "    <tr>\n",
       "      <th>United Kingdom</th>\n",
       "      <td>326</td>\n",
       "    </tr>\n",
       "    <tr>\n",
       "      <th>Canada</th>\n",
       "      <td>311</td>\n",
       "    </tr>\n",
       "    <tr>\n",
       "      <th>Indonesia</th>\n",
       "      <td>233</td>\n",
       "    </tr>\n",
       "  </tbody>\n",
       "</table>\n",
       "</div>"
      ],
      "text/plain": [
       "                    CountryNumeric\n",
       "Ghana                         4402\n",
       "India                         3734\n",
       "United States                 3186\n",
       "Sudan                         1753\n",
       "Malaysia                      1120\n",
       "Brazil                         766\n",
       "Russian Federation             371\n",
       "United Kingdom                 326\n",
       "Canada                         311\n",
       "Indonesia                      233"
      ]
     },
     "execution_count": 32,
     "metadata": {},
     "output_type": "execute_result"
    }
   ],
   "source": [
    "focus_country.head(10)"
   ]
  },
  {
   "cell_type": "code",
   "execution_count": 33,
   "metadata": {},
   "outputs": [
    {
     "name": "stdout",
     "output_type": "stream",
     "text": [
      "N° of Male respondents for Ghana is : 3510\n",
      "N° of Female respondents for Ghana is : 892\n"
     ]
    },
    {
     "data": {
      "application/vnd.plotly.v1+json": {
       "data": [
        {
         "name": "Men Respondents in Ghana",
         "type": "bar",
         "x": [
          "16 - 20 years old",
          "11 - 15 years old",
          "21 - 25 years old",
          "5 - 10 years old",
          "#NULL!",
          "26 - 30 years old",
          "36 - 40 years old",
          "31 - 35 years old"
         ],
         "y": [
          77.43589743589745,
          15.669515669515668,
          5.954415954415954,
          0.6267806267806267,
          0.11396011396011395,
          0.08547008547008547,
          0.056980056980056974,
          0.056980056980056974
         ]
        },
        {
         "name": "Female Respondents in Ghana",
         "type": "bar",
         "x": [
          "16 - 20 years old",
          "11 - 15 years old",
          "21 - 25 years old",
          "5 - 10 years old",
          "26 - 30 years old",
          "#NULL!",
          "36 - 40 years old",
          "31 - 35 years old"
         ],
         "y": [
          83.5201793721973,
          11.434977578475337,
          4.0358744394618835,
          0.336322869955157,
          0.2242152466367713,
          0.2242152466367713,
          0.11210762331838565,
          0.11210762331838565
         ]
        }
       ],
       "layout": {
        "barmode": "group"
       }
      },
      "text/html": [
       "<div id=\"314a3b12-b59d-490d-8d4e-77ee689ac04a\" style=\"height: 525px; width: 100%;\" class=\"plotly-graph-div\"></div><script type=\"text/javascript\">require([\"plotly\"], function(Plotly) { window.PLOTLYENV=window.PLOTLYENV || {};window.PLOTLYENV.BASE_URL=\"https://plot.ly\";Plotly.newPlot(\"314a3b12-b59d-490d-8d4e-77ee689ac04a\", [{\"type\": \"bar\", \"x\": [\"16 - 20 years old\", \"11 - 15 years old\", \"21 - 25 years old\", \"5 - 10 years old\", \"#NULL!\", \"26 - 30 years old\", \"36 - 40 years old\", \"31 - 35 years old\"], \"y\": [77.43589743589745, 15.669515669515668, 5.954415954415954, 0.6267806267806267, 0.11396011396011395, 0.08547008547008547, 0.056980056980056974, 0.056980056980056974], \"name\": \"Men Respondents in Ghana\"}, {\"type\": \"bar\", \"x\": [\"16 - 20 years old\", \"11 - 15 years old\", \"21 - 25 years old\", \"5 - 10 years old\", \"26 - 30 years old\", \"#NULL!\", \"36 - 40 years old\", \"31 - 35 years old\"], \"y\": [83.5201793721973, 11.434977578475337, 4.0358744394618835, 0.336322869955157, 0.2242152466367713, 0.2242152466367713, 0.11210762331838565, 0.11210762331838565], \"name\": \"Female Respondents in Ghana\"}], {\"barmode\": \"group\"}, {\"showLink\": true, \"linkText\": \"Export to plot.ly\"})});</script>"
      ],
      "text/vnd.plotly.v1+html": [
       "<div id=\"314a3b12-b59d-490d-8d4e-77ee689ac04a\" style=\"height: 525px; width: 100%;\" class=\"plotly-graph-div\"></div><script type=\"text/javascript\">require([\"plotly\"], function(Plotly) { window.PLOTLYENV=window.PLOTLYENV || {};window.PLOTLYENV.BASE_URL=\"https://plot.ly\";Plotly.newPlot(\"314a3b12-b59d-490d-8d4e-77ee689ac04a\", [{\"type\": \"bar\", \"x\": [\"16 - 20 years old\", \"11 - 15 years old\", \"21 - 25 years old\", \"5 - 10 years old\", \"#NULL!\", \"26 - 30 years old\", \"36 - 40 years old\", \"31 - 35 years old\"], \"y\": [77.43589743589745, 15.669515669515668, 5.954415954415954, 0.6267806267806267, 0.11396011396011395, 0.08547008547008547, 0.056980056980056974, 0.056980056980056974], \"name\": \"Men Respondents in Ghana\"}, {\"type\": \"bar\", \"x\": [\"16 - 20 years old\", \"11 - 15 years old\", \"21 - 25 years old\", \"5 - 10 years old\", \"26 - 30 years old\", \"#NULL!\", \"36 - 40 years old\", \"31 - 35 years old\"], \"y\": [83.5201793721973, 11.434977578475337, 4.0358744394618835, 0.336322869955157, 0.2242152466367713, 0.2242152466367713, 0.11210762331838565, 0.11210762331838565], \"name\": \"Female Respondents in Ghana\"}], {\"barmode\": \"group\"}, {\"showLink\": true, \"linkText\": \"Export to plot.ly\"})});</script>"
      ]
     },
     "metadata": {},
     "output_type": "display_data"
    },
    {
     "name": "stdout",
     "output_type": "stream",
     "text": [
      "N° of Male respondents for India is : 3167\n",
      "N° of Female respondents for India is : 567\n"
     ]
    },
    {
     "data": {
      "application/vnd.plotly.v1+json": {
       "data": [
        {
         "name": "Men Respondents in India",
         "type": "bar",
         "x": [
          "16 - 20 years old",
          "21 - 25 years old",
          "11 - 15 years old",
          "26 - 30 years old",
          "5 - 10 years old",
          "31 - 35 years old",
          "36 - 40 years old",
          "41 - 50 years old",
          "50+ years or older",
          "#NULL!"
         ],
         "y": [
          59.55162614461636,
          26.870855699400064,
          10.451531417745501,
          1.6735080517840228,
          1.1682980738869593,
          0.0947268708556994,
          0.06315124723713293,
          0.06315124723713293,
          0.031575623618566466,
          0.031575623618566466
         ]
        },
        {
         "name": "Female Respondents in India",
         "type": "bar",
         "x": [
          "16 - 20 years old",
          "21 - 25 years old",
          "11 - 15 years old",
          "26 - 30 years old",
          "5 - 10 years old",
          "31 - 35 years old",
          "41 - 50 years old"
         ],
         "y": [
          63.66843033509701,
          25.749559082892414,
          8.289241622574956,
          1.0582010582010581,
          0.7054673721340388,
          0.3527336860670194,
          0.1763668430335097
         ]
        }
       ],
       "layout": {
        "barmode": "group"
       }
      },
      "text/html": [
       "<div id=\"9f5c0171-c3ec-4e6b-8f78-8e35db2a4fc6\" style=\"height: 525px; width: 100%;\" class=\"plotly-graph-div\"></div><script type=\"text/javascript\">require([\"plotly\"], function(Plotly) { window.PLOTLYENV=window.PLOTLYENV || {};window.PLOTLYENV.BASE_URL=\"https://plot.ly\";Plotly.newPlot(\"9f5c0171-c3ec-4e6b-8f78-8e35db2a4fc6\", [{\"type\": \"bar\", \"x\": [\"16 - 20 years old\", \"21 - 25 years old\", \"11 - 15 years old\", \"26 - 30 years old\", \"5 - 10 years old\", \"31 - 35 years old\", \"36 - 40 years old\", \"41 - 50 years old\", \"50+ years or older\", \"#NULL!\"], \"y\": [59.55162614461636, 26.870855699400064, 10.451531417745501, 1.6735080517840228, 1.1682980738869593, 0.0947268708556994, 0.06315124723713293, 0.06315124723713293, 0.031575623618566466, 0.031575623618566466], \"name\": \"Men Respondents in India\"}, {\"type\": \"bar\", \"x\": [\"16 - 20 years old\", \"21 - 25 years old\", \"11 - 15 years old\", \"26 - 30 years old\", \"5 - 10 years old\", \"31 - 35 years old\", \"41 - 50 years old\"], \"y\": [63.66843033509701, 25.749559082892414, 8.289241622574956, 1.0582010582010581, 0.7054673721340388, 0.3527336860670194, 0.1763668430335097], \"name\": \"Female Respondents in India\"}], {\"barmode\": \"group\"}, {\"showLink\": true, \"linkText\": \"Export to plot.ly\"})});</script>"
      ],
      "text/vnd.plotly.v1+html": [
       "<div id=\"9f5c0171-c3ec-4e6b-8f78-8e35db2a4fc6\" style=\"height: 525px; width: 100%;\" class=\"plotly-graph-div\"></div><script type=\"text/javascript\">require([\"plotly\"], function(Plotly) { window.PLOTLYENV=window.PLOTLYENV || {};window.PLOTLYENV.BASE_URL=\"https://plot.ly\";Plotly.newPlot(\"9f5c0171-c3ec-4e6b-8f78-8e35db2a4fc6\", [{\"type\": \"bar\", \"x\": [\"16 - 20 years old\", \"21 - 25 years old\", \"11 - 15 years old\", \"26 - 30 years old\", \"5 - 10 years old\", \"31 - 35 years old\", \"36 - 40 years old\", \"41 - 50 years old\", \"50+ years or older\", \"#NULL!\"], \"y\": [59.55162614461636, 26.870855699400064, 10.451531417745501, 1.6735080517840228, 1.1682980738869593, 0.0947268708556994, 0.06315124723713293, 0.06315124723713293, 0.031575623618566466, 0.031575623618566466], \"name\": \"Men Respondents in India\"}, {\"type\": \"bar\", \"x\": [\"16 - 20 years old\", \"21 - 25 years old\", \"11 - 15 years old\", \"26 - 30 years old\", \"5 - 10 years old\", \"31 - 35 years old\", \"41 - 50 years old\"], \"y\": [63.66843033509701, 25.749559082892414, 8.289241622574956, 1.0582010582010581, 0.7054673721340388, 0.3527336860670194, 0.1763668430335097], \"name\": \"Female Respondents in India\"}], {\"barmode\": \"group\"}, {\"showLink\": true, \"linkText\": \"Export to plot.ly\"})});</script>"
      ]
     },
     "metadata": {},
     "output_type": "display_data"
    },
    {
     "name": "stdout",
     "output_type": "stream",
     "text": [
      "N° of Male respondents for United States is : 2640\n",
      "N° of Female respondents for United States is : 546\n"
     ]
    },
    {
     "data": {
      "application/vnd.plotly.v1+json": {
       "data": [
        {
         "name": "Men Respondents in United States",
         "type": "bar",
         "x": [
          "16 - 20 years old",
          "11 - 15 years old",
          "21 - 25 years old",
          "5 - 10 years old",
          "26 - 30 years old",
          "31 - 35 years old",
          "36 - 40 years old",
          "41 - 50 years old",
          "#NULL!",
          "50+ years or older"
         ],
         "y": [
          43.29545454545455,
          25.757575757575758,
          16.28787878787879,
          6.0606060606060606,
          5.681818181818182,
          1.893939393939394,
          0.4924242424242424,
          0.3787878787878788,
          0.11363636363636363,
          0.03787878787878788
         ]
        },
        {
         "name": "Female Respondents in United States",
         "type": "bar",
         "x": [
          "16 - 20 years old",
          "21 - 25 years old",
          "11 - 15 years old",
          "26 - 30 years old",
          "31 - 35 years old",
          "5 - 10 years old",
          "41 - 50 years old",
          "36 - 40 years old",
          "50+ years or older"
         ],
         "y": [
          47.8021978021978,
          21.611721611721613,
          13.91941391941392,
          8.424908424908425,
          3.47985347985348,
          2.380952380952381,
          1.098901098901099,
          0.9157509157509158,
          0.3663003663003663
         ]
        }
       ],
       "layout": {
        "barmode": "group"
       }
      },
      "text/html": [
       "<div id=\"986049f5-535c-425b-a447-02030d71d602\" style=\"height: 525px; width: 100%;\" class=\"plotly-graph-div\"></div><script type=\"text/javascript\">require([\"plotly\"], function(Plotly) { window.PLOTLYENV=window.PLOTLYENV || {};window.PLOTLYENV.BASE_URL=\"https://plot.ly\";Plotly.newPlot(\"986049f5-535c-425b-a447-02030d71d602\", [{\"type\": \"bar\", \"x\": [\"16 - 20 years old\", \"11 - 15 years old\", \"21 - 25 years old\", \"5 - 10 years old\", \"26 - 30 years old\", \"31 - 35 years old\", \"36 - 40 years old\", \"41 - 50 years old\", \"#NULL!\", \"50+ years or older\"], \"y\": [43.29545454545455, 25.757575757575758, 16.28787878787879, 6.0606060606060606, 5.681818181818182, 1.893939393939394, 0.4924242424242424, 0.3787878787878788, 0.11363636363636363, 0.03787878787878788], \"name\": \"Men Respondents in United States\"}, {\"type\": \"bar\", \"x\": [\"16 - 20 years old\", \"21 - 25 years old\", \"11 - 15 years old\", \"26 - 30 years old\", \"31 - 35 years old\", \"5 - 10 years old\", \"41 - 50 years old\", \"36 - 40 years old\", \"50+ years or older\"], \"y\": [47.8021978021978, 21.611721611721613, 13.91941391941392, 8.424908424908425, 3.47985347985348, 2.380952380952381, 1.098901098901099, 0.9157509157509158, 0.3663003663003663], \"name\": \"Female Respondents in United States\"}], {\"barmode\": \"group\"}, {\"showLink\": true, \"linkText\": \"Export to plot.ly\"})});</script>"
      ],
      "text/vnd.plotly.v1+html": [
       "<div id=\"986049f5-535c-425b-a447-02030d71d602\" style=\"height: 525px; width: 100%;\" class=\"plotly-graph-div\"></div><script type=\"text/javascript\">require([\"plotly\"], function(Plotly) { window.PLOTLYENV=window.PLOTLYENV || {};window.PLOTLYENV.BASE_URL=\"https://plot.ly\";Plotly.newPlot(\"986049f5-535c-425b-a447-02030d71d602\", [{\"type\": \"bar\", \"x\": [\"16 - 20 years old\", \"11 - 15 years old\", \"21 - 25 years old\", \"5 - 10 years old\", \"26 - 30 years old\", \"31 - 35 years old\", \"36 - 40 years old\", \"41 - 50 years old\", \"#NULL!\", \"50+ years or older\"], \"y\": [43.29545454545455, 25.757575757575758, 16.28787878787879, 6.0606060606060606, 5.681818181818182, 1.893939393939394, 0.4924242424242424, 0.3787878787878788, 0.11363636363636363, 0.03787878787878788], \"name\": \"Men Respondents in United States\"}, {\"type\": \"bar\", \"x\": [\"16 - 20 years old\", \"21 - 25 years old\", \"11 - 15 years old\", \"26 - 30 years old\", \"31 - 35 years old\", \"5 - 10 years old\", \"41 - 50 years old\", \"36 - 40 years old\", \"50+ years or older\"], \"y\": [47.8021978021978, 21.611721611721613, 13.91941391941392, 8.424908424908425, 3.47985347985348, 2.380952380952381, 1.098901098901099, 0.9157509157509158, 0.3663003663003663], \"name\": \"Female Respondents in United States\"}], {\"barmode\": \"group\"}, {\"showLink\": true, \"linkText\": \"Export to plot.ly\"})});</script>"
      ]
     },
     "metadata": {},
     "output_type": "display_data"
    }
   ],
   "source": [
    "df_men_c = [0,0,0]\n",
    "df_women_c = [0,0,0]\n",
    "count = 0\n",
    "for i in focus_country.head(3).index : \n",
    "    df_men_c[count] = df_men[df_men['CountryNumeric'] == i]\n",
    "    df_women_c[count] = df_women[df_women['CountryNumeric'] == i]\n",
    "    print('N° of Male respondents for '+ i + ' is : '+ str(df_men_c[count].shape[0]))\n",
    "    print('N° of Female respondents for '+ i + ' is : '+ str(df_women_c[count].shape[0]))\n",
    "    \n",
    "    trace1 = go.Bar( \n",
    "    x=df_men_c[count]['q1AgeBeginCoding'].value_counts().index.tolist(),\n",
    "    y=np.multiply(np.divide(df_men_c[count]['q1AgeBeginCoding'].value_counts().tolist(),np.sum(df_men_c[count]['q1AgeBeginCoding'].value_counts().tolist())).tolist(),100).tolist(),\n",
    "    name='Men Respondents in '+i\n",
    "    )\n",
    "    trace2 = go.Bar(\n",
    "    x=df_women_c[count]['q1AgeBeginCoding'].value_counts().index.tolist(),\n",
    "    y=np.multiply(np.divide(df_women_c[count]['q1AgeBeginCoding'].value_counts().tolist(),np.sum(df_women_c[count]['q1AgeBeginCoding'].value_counts().tolist())).tolist(),100).tolist(),\n",
    "    name='Female Respondents in '+i\n",
    "    )\n",
    "\n",
    "    data = [trace1, trace2]\n",
    "    layout = go.Layout(\n",
    "        barmode='group'\n",
    "    )\n",
    "\n",
    "    fig = go.Figure(data=data, layout=layout)\n",
    "    py.iplot(fig, filename='grouped-bar')\n",
    "    count = count + 1"
   ]
  },
  {
   "cell_type": "code",
   "execution_count": null,
   "metadata": {},
   "outputs": [],
   "source": []
  }
 ],
 "metadata": {
  "kernelspec": {
   "display_name": "Python 3",
   "language": "python",
   "name": "python3"
  },
  "language_info": {
   "codemirror_mode": {
    "name": "ipython",
    "version": 3
   },
   "file_extension": ".py",
   "mimetype": "text/x-python",
   "name": "python",
   "nbconvert_exporter": "python",
   "pygments_lexer": "ipython3",
   "version": "3.6.1"
  }
 },
 "nbformat": 4,
 "nbformat_minor": 2
}

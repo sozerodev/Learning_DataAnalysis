{
 "cells": [
  {
   "cell_type": "markdown",
   "metadata": {},
   "source": [
    "# [Kaggle/kaggle-api: Official Kaggle API](https://github.com/Kaggle/kaggle-api)\n",
    "캐글 공식 깃헙에 API가 올라왔다. \n",
    "해당 API는 캐글 사이트에 접속해서 일일이 데이터셋을 다운로드 받지 않고 노트북이나 터미널환경에서 데이터셋 파일을 찾거나 다운로드 받을 수 있으며 경진대회에 참여할 때 서브미션 파일을 API를 통해 제출할 수 있다."
   ]
  },
  {
   "cell_type": "markdown",
   "metadata": {},
   "source": [
    "## 설치\n",
    "* 아나콘다가 아닌 가상환경을 설정해서 설치할 때는 아래 장고걸스 튜토리얼에서 가상환경 부분을 참고한다.\n",
    "* https://tutorial.djangogirls.org/ko/installation/"
   ]
  },
  {
   "cell_type": "code",
   "execution_count": 1,
   "metadata": {},
   "outputs": [],
   "source": [
    "# !pip install kaggle"
   ]
  },
  {
   "cell_type": "code",
   "execution_count": 2,
   "metadata": {},
   "outputs": [
    {
     "name": "stdout",
     "output_type": "stream",
     "text": [
      "Name: kaggle\r\n",
      "Version: 1.0.5\r\n",
      "Summary: Kaggle API\r\n",
      "Home-page: https://github.com/Kaggle/kaggle-api\r\n",
      "Author: Kaggle\r\n",
      "Author-email: support@kaggle.com\r\n",
      "License: Apache 2.0\r\n",
      "Location: /Users/corazzon/codes/jupyter/lib/python3.6/site-packages\r\n",
      "Requires: urllib3, python-dateutil, six, certifi\r\n"
     ]
    }
   ],
   "source": [
    "!pip show kaggle"
   ]
  },
  {
   "cell_type": "markdown",
   "metadata": {},
   "source": [
    "## API credentials\n",
    "\n",
    "`https://www.kaggle.com/<username>/account` 경로로 접속하면 자신의 프로필 페이지가 나온다. <br/>\n",
    "해당 프로필페이지 하단의 `Create API Token`을 클릭하면 `kaggle.json`이라는 토큰파일이 다운로드 된다.<br/>\n",
    "해당 파일을 `~/.kaggle/kaggle.json`위치에 옮겨준다.(윈도우 사용자라면 `C:\\Users\\<Windows-username>\\.kaggle\\kaggle.json`)"
   ]
  },
  {
   "cell_type": "markdown",
   "metadata": {},
   "source": [
    "<img src='https://i.imgur.com/cv5rDEe.png' width='700px'>"
   ]
  },
  {
   "cell_type": "code",
   "execution_count": 3,
   "metadata": {
    "scrolled": true
   },
   "outputs": [
    {
     "name": "stdout",
     "output_type": "stream",
     "text": [
      "Your files will be downloaded to /Users/corazzon/.kaggle\r\n"
     ]
    }
   ],
   "source": [
    "# 캐글 API 설정파일 위치\n",
    "# .kaggle 이라는 폴더를 ~/ 위치에 만들고 캐글 사이트에서 다운로드 받은파일을 옮겨준다.\n",
    "!kaggle config path"
   ]
  },
  {
   "cell_type": "markdown",
   "metadata": {},
   "source": [
    "## Competition\n",
    "<pre>\n",
    "kaggle competitions {list, files, download, submit, submissions}\n",
    "kaggle datasets {list, files, download}\n",
    "kaggle config {path}\n",
    "</pre>"
   ]
  },
  {
   "cell_type": "code",
   "execution_count": 4,
   "metadata": {},
   "outputs": [
    {
     "name": "stdout",
     "output_type": "stream",
     "text": [
      "usage: kaggle competitions list [-h] [-p PAGE] [-s SEARCH] [-v]\r\n",
      "\r\n",
      "optional arguments:\r\n",
      "  -h, --help            show this help message and exit\r\n",
      "  -p PAGE, --page PAGE  page number\r\n",
      "  -s SEARCH, --search SEARCH\r\n",
      "                        term(s) to search for\r\n",
      "  -v, --csv             print in CSV format\r\n",
      "                        (if not set print in table format)\r\n"
     ]
    }
   ],
   "source": [
    "# 경진대회 API의 도움말 보기\n",
    "!kaggle competitions list -h"
   ]
  },
  {
   "cell_type": "code",
   "execution_count": 5,
   "metadata": {},
   "outputs": [
    {
     "name": "stdout",
     "output_type": "stream",
     "text": [
      "ref                                        deadline             category        reward  teamCount  userHasEntered  \r\n",
      "-----------------------------------------  -------------------  ----------  ----------  ---------  --------------  \r\n",
      "hhp                                        2013-04-04 07:00:00  Featured      $500,000       1353           False  \r\n",
      "diabetic-retinopathy-detection             2015-07-27 23:59:00  Featured      $100,000        661           False  \r\n",
      "ultrasound-nerve-segmentation              2016-08-18 23:59:00  Featured      $100,000        923           False  \r\n",
      "melbourne-university-seizure-prediction    2016-12-01 23:59:00  Research       $20,000        478           False  \r\n",
      "msk-redefining-cancer-treatment            2017-10-02 23:59:00  Research       $15,000       1386           False  \r\n",
      "second-annual-data-science-bowl            2016-03-14 23:59:00  Featured      $200,000        192           False  \r\n",
      "intel-mobileodt-cervical-cancer-screening  2017-06-21 23:59:00  Featured      $100,000        848           False  \r\n",
      "data-science-bowl-2017                     2017-04-12 23:59:00  Featured    $1,000,000       1972            True  \r\n",
      "datasciencebowl                            2015-03-16 23:59:00  Featured      $175,000       1049           False  \r\n",
      "march-machine-learning-mania-2017          2017-04-04 15:00:00  Playground        Swag        442           False  \r\n",
      "march-machine-learning-mania-2016          2016-04-05 06:00:00  Featured       $25,000        598           False  \r\n"
     ]
    }
   ],
   "source": [
    "# health에 해당되는 경진대회를 찾아보기\n",
    "!kaggle competitions list -s health"
   ]
  },
  {
   "cell_type": "code",
   "execution_count": 6,
   "metadata": {},
   "outputs": [
    {
     "name": "stdout",
     "output_type": "stream",
     "text": [
      "ref                    deadline             category            reward  teamCount  userHasEntered  \r\n",
      "---------------------  -------------------  ---------------  ---------  ---------  --------------  \r\n",
      "word2vec-nlp-tutorial  2015-06-30 23:59:00  Getting Started  Knowledge        578            True  \r\n"
     ]
    }
   ],
   "source": [
    "# nlp와 관련 된 경진대회를 찾아보기\n",
    "!kaggle competitions list -s nlp"
   ]
  },
  {
   "cell_type": "code",
   "execution_count": 7,
   "metadata": {},
   "outputs": [
    {
     "name": "stdout",
     "output_type": "stream",
     "text": [
      "ref                                     deadline             category            reward  teamCount  userHasEntered  \r\n",
      "--------------------------------------  -------------------  ---------------  ---------  ---------  --------------  \r\n",
      "word2vec-nlp-tutorial                   2015-06-30 23:59:00  Getting Started  Knowledge        578            True  \r\n",
      "titanic                                 2020-04-07 00:00:00  Getting Started  Knowledge       9650            True  \r\n",
      "street-view-getting-started-with-julia  2017-01-07 00:00:00  Getting Started  Knowledge         56           False  \r\n",
      "spooky-author-identification            2017-12-15 23:59:00  Playground         $25,000       1244            True  \r\n"
     ]
    }
   ],
   "source": [
    "# 튜토리얼과 관련 된 경진대회를 찾아보기\n",
    "!kaggle competitions list -s tutorial"
   ]
  },
  {
   "cell_type": "code",
   "execution_count": 8,
   "metadata": {},
   "outputs": [
    {
     "name": "stdout",
     "output_type": "stream",
     "text": [
      "name                   size  creationDate         \r\n",
      "---------------------  ----  -------------------  \r\n",
      "train.csv              60KB  2013-06-28 13:40:25  \r\n",
      "test.csv               28KB  2013-06-28 13:40:24  \r\n",
      "gender_submission.csv   3KB  2017-02-01 01:49:18  \r\n"
     ]
    }
   ],
   "source": [
    "# 타이타닉 경진대회의 데이터셋을 본다.\n",
    "!kaggle competitions files -c titanic"
   ]
  },
  {
   "cell_type": "code",
   "execution_count": 9,
   "metadata": {},
   "outputs": [
    {
     "name": "stdout",
     "output_type": "stream",
     "text": [
      "name                         size  creationDate         \n",
      "--------------------------  -----  -------------------  \n",
      "sampleSubmission.csv        276KB  2014-07-21 22:24:56  \n",
      "unlabeledTrainData.tsv.zip   26MB  2014-08-05 23:31:46  \n",
      "testData.tsv.zip             13MB  2014-08-05 23:31:52  \n",
      "labeledTrainData.tsv.zip     13MB  2014-08-05 23:32:11  \n"
     ]
    }
   ],
   "source": [
    "# word2vec-nlp-tutorial의 데이터셋을 본다.\n",
    "!kaggle competitions files -c word2vec-nlp-tutorial"
   ]
  },
  {
   "cell_type": "code",
   "execution_count": 10,
   "metadata": {},
   "outputs": [
    {
     "name": "stdout",
     "output_type": "stream",
     "text": [
      "train.csv: Downloaded 60KB of 60KB\n",
      "test.csv: Downloaded 28KB of 28KB\n",
      "gender_submission.csv: Downloaded 3KB of 3KB\n"
     ]
    }
   ],
   "source": [
    "# 타이타닉 경진대회 파일을 다운로드 받는다.\n",
    "!kaggle competitions download -c titanic"
   ]
  },
  {
   "cell_type": "code",
   "execution_count": 11,
   "metadata": {},
   "outputs": [
    {
     "name": "stdout",
     "output_type": "stream",
     "text": [
      "\u001b[1m\u001b[34mcompetitions\u001b[m\u001b[m/ kaggle.json\r\n"
     ]
    }
   ],
   "source": [
    "# MACOS를 사용한다면 기본 다운로드 경로는 API credentials을 복사해 놓은 ~/.kaggle 폴더이다.\n",
    "# 윈도우 에서는 C:\\Users\\<Windows-username>\\.kaggle 에 다운로드 된다.\n",
    "# 해당 경로에 /competitions/ 이라는 폴더가 생성되었다.\n",
    "%ls ~/.kaggle"
   ]
  },
  {
   "cell_type": "code",
   "execution_count": 12,
   "metadata": {},
   "outputs": [
    {
     "name": "stdout",
     "output_type": "stream",
     "text": [
      "gender_submission.csv  test.csv               train.csv\r\n"
     ]
    }
   ],
   "source": [
    "# 다운로드가 제대로 되었는지 확인해 본다.\n",
    "# ls 명령어는 특정 경로에 어떤 파일이 있는지 확인해 보는 명령어다. \n",
    "# %dir # 윈도우 사용자라면 dir로 확인해 본다.\n",
    "%ls ~/.kaggle/competitions/titanic/"
   ]
  },
  {
   "cell_type": "code",
   "execution_count": 13,
   "metadata": {},
   "outputs": [
    {
     "name": "stdout",
     "output_type": "stream",
     "text": [
      "train.csv: Downloaded 60KB of 60KB\n",
      "test.csv: Downloaded 28KB of 28KB\n",
      "gender_submission.csv: Downloaded 3KB of 3KB\n"
     ]
    }
   ],
   "source": [
    "# 특정 폴더에 다운로드 받고자 한다면 다운로드 받을 경로를 지정해 준다.\n",
    "!kaggle competitions download -c titanic -p ./"
   ]
  },
  {
   "cell_type": "code",
   "execution_count": 14,
   "metadata": {},
   "outputs": [
    {
     "name": "stdout",
     "output_type": "stream",
     "text": [
      "gender_submission.csv  test.csv               train.csv\r\n"
     ]
    }
   ],
   "source": [
    "# 제대로 다운로드 받았는지 해당 경로를 찾아본다. 윈도우 사용자라면 %ls 대신 %dir을 사용한다.\n",
    "%ls ./titanic"
   ]
  },
  {
   "cell_type": "code",
   "execution_count": 15,
   "metadata": {},
   "outputs": [
    {
     "name": "stdout",
     "output_type": "stream",
     "text": [
      "name                   size  creationDate         \r\n",
      "---------------------  ----  -------------------  \r\n",
      "train.csv              60KB  2013-06-28 13:40:25  \r\n",
      "test.csv               28KB  2013-06-28 13:40:24  \r\n",
      "gender_submission.csv   3KB  2017-02-01 01:49:18  \r\n"
     ]
    }
   ],
   "source": [
    "# 경진대회 파일이 모두 다운로드 받아졌는지 확인해 본다.\n",
    "!kaggle competitions files -c titanic"
   ]
  },
  {
   "cell_type": "markdown",
   "metadata": {},
   "source": [
    "### Submission\n",
    "\n",
    "`kaggle competitions submit -c favorita-grocery-sales-forecasting -f sample_submission_favorita.csv.7z -m \"My submission message\"`"
   ]
  },
  {
   "cell_type": "code",
   "execution_count": 16,
   "metadata": {},
   "outputs": [
    {
     "name": "stdout",
     "output_type": "stream",
     "text": [
      "Successfully submitted to Bag of Words Meets Bags of Popcorn"
     ]
    }
   ],
   "source": [
    "# 경진대회의 약관(rule)에 동의했다면 API로 서브미션이 가능하다.\n",
    "!kaggle competitions submit -c word2vec-nlp-tutorial -f ./word2vec-nlp-tutorial/data/tutorial_4_tfidf_xgboost.csv -m 'API submit msg'"
   ]
  },
  {
   "cell_type": "code",
   "execution_count": 17,
   "metadata": {},
   "outputs": [
    {
     "name": "stdout",
     "output_type": "stream",
     "text": [
      "fileName                                date                 description                                                                                                                                                                                                                                                                                                                                                                                                                                           status    publicScore  privateScore  \r\n",
      "--------------------------------------  -------------------  ----------------------------------------------------------------------------------------------------------------------------------------------------------------------------------------------------------------------------------------------------------------------------------------------------------------------------------------------------------------------------------------------------------------------------------------------------  --------  -----------  ------------  \r\n",
      "tutorial_4_tfidf_xgboost.csv            2018-02-02 23:39:19  API submit msg                                                                                                                                                                                                                                                                                                                                                                                                                                        complete  0.86560      None          \r\n",
      "tutorial_4_tfidf_xgboost.csv            2018-02-02 12:15:18  API submit msg                                                                                                                                                                                                                                                                                                                                                                                                                                        complete  0.86560      None          \r\n",
      "tutorial_4_tfidf_xgboost.csv            2018-02-02 12:05:16  params                                                                                                                                                                                                                                                                                                                                                                                                                                                complete  0.86560      None          \r\n",
      "tutorial_4_tfidf_xgboost.csv            2018-01-29 22:56:32                                                                                                                                                                                                                                                                                                                                                                                                                                                        complete  0.86560      None          \r\n",
      "tutorial_4_tfidf_xgboost.csv            2018-01-29 22:53:24                                                                                                                                                                                                                                                                                                                                                                                                                                                        error     NULL         None          \r\n",
      "tutorial_4_tfidf_xgboost.csv            2018-01-29 22:49:48  None                                                                                                                                                                                                                                                                                                                                                                                                                                                  error     NULL         None          \r\n",
      "tutorial_4_tfidf_0.92068.csv            2018-01-29 22:16:28  None                                                                                                                                                                                                                                                                                                                                                                                                                                                  complete  0.84392      None          \r\n",
      "tutorial_4_tfidf_1.00000.csv            2018-01-29 13:07:33  None                                                                                                                                                                                                                                                                                                                                                                                                                                                  complete  0.50044      None          \r\n",
      "tutorial_4_tfidf_0.92068.csv            2018-01-29 12:58:11  None                                                                                                                                                                                                                                                                                                                                                                                                                                                  complete  0.84392      None          \r\n",
      "tutorial_4_tfidf_char_word.csv          2018-01-29 12:27:20  None                                                                                                                                                                                                                                                                                                                                                                                                                                                  complete  0.81272      None          \r\n",
      "tutorial_4_tfidf_0.92686.csv            2018-01-29 07:57:54  None                                                                                                                                                                                                                                                                                                                                                                                                                                                  complete  0.49660      None          \r\n",
      "tutorial_4_tfidf_0.92149.csv            2018-01-29 07:30:50  None                                                                                                                                                                                                                                                                                                                                                                                                                                                  complete  0.84392      None          \r\n",
      "tutorial_4_tfidf_xgboost_char_word.csv  2018-01-25 06:41:32  None                                                                                                                                                                                                                                                                                                                                                                                                                                                  complete  0.87564      None          \r\n",
      "tutorial_4_tfidf_char_word.csv          2018-01-25 01:23:06  None                                                                                                                                                                                                                                                                                                                                                                                                                                                  complete  0.81704      None          \r\n",
      "tutorial_4_tfidf_0.92985.csv            2018-01-22 16:06:24   min_df = 5, \r\n",
      "ngram_range=(1, 4),\r\n",
      "max_features = 90000                                                                                                                                                                                                                                                                                                                                                                                                complete  0.50232      None          \r\n",
      "tutorial_4_tfidf_0.90813.csv            2018-01-22 15:45:11  None                                                                                                                                                                                                                                                                                                                                                                                                                                                  complete  0.82332      None          \r\n",
      "tutorial_4_tfidf_0.90813.csv            2018-01-22 08:10:24  analyzer = 'word', \r\n",
      "                             lowercase = True,\r\n",
      "                             tokenizer = None,\r\n",
      "                             preprocessor = None,\r\n",
      "                             stop_words = 'english',\r\n",
      "                             min_df = 2, # 토큰이 나타날 최소 문서 개수\r\n",
      "                             ngram_range=(1, 3),\r\n",
      "                             vocabulary = set(words.words()),\r\n",
      "                             max_features = None  complete  0.82332      None          \r\n",
      "tutorial_4_tfidf_0.90701.csv            2018-01-21 09:21:16  None                                                                                                                                                                                                                                                                                                                                                                                                                                                  complete  0.82332      None          \r\n",
      "tutorial_4_tfidf_0.89766.csv            2018-01-21 09:02:13  None                                                                                                                                                                                                                                                                                                                                                                                                                                                  complete  0.80948      None          \r\n",
      "tutorial_4_tfidf_0.92679.csv            2018-01-21 08:19:31  None                                                                                                                                                                                                                                                                                                                                                                                                                                                  complete  0.82332      None          \r\n"
     ]
    }
   ],
   "source": [
    "!kaggle competitions submissions -c word2vec-nlp-tutorial"
   ]
  },
  {
   "cell_type": "markdown",
   "metadata": {},
   "source": [
    "## Dataset\n",
    "\n",
    "`kaggle datasets {list, files, download}`\n",
    "\n",
    "<pre>\n",
    "usage: kaggle datasets list [-h] [-p PAGE] [-s SEARCH] [-v]\n",
    "\n",
    "optional arguments:\n",
    "  -h, --help            show this help message and exit\n",
    "  -p PAGE, --page PAGE  page number\n",
    "  -s SEARCH, --search SEARCH\n",
    "                        term(s) to search for\n",
    "  -v, --csv             print in CSV format\n",
    "                        (if not set print in table format)\n",
    "</pre>"
   ]
  },
  {
   "cell_type": "code",
   "execution_count": 18,
   "metadata": {},
   "outputs": [
    {
     "name": "stdout",
     "output_type": "stream",
     "text": [
      "ref                                                   title                                              size  lastUpdated          downloadCount  \r\n",
      "----------------------------------------------------  ------------------------------------------------  -----  -------------------  -------------  \r\n",
      "zillow/zecon                                          Zillow Economics Data                             511MB  2018-01-24 23:53:58           3497  \r\n",
      "wsj/college-salaries                                  Where it Pays to Attend College                    72KB  2017-04-29 15:48:55           9041  \r\n",
      "unsdsn/world-happiness                                World Happiness Report                             62KB  2017-06-14 20:41:45          18582  \r\n",
      "cdc/national-health-and-nutrition-examination-survey  National Health and Nutrition Examination Survey   31MB  2017-01-26 20:11:45           2010  \r\n",
      "kaggle/kaggle-survey-2017                             Kaggle ML and Data Science Survey, 2017            28MB  2017-10-27 22:03:03           8772  \r\n",
      "osmi/mental-health-in-tech-survey                     Mental Health in Tech Survey                      297KB  2016-11-03 17:28:47           8239  \r\n",
      "medicare/nursing-home-compare                         Nursing Home Compare                              318MB  2016-11-28 03:45:13            298  \r\n",
      "borapajo/food-choices                                 Food choices                                        5MB  2017-04-23 14:04:43           4457  \r\n",
      "uciml/student-alcohol-consumption                     Student Alcohol Consumption                       108KB  2016-10-19 15:52:39          17901  \r\n",
      "uciml/forest-cover-type-dataset                       Forest Cover Type Dataset                          72MB  2016-11-03 05:22:44           1255  \r\n",
      "cdc/behavioral-risk-factor-surveillance-system        Behavioral Risk Factor Surveillance System          3GB  2017-08-24 00:16:13            472  \r\n",
      "maheshdadhich/us-healthcare-data                      U.S. Healthcare Data                               38MB  2017-12-22 16:30:29            117  \r\n",
      "miroslavsabo/young-people-survey                      Young People Survey                               448KB  2016-12-06 03:10:30          17603  \r\n",
      "rajanand/key-indicators-of-annual-health-survey       Health Analytics                                    2MB  2017-08-09 19:21:42           1660  \r\n",
      "rajanand/aishe                                        Higher Education Analytics                          2GB  2017-08-12 18:32:29            467  \r\n",
      "rajanand/mortality                                    Predict Mortality/Death Rate.                     305MB  2017-08-08 18:34:44            236  \r\n",
      "muonneutrino/new-york-city-census-data                New York City Census Data                           2MB  2017-08-04 06:17:42            384  \r\n",
      "marcodena/mobile-phone-activity                       Mobile phone activity in a city                     1GB  2016-11-11 13:36:14           2474  \r\n",
      "noriuk/us-educational-finances                        U.S. Educational Finances                          81MB  2018-01-15 20:32:06            304  \r\n",
      "avenn98/world-of-warcraft-demographics                World of Warcraft Demographics                     13KB  2017-08-04 19:03:41             99  \r\n"
     ]
    }
   ],
   "source": [
    "# 설문조사와 관련된 데이터셋을 찾아본다. \n",
    "!kaggle datasets list -s survey"
   ]
  },
  {
   "cell_type": "code",
   "execution_count": 19,
   "metadata": {},
   "outputs": [
    {
     "name": "stdout",
     "output_type": "stream",
     "text": [
      "name                       size  creationDate         \r\n",
      "-------------------------  ----  -------------------  \r\n",
      "survey_results_public.csv  12MB  2017-06-15 14:14:22  \r\n",
      "survey_results_schema.csv  22KB  2017-06-15 14:13:15  \r\n"
     ]
    }
   ],
   "source": [
    "!kaggle datasets files -d stackoverflow/so-survey-2017"
   ]
  },
  {
   "cell_type": "code",
   "execution_count": 20,
   "metadata": {},
   "outputs": [
    {
     "name": "stdout",
     "output_type": "stream",
     "text": [
      "name                           size  creationDate         \r\n",
      "----------------------------  -----  -------------------  \r\n",
      "all_available_metrics.json      3KB  2018-01-24 23:45:58  \r\n",
      "cities_crosswalk.csv            1MB  2018-01-24 23:54:02  \r\n",
      "City_time_series.csv          658MB  2018-01-24 23:46:25  \r\n",
      "County_time_series.csv        108MB  2018-01-24 23:46:05  \r\n",
      "CountyCrossWalk_Zillow.csv    227KB  2018-01-24 23:54:02  \r\n",
      "DataDictionary.csv              5KB  2018-01-24 23:54:02  \r\n",
      "fields_per_level.json          17KB  2018-01-24 23:45:58  \r\n",
      "Metro_time_series.csv          54MB  2018-01-24 23:46:02  \r\n",
      "Neighborhood_time_series.csv  253MB  2018-01-24 23:46:11  \r\n",
      "State_time_series.csv           5MB  2018-01-24 23:53:14  \r\n",
      "Zip_time_series.csv           746MB  2018-01-24 23:46:23  \r\n"
     ]
    }
   ],
   "source": [
    "!kaggle datasets files -d zillow/zecon"
   ]
  },
  {
   "cell_type": "code",
   "execution_count": null,
   "metadata": {},
   "outputs": [],
   "source": []
  }
 ],
 "metadata": {
  "kernelspec": {
   "display_name": "Python 3",
   "language": "python",
   "name": "python3"
  },
  "language_info": {
   "codemirror_mode": {
    "name": "ipython",
    "version": 3
   },
   "file_extension": ".py",
   "mimetype": "text/x-python",
   "name": "python",
   "nbconvert_exporter": "python",
   "pygments_lexer": "ipython3",
   "version": "3.6.1"
  }
 },
 "nbformat": 4,
 "nbformat_minor": 2
}

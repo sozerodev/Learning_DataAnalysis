{
 "cells": [
  {
   "cell_type": "markdown",
   "metadata": {},
   "source": [
    "# Kaggle Titanic - TensorFlow basic"
   ]
  },
  {
   "cell_type": "markdown",
   "metadata": {},
   "source": [
    "* 참고 : https://github.com/wangchen1ren/Titanic/blob/master/01_tensorflow_basic.py\n",
    "* 위 링크의 소스를 참고하였다.\n",
    "* 결측치를 사이킷런을 통해 보정해 주었다.\n",
    "* 카테고리 데이터를 one-hot-encoding 해주도록 했다.\n",
    "* 구글 Colaboratory에서 파일을 로드할 수 있는 코드를 추가하였다."
   ]
  },
  {
   "cell_type": "code",
   "execution_count": 1,
   "metadata": {
    "slideshow": {
     "slide_type": "slide"
    }
   },
   "outputs": [
    {
     "name": "stderr",
     "output_type": "stream",
     "text": [
      "/Users/corazzon/codes/jupyter/lib/python3.6/site-packages/h5py/__init__.py:36: FutureWarning: Conversion of the second argument of issubdtype from `float` to `np.floating` is deprecated. In future, it will be treated as `np.float64 == np.dtype(float).type`.\n",
      "  from ._conv import register_converters as _register_converters\n"
     ]
    }
   ],
   "source": [
    "import pandas as pd\n",
    "import numpy as np\n",
    "import tensorflow as tf\n",
    "from sklearn.model_selection import train_test_split"
   ]
  },
  {
   "cell_type": "markdown",
   "metadata": {},
   "source": [
    "## Load Data"
   ]
  },
  {
   "cell_type": "markdown",
   "metadata": {},
   "source": [
    "### Google colab"
   ]
  },
  {
   "cell_type": "code",
   "execution_count": 2,
   "metadata": {},
   "outputs": [],
   "source": [
    "# from google.colab import files\n",
    "\n",
    "# uploaded = files.upload()\n",
    "\n",
    "# for fn in uploaded.keys():\n",
    "#   print('User uploaded file \"{name}\" with length {length} bytes'.format(\n",
    "#       name=fn, length=len(uploaded[fn])))"
   ]
  },
  {
   "cell_type": "code",
   "execution_count": 3,
   "metadata": {},
   "outputs": [],
   "source": [
    "# import io\n",
    "\n",
    "# train_df = pd.read_csv(\n",
    "#     io.StringIO(uploaded['train.csv'].decode('utf-8')), header=0)\n",
    "\n",
    "# test_df = pd.read_csv(\n",
    "#     io.StringIO(uploaded['test.csv'].decode('utf-8')), header=0)"
   ]
  },
  {
   "cell_type": "markdown",
   "metadata": {},
   "source": [
    "### local file load"
   ]
  },
  {
   "cell_type": "code",
   "execution_count": 4,
   "metadata": {},
   "outputs": [],
   "source": [
    "# read data from file\n",
    "data = pd.read_csv('data/train.csv')\n",
    "testdata = pd.read_csv('data/test.csv')"
   ]
  },
  {
   "cell_type": "markdown",
   "metadata": {},
   "source": [
    "## Preparing Data"
   ]
  },
  {
   "cell_type": "code",
   "execution_count": 5,
   "metadata": {},
   "outputs": [],
   "source": [
    "# fill nan values with 0\n",
    "# 결측치에 아래와 같이 0을 채워줘도 되지만 사이킷런의 Imputer를 통해 채워주도록 했다.\n",
    "# data = data.fillna(0)\n",
    "# testdata = testdata.fillna(0)"
   ]
  },
  {
   "cell_type": "code",
   "execution_count": 6,
   "metadata": {},
   "outputs": [],
   "source": [
    "# 성별을 0과 1로 one hot encoding\n",
    "# 아래와 같이 인코딩 해줄 수도 있지만 판다스의 get_dummies를 사용해서 인코딩했다.\n",
    "# data['Sex'] = data['Sex'].apply(lambda s: 1 if s == 'male' else 0)\n",
    "# testdata['Sex'] = testdata['Sex'].apply(lambda s: 1 if s == 'male' else 0)"
   ]
  },
  {
   "cell_type": "code",
   "execution_count": 7,
   "metadata": {},
   "outputs": [],
   "source": [
    "from sklearn.preprocessing import Imputer\n",
    "\n",
    "# 결측치를 보완해 준다.\n",
    "def nan_padding(data, columns):\n",
    "    for column in columns:\n",
    "        imputer = Imputer()\n",
    "        data[column] = imputer.fit_transform(data[column].values.reshape(-1,1))\n",
    "    return data\n",
    "\n",
    "\n",
    "nan_columns = [\"Age\", \"SibSp\", \"Parch\", \"Fare\"]\n",
    "\n",
    "data = nan_padding(data, nan_columns)\n",
    "testdata = nan_padding(testdata, nan_columns)"
   ]
  },
  {
   "cell_type": "code",
   "execution_count": 8,
   "metadata": {},
   "outputs": [],
   "source": [
    "# 기계가 데이터를 이해할 수 있도록 \n",
    "# 카테고리 데이터를 one-hot-encoding 해준다.\n",
    "def dummy_data(data, columns):\n",
    "    for column in columns:\n",
    "        data = pd.concat([data, pd.get_dummies(data[column], prefix = column)], axis=1)\n",
    "        data = data.drop(column, axis=1)\n",
    "    return data\n",
    "\n",
    "\n",
    "dummy_columns = [\"Sex\", \"Pclass\", \"Embarked\"]\n",
    "data = dummy_data(data, dummy_columns)\n",
    "testdata = dummy_data(testdata, dummy_columns)"
   ]
  },
  {
   "cell_type": "code",
   "execution_count": 9,
   "metadata": {},
   "outputs": [
    {
     "data": {
      "text/html": [
       "<div>\n",
       "<style scoped>\n",
       "    .dataframe tbody tr th:only-of-type {\n",
       "        vertical-align: middle;\n",
       "    }\n",
       "\n",
       "    .dataframe tbody tr th {\n",
       "        vertical-align: top;\n",
       "    }\n",
       "\n",
       "    .dataframe thead th {\n",
       "        text-align: right;\n",
       "    }\n",
       "</style>\n",
       "<table border=\"1\" class=\"dataframe\">\n",
       "  <thead>\n",
       "    <tr style=\"text-align: right;\">\n",
       "      <th></th>\n",
       "      <th>PassengerId</th>\n",
       "      <th>Survived</th>\n",
       "      <th>Name</th>\n",
       "      <th>Age</th>\n",
       "      <th>SibSp</th>\n",
       "      <th>Parch</th>\n",
       "      <th>Ticket</th>\n",
       "      <th>Fare</th>\n",
       "      <th>Cabin</th>\n",
       "      <th>Sex_female</th>\n",
       "      <th>Sex_male</th>\n",
       "      <th>Pclass_1</th>\n",
       "      <th>Pclass_2</th>\n",
       "      <th>Pclass_3</th>\n",
       "      <th>Embarked_C</th>\n",
       "      <th>Embarked_Q</th>\n",
       "      <th>Embarked_S</th>\n",
       "    </tr>\n",
       "  </thead>\n",
       "  <tbody>\n",
       "    <tr>\n",
       "      <th>0</th>\n",
       "      <td>1</td>\n",
       "      <td>0</td>\n",
       "      <td>Braund, Mr. Owen Harris</td>\n",
       "      <td>22.0</td>\n",
       "      <td>1.0</td>\n",
       "      <td>0.0</td>\n",
       "      <td>A/5 21171</td>\n",
       "      <td>7.2500</td>\n",
       "      <td>NaN</td>\n",
       "      <td>0</td>\n",
       "      <td>1</td>\n",
       "      <td>0</td>\n",
       "      <td>0</td>\n",
       "      <td>1</td>\n",
       "      <td>0</td>\n",
       "      <td>0</td>\n",
       "      <td>1</td>\n",
       "    </tr>\n",
       "    <tr>\n",
       "      <th>1</th>\n",
       "      <td>2</td>\n",
       "      <td>1</td>\n",
       "      <td>Cumings, Mrs. John Bradley (Florence Briggs Th...</td>\n",
       "      <td>38.0</td>\n",
       "      <td>1.0</td>\n",
       "      <td>0.0</td>\n",
       "      <td>PC 17599</td>\n",
       "      <td>71.2833</td>\n",
       "      <td>C85</td>\n",
       "      <td>1</td>\n",
       "      <td>0</td>\n",
       "      <td>1</td>\n",
       "      <td>0</td>\n",
       "      <td>0</td>\n",
       "      <td>1</td>\n",
       "      <td>0</td>\n",
       "      <td>0</td>\n",
       "    </tr>\n",
       "    <tr>\n",
       "      <th>2</th>\n",
       "      <td>3</td>\n",
       "      <td>1</td>\n",
       "      <td>Heikkinen, Miss. Laina</td>\n",
       "      <td>26.0</td>\n",
       "      <td>0.0</td>\n",
       "      <td>0.0</td>\n",
       "      <td>STON/O2. 3101282</td>\n",
       "      <td>7.9250</td>\n",
       "      <td>NaN</td>\n",
       "      <td>1</td>\n",
       "      <td>0</td>\n",
       "      <td>0</td>\n",
       "      <td>0</td>\n",
       "      <td>1</td>\n",
       "      <td>0</td>\n",
       "      <td>0</td>\n",
       "      <td>1</td>\n",
       "    </tr>\n",
       "  </tbody>\n",
       "</table>\n",
       "</div>"
      ],
      "text/plain": [
       "   PassengerId  Survived                                               Name  \\\n",
       "0            1         0                            Braund, Mr. Owen Harris   \n",
       "1            2         1  Cumings, Mrs. John Bradley (Florence Briggs Th...   \n",
       "2            3         1                             Heikkinen, Miss. Laina   \n",
       "\n",
       "    Age  SibSp  Parch            Ticket     Fare Cabin  Sex_female  Sex_male  \\\n",
       "0  22.0    1.0    0.0         A/5 21171   7.2500   NaN           0         1   \n",
       "1  38.0    1.0    0.0          PC 17599  71.2833   C85           1         0   \n",
       "2  26.0    0.0    0.0  STON/O2. 3101282   7.9250   NaN           1         0   \n",
       "\n",
       "   Pclass_1  Pclass_2  Pclass_3  Embarked_C  Embarked_Q  Embarked_S  \n",
       "0         0         0         1           0           0           1  \n",
       "1         1         0         0           1           0           0  \n",
       "2         0         0         1           0           0           1  "
      ]
     },
     "execution_count": 9,
     "metadata": {},
     "output_type": "execute_result"
    }
   ],
   "source": [
    "data.head(3)"
   ]
  },
  {
   "cell_type": "code",
   "execution_count": 10,
   "metadata": {},
   "outputs": [],
   "source": [
    "X_train = data.copy()\n",
    "X_test = testdata.copy()"
   ]
  },
  {
   "cell_type": "code",
   "execution_count": 11,
   "metadata": {},
   "outputs": [],
   "source": [
    "# 사용하지 않을 컬럼을 제거해 준다.\n",
    "def drop_not_concerned(data, columns):\n",
    "    return data.drop(columns, axis=1)\n",
    "\n",
    "not_concerned_columns = [\"PassengerId\", \"Name\", \"Ticket\", \"Cabin\"]\n",
    "X_train = drop_not_concerned(X_train, not_concerned_columns)\n",
    "X_train = X_train.drop('Survived', axis=1)\n",
    "X_test = drop_not_concerned(X_test, not_concerned_columns)"
   ]
  },
  {
   "cell_type": "code",
   "execution_count": 12,
   "metadata": {},
   "outputs": [
    {
     "data": {
      "text/html": [
       "<div>\n",
       "<style scoped>\n",
       "    .dataframe tbody tr th:only-of-type {\n",
       "        vertical-align: middle;\n",
       "    }\n",
       "\n",
       "    .dataframe tbody tr th {\n",
       "        vertical-align: top;\n",
       "    }\n",
       "\n",
       "    .dataframe thead th {\n",
       "        text-align: right;\n",
       "    }\n",
       "</style>\n",
       "<table border=\"1\" class=\"dataframe\">\n",
       "  <thead>\n",
       "    <tr style=\"text-align: right;\">\n",
       "      <th></th>\n",
       "      <th>Age</th>\n",
       "      <th>SibSp</th>\n",
       "      <th>Parch</th>\n",
       "      <th>Fare</th>\n",
       "      <th>Sex_female</th>\n",
       "      <th>Sex_male</th>\n",
       "      <th>Pclass_1</th>\n",
       "      <th>Pclass_2</th>\n",
       "      <th>Pclass_3</th>\n",
       "      <th>Embarked_C</th>\n",
       "      <th>Embarked_Q</th>\n",
       "      <th>Embarked_S</th>\n",
       "    </tr>\n",
       "  </thead>\n",
       "  <tbody>\n",
       "    <tr>\n",
       "      <th>0</th>\n",
       "      <td>22.0</td>\n",
       "      <td>1.0</td>\n",
       "      <td>0.0</td>\n",
       "      <td>7.2500</td>\n",
       "      <td>0</td>\n",
       "      <td>1</td>\n",
       "      <td>0</td>\n",
       "      <td>0</td>\n",
       "      <td>1</td>\n",
       "      <td>0</td>\n",
       "      <td>0</td>\n",
       "      <td>1</td>\n",
       "    </tr>\n",
       "    <tr>\n",
       "      <th>1</th>\n",
       "      <td>38.0</td>\n",
       "      <td>1.0</td>\n",
       "      <td>0.0</td>\n",
       "      <td>71.2833</td>\n",
       "      <td>1</td>\n",
       "      <td>0</td>\n",
       "      <td>1</td>\n",
       "      <td>0</td>\n",
       "      <td>0</td>\n",
       "      <td>1</td>\n",
       "      <td>0</td>\n",
       "      <td>0</td>\n",
       "    </tr>\n",
       "    <tr>\n",
       "      <th>2</th>\n",
       "      <td>26.0</td>\n",
       "      <td>0.0</td>\n",
       "      <td>0.0</td>\n",
       "      <td>7.9250</td>\n",
       "      <td>1</td>\n",
       "      <td>0</td>\n",
       "      <td>0</td>\n",
       "      <td>0</td>\n",
       "      <td>1</td>\n",
       "      <td>0</td>\n",
       "      <td>0</td>\n",
       "      <td>1</td>\n",
       "    </tr>\n",
       "  </tbody>\n",
       "</table>\n",
       "</div>"
      ],
      "text/plain": [
       "    Age  SibSp  Parch     Fare  Sex_female  Sex_male  Pclass_1  Pclass_2  \\\n",
       "0  22.0    1.0    0.0   7.2500           0         1         0         0   \n",
       "1  38.0    1.0    0.0  71.2833           1         0         1         0   \n",
       "2  26.0    0.0    0.0   7.9250           1         0         0         0   \n",
       "\n",
       "   Pclass_3  Embarked_C  Embarked_Q  Embarked_S  \n",
       "0         1           0           0           1  \n",
       "1         0           1           0           0  \n",
       "2         1           0           0           1  "
      ]
     },
     "execution_count": 12,
     "metadata": {},
     "output_type": "execute_result"
    }
   ],
   "source": [
    "X_train.head(3)"
   ]
  },
  {
   "cell_type": "code",
   "execution_count": 13,
   "metadata": {},
   "outputs": [
    {
     "data": {
      "text/html": [
       "<div>\n",
       "<style scoped>\n",
       "    .dataframe tbody tr th:only-of-type {\n",
       "        vertical-align: middle;\n",
       "    }\n",
       "\n",
       "    .dataframe tbody tr th {\n",
       "        vertical-align: top;\n",
       "    }\n",
       "\n",
       "    .dataframe thead th {\n",
       "        text-align: right;\n",
       "    }\n",
       "</style>\n",
       "<table border=\"1\" class=\"dataframe\">\n",
       "  <thead>\n",
       "    <tr style=\"text-align: right;\">\n",
       "      <th></th>\n",
       "      <th>Age</th>\n",
       "      <th>SibSp</th>\n",
       "      <th>Parch</th>\n",
       "      <th>Fare</th>\n",
       "      <th>Sex_female</th>\n",
       "      <th>Sex_male</th>\n",
       "      <th>Pclass_1</th>\n",
       "      <th>Pclass_2</th>\n",
       "      <th>Pclass_3</th>\n",
       "      <th>Embarked_C</th>\n",
       "      <th>Embarked_Q</th>\n",
       "      <th>Embarked_S</th>\n",
       "    </tr>\n",
       "  </thead>\n",
       "  <tbody>\n",
       "    <tr>\n",
       "      <th>0</th>\n",
       "      <td>34.5</td>\n",
       "      <td>0.0</td>\n",
       "      <td>0.0</td>\n",
       "      <td>7.8292</td>\n",
       "      <td>0</td>\n",
       "      <td>1</td>\n",
       "      <td>0</td>\n",
       "      <td>0</td>\n",
       "      <td>1</td>\n",
       "      <td>0</td>\n",
       "      <td>1</td>\n",
       "      <td>0</td>\n",
       "    </tr>\n",
       "    <tr>\n",
       "      <th>1</th>\n",
       "      <td>47.0</td>\n",
       "      <td>1.0</td>\n",
       "      <td>0.0</td>\n",
       "      <td>7.0000</td>\n",
       "      <td>1</td>\n",
       "      <td>0</td>\n",
       "      <td>0</td>\n",
       "      <td>0</td>\n",
       "      <td>1</td>\n",
       "      <td>0</td>\n",
       "      <td>0</td>\n",
       "      <td>1</td>\n",
       "    </tr>\n",
       "    <tr>\n",
       "      <th>2</th>\n",
       "      <td>62.0</td>\n",
       "      <td>0.0</td>\n",
       "      <td>0.0</td>\n",
       "      <td>9.6875</td>\n",
       "      <td>0</td>\n",
       "      <td>1</td>\n",
       "      <td>0</td>\n",
       "      <td>1</td>\n",
       "      <td>0</td>\n",
       "      <td>0</td>\n",
       "      <td>1</td>\n",
       "      <td>0</td>\n",
       "    </tr>\n",
       "    <tr>\n",
       "      <th>3</th>\n",
       "      <td>27.0</td>\n",
       "      <td>0.0</td>\n",
       "      <td>0.0</td>\n",
       "      <td>8.6625</td>\n",
       "      <td>0</td>\n",
       "      <td>1</td>\n",
       "      <td>0</td>\n",
       "      <td>0</td>\n",
       "      <td>1</td>\n",
       "      <td>0</td>\n",
       "      <td>0</td>\n",
       "      <td>1</td>\n",
       "    </tr>\n",
       "    <tr>\n",
       "      <th>4</th>\n",
       "      <td>22.0</td>\n",
       "      <td>1.0</td>\n",
       "      <td>1.0</td>\n",
       "      <td>12.2875</td>\n",
       "      <td>1</td>\n",
       "      <td>0</td>\n",
       "      <td>0</td>\n",
       "      <td>0</td>\n",
       "      <td>1</td>\n",
       "      <td>0</td>\n",
       "      <td>0</td>\n",
       "      <td>1</td>\n",
       "    </tr>\n",
       "  </tbody>\n",
       "</table>\n",
       "</div>"
      ],
      "text/plain": [
       "    Age  SibSp  Parch     Fare  Sex_female  Sex_male  Pclass_1  Pclass_2  \\\n",
       "0  34.5    0.0    0.0   7.8292           0         1         0         0   \n",
       "1  47.0    1.0    0.0   7.0000           1         0         0         0   \n",
       "2  62.0    0.0    0.0   9.6875           0         1         0         1   \n",
       "3  27.0    0.0    0.0   8.6625           0         1         0         0   \n",
       "4  22.0    1.0    1.0  12.2875           1         0         0         0   \n",
       "\n",
       "   Pclass_3  Embarked_C  Embarked_Q  Embarked_S  \n",
       "0         1           0           1           0  \n",
       "1         1           0           0           1  \n",
       "2         0           0           1           0  \n",
       "3         1           0           0           1  \n",
       "4         1           0           0           1  "
      ]
     },
     "execution_count": 13,
     "metadata": {},
     "output_type": "execute_result"
    }
   ],
   "source": [
    "X_test.head()"
   ]
  },
  {
   "cell_type": "code",
   "execution_count": 14,
   "metadata": {},
   "outputs": [],
   "source": [
    "# 'Survived' is the label of one class,\n",
    "# add 'Deceased' as the other class\n",
    "data['Deceased'] = data['Survived'].apply(lambda s: 1 - s)\n",
    "\n",
    "# select features and labels for training\n",
    "# dataset_X = data[['Sex', 'Age', 'Pclass', 'SibSp', 'Parch', 'Fare']].as_matrix()\n",
    "dataset_X = X_train.as_matrix()\n",
    "dataset_Y = data[['Deceased', 'Survived']].as_matrix()\n",
    "\n",
    "# split training data and validation set data\n",
    "X_train, X_val, y_train, y_val = train_test_split(dataset_X, dataset_Y,\n",
    "                                                  test_size = 0.2,\n",
    "                                                  random_state = 2018)\n",
    "\n",
    "# X_test = testdata[['Sex', 'Age', 'Pclass', 'SibSp', 'Parch', 'Fare']]"
   ]
  },
  {
   "cell_type": "code",
   "execution_count": 15,
   "metadata": {},
   "outputs": [
    {
     "data": {
      "text/plain": [
       "(712, 12)"
      ]
     },
     "execution_count": 15,
     "metadata": {},
     "output_type": "execute_result"
    }
   ],
   "source": [
    "X_train.shape"
   ]
  },
  {
   "cell_type": "code",
   "execution_count": 16,
   "metadata": {},
   "outputs": [
    {
     "data": {
      "text/plain": [
       "(418, 12)"
      ]
     },
     "execution_count": 16,
     "metadata": {},
     "output_type": "execute_result"
    }
   ],
   "source": [
    "X_test.shape"
   ]
  },
  {
   "cell_type": "markdown",
   "metadata": {},
   "source": [
    "## Constructing Dataflow Graph"
   ]
  },
  {
   "cell_type": "code",
   "execution_count": 26,
   "metadata": {},
   "outputs": [],
   "source": [
    "tf.set_random_seed(2018)\n",
    "\n",
    "# create symbolic variables\n",
    "# shape에 None을 지정해 주면 넘겨주는 피처 행의 갯수가 되며 피처의 columns수를 지정해 준다.\n",
    "X = tf.placeholder(tf.float32, shape=[None, X_train.shape[1]])\n",
    "y = tf.placeholder(tf.float32, shape=[None, 2])\n",
    "\n",
    "# Variable은 TensorFlow의 상호작용하는 작업 그래프들간에 유지되는 변경 가능한 텐서\n",
    "# weights and bias are the variables to be trained\n",
    "weights = tf.Variable(\n",
    "    tf.random_normal([X_train.shape[1], 2]), \n",
    "    name='weights')\n",
    "bias = tf.Variable(tf.zeros([2]), name='bias')\n",
    "y_pred = tf.nn.softmax(tf.matmul(X, weights) + bias)\n",
    "\n",
    "# 크로스 엔트로피 최소화\n",
    "# Minimise cost using cross entropy\n",
    "# NOTE: add a epsilon(1e-10) when calculate log(y_pred),\n",
    "# otherwise the result will be -inf\n",
    "cross_entropy = - tf.reduce_sum(y * tf.log(y_pred + 1e-10),\n",
    "                                reduction_indices=1)\n",
    "cost = tf.reduce_mean(cross_entropy)\n",
    "\n",
    "# use gradient descent optimizer to minimize cost\n",
    "# 그라디언트디센트를 사용해 cost를 최소화하는 최적점을 찾는다.\n",
    "train_op = tf.train.GradientDescentOptimizer(0.001).minimize(cost)\n",
    "\n",
    "# 정확도를 계산                                                                          \n",
    "# calculate accuracy\n",
    "correct_pred = tf.equal(tf.argmax(y, 1), tf.argmax(y_pred, 1))\n",
    "acc_op = tf.reduce_mean(tf.cast(correct_pred, tf.float32))"
   ]
  },
  {
   "cell_type": "markdown",
   "metadata": {},
   "source": [
    "## Training and Evaluating the model"
   ]
  },
  {
   "cell_type": "code",
   "execution_count": 51,
   "metadata": {},
   "outputs": [
    {
     "name": "stdout",
     "output_type": "stream",
     "text": [
      "Epoch: 0001, total loss=4574.452066221\n",
      "Epoch: 0021, total loss=899.816097019\n",
      "Epoch: 0041, total loss=926.288102589\n",
      "Epoch: 0061, total loss=921.625716744\n",
      "Epoch: 0081, total loss=959.405456362\n",
      "Epoch: 0101, total loss=991.706185612\n",
      "Epoch: 0121, total loss=976.904116947\n",
      "Epoch: 0141, total loss=981.241350566\n",
      "Epoch: 0161, total loss=976.357180019\n",
      "Epoch: 0181, total loss=971.613601407\n",
      "Accuracy on validation set: 0.810055852\n",
      "Accuracy on validation set (numpy): 0.810055852\n"
     ]
    }
   ],
   "source": [
    "x_collect = []\n",
    "train_loss_collect = []\n",
    "\n",
    "# use session to run the calculation\n",
    "with tf.Session() as sess:\n",
    "    # variables have to be initialized at the first place\n",
    "    tf.global_variables_initializer().run()\n",
    "\n",
    "    # training loop\n",
    "    for epoch in range(200):\n",
    "        total_loss = 0.\n",
    "        for i in range(len(X_train)):\n",
    "            # prepare feed data and run\n",
    "            feed_dict = {X: [X_train[i]], y: [y_train[i]]}\n",
    "            _, loss = sess.run([train_op, cost], feed_dict=feed_dict)\n",
    "            total_loss += loss\n",
    "            \n",
    "        x_collect.append(epoch)\n",
    "        train_loss_collect.append(total_loss)\n",
    "        \n",
    "        # display loss per 20 epoch\n",
    "        if epoch % 20 == 0:\n",
    "            print('Epoch: %04d, total loss=%.9f' % (epoch + 1, total_loss))\n",
    "\n",
    "    # Accuracy calculated by TensorFlow\n",
    "    # 텐서플로우로 정확도 측정\n",
    "    accuracy = sess.run(acc_op, feed_dict={X: X_val, y: y_val})\n",
    "    print(\"Accuracy on validation set: %.9f\" % accuracy)\n",
    "\n",
    "    # Accuracy calculated by NumPy\n",
    "    # 넘파이로 정확도를 측정\n",
    "    pred = sess.run(y_pred, feed_dict={X: X_val})\n",
    "    correct = np.equal(np.argmax(pred, 1), np.argmax(y_val, 1))\n",
    "    numpy_accuracy = np.mean(correct.astype(np.float32))\n",
    "    print(\"Accuracy on validation set (numpy): %.9f\" % numpy_accuracy)\n",
    "\n",
    "    # predict on test data\n",
    "    # 테스트 데이터 예측\n",
    "    predictions = np.argmax(sess.run(y_pred, feed_dict={X: X_test}), 1)\n",
    "    submission = pd.DataFrame({\n",
    "        \"PassengerId\": testdata[\"PassengerId\"],\n",
    "        \"Survived\": predictions\n",
    "    })"
   ]
  },
  {
   "cell_type": "code",
   "execution_count": 53,
   "metadata": {},
   "outputs": [
    {
     "data": {
      "text/plain": [
       "[<matplotlib.lines.Line2D at 0x127067048>]"
      ]
     },
     "execution_count": 53,
     "metadata": {},
     "output_type": "execute_result"
    },
    {
     "data": {
      "image/png": "[encoded data removed]",
      "text/plain": [
       "<matplotlib.figure.Figure at 0x127f426a0>"
      ]
     },
     "metadata": {},
     "output_type": "display_data"
    }
   ],
   "source": [
    "import matplotlib.pyplot as plt\n",
    "%matplotlib inline\n",
    "plt.plot(x_collect, train_loss_collect, \"r--\")"
   ]
  },
  {
   "cell_type": "code",
   "execution_count": 48,
   "metadata": {},
   "outputs": [],
   "source": [
    "submission.to_csv(\"submission/tf-basic-submission-{:.5f}.csv\".format(accuracy), index=False)"
   ]
  },
  {
   "cell_type": "markdown",
   "metadata": {},
   "source": [
    "* 카테고리 데이터를 one-hot-encoding 하지 않았을 때 \n",
    "    * Accuracy on validation set: 0.726256967\n",
    "    * Accuracy on validation set (numpy): 0.726256967\n",
    "    * loss=839.440196298\n",
    "    \n",
    "* 카테고리 데이터를 one-hot-encoding 했을 때 캐글 스코어 0.69856\n",
    "    * Accuracy on validation set: 0.787709475\n",
    "    * Accuracy on validation set (numpy): 0.787709475\n",
    "    * loss=939.316331230"
   ]
  },
  {
   "cell_type": "code",
   "execution_count": null,
   "metadata": {},
   "outputs": [],
   "source": [
    "# 캐글 API를 설치하고 Auth 인증해야 사용할 수 있다.\n",
    "# 제출한 서브미션 목록\n",
    "!kaggle competitions submissions -c titanic"
   ]
  },
  {
   "cell_type": "code",
   "execution_count": null,
   "metadata": {},
   "outputs": [],
   "source": []
  }
 ],
 "metadata": {
  "kernelspec": {
   "display_name": "Python 3",
   "language": "python",
   "name": "python3"
  },
  "language_info": {
   "codemirror_mode": {
    "name": "ipython",
    "version": 3
   },
   "file_extension": ".py",
   "mimetype": "text/x-python",
   "name": "python",
   "nbconvert_exporter": "python",
   "pygments_lexer": "ipython3",
   "version": "3.6.1"
  }
 },
 "nbformat": 4,
 "nbformat_minor": 2
}
